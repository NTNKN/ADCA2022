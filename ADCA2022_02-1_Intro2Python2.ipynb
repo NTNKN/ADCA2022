{
 "cells": [
  {
   "cell_type": "markdown",
   "metadata": {
    "slideshow": {
     "slide_type": "slide"
    }
   },
   "source": [
    "# データ解析特論 2022年度水曜２限\n",
    "\n",
    "# 第2回 その1 Python 入門のつづき"
   ]
  },
  {
   "cell_type": "markdown",
   "metadata": {
    "slideshow": {
     "slide_type": "slide"
    }
   },
   "source": [
    "## 配列のスライス"
   ]
  },
  {
   "cell_type": "code",
   "execution_count": null,
   "metadata": {
    "slideshow": {
     "slide_type": "subslide"
    }
   },
   "outputs": [],
   "source": [
    "char = 'Meiji University'\n",
    "print('文字数は %d 字'%len(char))"
   ]
  },
  {
   "cell_type": "markdown",
   "metadata": {
    "slideshow": {
     "slide_type": "subslide"
    }
   },
   "source": [
    "コロン演算子 `:` を用いて配列に格納されている値を部分的に抽出できる（スライス）"
   ]
  },
  {
   "cell_type": "code",
   "execution_count": null,
   "metadata": {},
   "outputs": [],
   "source": [
    "print(char[0:1])\n",
    "print(char[0:2])\n",
    "print(char[0:3])\n",
    "print(char[0:4])\n",
    "print(char[0:5])\n",
    "print(char[0:6])\n",
    "print(char[0:7])\n",
    "print(char[0:8])"
   ]
  },
  {
   "cell_type": "markdown",
   "metadata": {
    "slideshow": {
     "slide_type": "subslide"
    }
   },
   "source": [
    "配列のスライスは `char[start:end]` の形で指定する．このとき，`start` 番目の要素から `end-1` 番目の要素が切り出される．\n",
    "\n",
    "\n",
    "$$\n",
    "\\begin{array}{cccccccccccccccccccccccccccccc}\n",
    "| & \\mbox M & | & \\mbox e & | & \\mbox i & | & \\mbox j & | & \\mbox i & | & \\mbox{ }  & | & \\mbox U & | & \\mbox n & | & \\mbox i & | & \\mbox v & | & \\mbox e & | & \\mbox r & | & \\mbox s & | & \\mbox i & | & \\mbox t & | & \\mbox y & | \\\\\n",
    "0 & & 1 & & 2 & & 3 & & 4 & & 5 & & 6 & & 7 & & 8 & & 9 & & 10 & & 11 & & 12 & & 13 & & 14 & & 15 & & 16\n",
    "\\end{array}\n",
    "$$\n",
    "\n"
   ]
  },
  {
   "cell_type": "markdown",
   "metadata": {
    "slideshow": {
     "slide_type": "subslide"
    }
   },
   "source": [
    "以下のようにするとどうなるだろうか．"
   ]
  },
  {
   "cell_type": "code",
   "execution_count": null,
   "metadata": {},
   "outputs": [],
   "source": [
    "print(char[0:8:2])"
   ]
  },
  {
   "cell_type": "markdown",
   "metadata": {},
   "source": [
    "スライスに3つ数字を指定すると `char[start:end:step]` のようになり，`step` 数おきに要素を取得する．"
   ]
  },
  {
   "cell_type": "code",
   "execution_count": null,
   "metadata": {
    "slideshow": {
     "slide_type": "subslide"
    }
   },
   "outputs": [],
   "source": [
    "print(char[:8]) # start を省略すると 0 として扱う\n",
    "print(char[4:]) # end を省略すると最後まで表示\n",
    "print(char[5:2]) # start < end でないといけない\n",
    "print(char[5:200]) # 文字数より大きな番号をスライスで指定しても意味はない"
   ]
  },
  {
   "cell_type": "code",
   "execution_count": null,
   "metadata": {},
   "outputs": [],
   "source": [
    "# 最後から何番目という形でもスライスを指定可能\n",
    "print(char[:-2]) \n",
    "print(char[:len(char)-2]) # 両者は同じ"
   ]
  },
  {
   "cell_type": "code",
   "execution_count": null,
   "metadata": {},
   "outputs": [],
   "source": [
    "print(char[-8:-3]) #　両方負にしてもよい"
   ]
  },
  {
   "cell_type": "markdown",
   "metadata": {
    "slideshow": {
     "slide_type": "slide"
    }
   },
   "source": [
    "## 反復処理\n",
    "\n",
    "### for 文を用いて繰り返し処理をおこなう"
   ]
  },
  {
   "cell_type": "code",
   "execution_count": null,
   "metadata": {
    "slideshow": {
     "slide_type": "subslide"
    }
   },
   "outputs": [],
   "source": [
    "# リストの要素を一つずつ取り出して処理する\n",
    "words = ['pen', 'book', 'car', 'desk']\n",
    "for w in words:\n",
    "    print(w)"
   ]
  },
  {
   "cell_type": "markdown",
   "metadata": {},
   "source": [
    "for 文では最初にどのルールで反復させるかを書き，`:` を末尾に書く  \n",
    "処理内容はインデント（字下げ）して記入する  \n",
    "インデントを戻すと for 文の処理の外になる"
   ]
  },
  {
   "cell_type": "code",
   "execution_count": null,
   "metadata": {
    "slideshow": {
     "slide_type": "subslide"
    }
   },
   "outputs": [],
   "source": [
    "words = ['pen', 'book', 'car', 'desk']\n",
    "for w in words:\n",
    "    print(w)\n",
    "print(len(w)) # インデントした部分までが一つのかたまり\n",
    "print('Hello')"
   ]
  },
  {
   "cell_type": "code",
   "execution_count": null,
   "metadata": {},
   "outputs": [],
   "source": [
    "words = ['pen', 'book', 'car', 'desk']\n",
    "for w in words:\n",
    "    print(w)\n",
    "print(len(w)) # インデントしない\n",
    "print('Hello')"
   ]
  },
  {
   "cell_type": "markdown",
   "metadata": {},
   "source": [
    "上の場合，`print(len(w))` で出力されるのは，最後に `w` に代入された `desk` の文字数となる．"
   ]
  },
  {
   "cell_type": "code",
   "execution_count": null,
   "metadata": {
    "slideshow": {
     "slide_type": "subslide"
    }
   },
   "outputs": [],
   "source": [
    "words = ['pen', 'book', 'car', 'desk']\n",
    "for w in words:\n",
    "    print('abc') # 別に words リストの要素に関係しない処理でも構わない"
   ]
  },
  {
   "cell_type": "code",
   "execution_count": null,
   "metadata": {},
   "outputs": [],
   "source": [
    "wordsandcolors = [['pen', 'red'], ['book', 'gray'], ['car', 'white'], ['desk', 'brown']]\n",
    "for w, c in wordsandcolors:\n",
    "    print('%4s: %5s'%(w, c))\n"
   ]
  },
  {
   "cell_type": "code",
   "execution_count": null,
   "metadata": {
    "slideshow": {
     "slide_type": "subslide"
    }
   },
   "outputs": [],
   "source": [
    "# 回数を指定して反復させることもできる\n",
    "for n in range(10):\n",
    "    print(n)"
   ]
  },
  {
   "cell_type": "code",
   "execution_count": null,
   "metadata": {
    "slideshow": {
     "slide_type": "subslide"
    }
   },
   "outputs": [],
   "source": [
    "# 始まりの数字を指定できる\n",
    "for n in range(3, 8):\n",
    "    print(n)"
   ]
  },
  {
   "cell_type": "code",
   "execution_count": null,
   "metadata": {
    "slideshow": {
     "slide_type": "subslide"
    }
   },
   "outputs": [],
   "source": [
    "# start >= end だと何も実行されない\n",
    "for n in range(5, 1):\n",
    "    print(n)"
   ]
  },
  {
   "cell_type": "markdown",
   "metadata": {},
   "source": [
    "range関数を使って `range(start, end)` と指定する場合は `start < end` でないと実行されない． これは，`start` から始めて `1` ずつ増やし，`end` を下回る間処理を続ける命令．始めから `end` を下回っていないので，処理がされないというわけ．"
   ]
  },
  {
   "cell_type": "code",
   "execution_count": null,
   "metadata": {
    "slideshow": {
     "slide_type": "subslide"
    }
   },
   "outputs": [],
   "source": [
    "# n はとびとびの値で取ることもできる\n",
    "for n in range(1, 111, 10):\n",
    "    print(n)"
   ]
  },
  {
   "cell_type": "markdown",
   "metadata": {},
   "source": [
    "`for n in range(a, b, c)` としたら， \n",
    "`a` から始めて `c` おきに `b` を下回る値だけ反復処理されるということ"
   ]
  },
  {
   "cell_type": "code",
   "execution_count": null,
   "metadata": {
    "slideshow": {
     "slide_type": "subslide"
    }
   },
   "outputs": [],
   "source": [
    "# list 関数を用いて range 関数が作る番号のリストを見てみるとわかりやすい\n",
    "print(list(range(10)))\n",
    "print(list(range(5, 1)))\n",
    "print(list(range(1, 102, 10)))"
   ]
  },
  {
   "cell_type": "code",
   "execution_count": null,
   "metadata": {
    "slideshow": {
     "slide_type": "subslide"
    }
   },
   "outputs": [],
   "source": [
    "# k! (kの階乗)\n",
    "k = 6\n",
    "factorial = 1\n",
    "for n in range(2, k+1):\n",
    "    factorial *= n\n",
    "\n",
    "print('%d! = %d'%(k, factorial))"
   ]
  },
  {
   "cell_type": "markdown",
   "metadata": {
    "slideshow": {
     "slide_type": "slide"
    }
   },
   "source": [
    "### 二重ループ"
   ]
  },
  {
   "cell_type": "code",
   "execution_count": null,
   "metadata": {
    "slideshow": {
     "slide_type": "subslide"
    }
   },
   "outputs": [],
   "source": [
    "# for 文の入れ子\n",
    "for n in range(3):\n",
    "    for m in range(5):\n",
    "        print('n=%d, m=%d'%(n, m))\n",
    "    print() # 空白行を出力"
   ]
  },
  {
   "cell_type": "markdown",
   "metadata": {
    "slideshow": {
     "slide_type": "slide"
    }
   },
   "source": [
    "## 条件分岐\n",
    "\n",
    "if 文を用いて，条件に応じて処理を変える"
   ]
  },
  {
   "cell_type": "code",
   "execution_count": null,
   "metadata": {},
   "outputs": [],
   "source": [
    "x = 1.2\n",
    "if x > 0:\n",
    "    print('x is positive.') # 条件を満たす場合はその中の処理が実行される\n"
   ]
  },
  {
   "cell_type": "code",
   "execution_count": null,
   "metadata": {},
   "outputs": [],
   "source": [
    "x = 0.2\n",
    "if x > 0:\n",
    "    print('x is positive.') # 条件を満たす場合はその中の処理が実行される\n",
    "else:\n",
    "    print('x is non-positive.')"
   ]
  },
  {
   "cell_type": "code",
   "execution_count": null,
   "metadata": {
    "slideshow": {
     "slide_type": "subslide"
    }
   },
   "outputs": [],
   "source": [
    "x = 0.\n",
    "if x > 0:\n",
    "    print('x is positive.') # 条件を満たす場合はその中の処理が実行される\n",
    "elif x < 0:\n",
    "    print('x is negative.')\n",
    "else:\n",
    "    print('x is zero.')"
   ]
  },
  {
   "cell_type": "code",
   "execution_count": null,
   "metadata": {
    "slideshow": {
     "slide_type": "subslide"
    }
   },
   "outputs": [],
   "source": [
    "# 値が一致しているかどうかを調べるには比較演算子 == を用いる\n",
    "x = 1\n",
    "if x == 0:\n",
    "    print('x is zero.')\n",
    "else:\n",
    "    print('x is not zero.')"
   ]
  },
  {
   "cell_type": "code",
   "execution_count": null,
   "metadata": {
    "slideshow": {
     "slide_type": "subslide"
    }
   },
   "outputs": [],
   "source": [
    "# 値が異なるかどうかを調べるには比較演算子 != を用いる\n",
    "x = 0\n",
    "if x != 0:\n",
    "    print('x is not zero.')\n",
    "else:\n",
    "    print('x is zero.')"
   ]
  },
  {
   "cell_type": "code",
   "execution_count": null,
   "metadata": {
    "slideshow": {
     "slide_type": "subslide"
    }
   },
   "outputs": [],
   "source": [
    "A = [1, 3, 7]\n",
    "for n in range(7):\n",
    "    if n in A:\n",
    "        print(n)"
   ]
  },
  {
   "cell_type": "code",
   "execution_count": null,
   "metadata": {
    "slideshow": {
     "slide_type": "subslide"
    }
   },
   "outputs": [],
   "source": [
    "for n in range(100):\n",
    "    if n%2 == 0:\n",
    "        if n%7 == 0:\n",
    "            print(n)"
   ]
  },
  {
   "cell_type": "code",
   "execution_count": null,
   "metadata": {
    "slideshow": {
     "slide_type": "subslide"
    }
   },
   "outputs": [],
   "source": [
    "for n in range(100):\n",
    "    if n%2 == 0 and n%7==0:\n",
    "        print(n)"
   ]
  },
  {
   "cell_type": "markdown",
   "metadata": {
    "slideshow": {
     "slide_type": "slide"
    }
   },
   "source": [
    "<h3><div style=\"text-align: right;\">以上</div></h3>"
   ]
  }
 ],
 "metadata": {
  "celltoolbar": "Slideshow",
  "hide_input": false,
  "kernelspec": {
   "display_name": "Python 3 (ipykernel)",
   "language": "python",
   "name": "python3"
  },
  "language_info": {
   "codemirror_mode": {
    "name": "ipython",
    "version": 3
   },
   "file_extension": ".py",
   "mimetype": "text/x-python",
   "name": "python",
   "nbconvert_exporter": "python",
   "pygments_lexer": "ipython3",
   "version": "3.7.9"
  }
 },
 "nbformat": 4,
 "nbformat_minor": 2
}
