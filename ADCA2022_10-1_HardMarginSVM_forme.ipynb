{
 "cells": [
  {
   "cell_type": "markdown",
   "metadata": {},
   "source": [
    "# データ解析特論 2022年度水曜２限\n",
    "\n",
    "# 第10回 その1 ハードマージンSVMで線形分離"
   ]
  },
  {
   "cell_type": "code",
   "execution_count": 2,
   "metadata": {},
   "outputs": [],
   "source": [
    "import numpy as np\n",
    "import matplotlib.pyplot as plt\n",
    "from sklearn.metrics import confusion_matrix"
   ]
  },
  {
   "cell_type": "markdown",
   "metadata": {},
   "source": [
    "## データ\n",
    "\n",
    "サイズ $N$ の平面データ $(x_n^{(1)}, \\ x_n^{(2)})$ を乱数で生成し，そのラベルを\n",
    "- ラベル $y_n \\in \\{1, \\ -1\\}$\n",
    "    - $x_1 < x_2$ だとラベル 1\n",
    "    - $x_1 > x_2$ だとラベル -1\n",
    "として作る．\n",
    "\n",
    "まずは線形分離できるデータに対してハードマージンSVMを試そう．"
   ]
  },
  {
   "cell_type": "code",
   "execution_count": 8,
   "metadata": {},
   "outputs": [
    {
     "data": {
      "text/plain": [
       "<matplotlib.legend.Legend at 0x7f82a85564d0>"
      ]
     },
     "execution_count": 8,
     "metadata": {},
     "output_type": "execute_result"
    },
    {
     "data": {
      "image/png": "[encoded data removed]",
      "text/plain": [
       "<Figure size 200x200 with 1 Axes>"
      ]
     },
     "metadata": {},
     "output_type": "display_data"
    }
   ],
   "source": [
    "# サンプルサイズ\n",
    "N = 20\n",
    "\n",
    "# seed\n",
    "np.random.seed(seed=2222)\n",
    "\n",
    "# X\n",
    "X = np.random.rand(N, 2)\n",
    "\n",
    "# x_1 > x_2 ならラベルは -1\n",
    "Y = np.ones(N)\n",
    "Y[X[:, 0]>X[:, 1]] = -1\n",
    "\n",
    "# scatter plot\n",
    "fig, ax = plt.subplots(figsize=(2, 2))\n",
    "ax.scatter(X[:, 0][Y== 1], X[:, 1][Y== 1], s=20, c='tab:blue', label=r'$Y= 1$')\n",
    "ax.scatter(X[:, 0][Y==-1], X[:, 1][Y==-1], s=20, c='tab:orange', label=r'$Y=-1$')\n",
    "ax.plot([0, 1], [0, 1], 'k:')\n",
    "ax.legend(bbox_to_anchor=(1, 1))"
   ]
  },
  {
   "cell_type": "markdown",
   "metadata": {},
   "source": [
    "## ハードマージンSVM\n",
    "\n",
    "分離直線を $a^{(0)} + \\mathbf x \\mathbf A = 0$ とする．\n",
    "\n",
    "拘束条件\n",
    "$$\n",
    "g_n(\\mathbf A, \\ a^{(0)}) \n",
    "= 1 - y_{n} \\left(a^{(0)} + \\mathbf x_{n} \\mathbf A \\right) \\le 0\n",
    "\\quad (n = 1, \\ 2, \\ \\ldots, \\ N)\n",
    "$$\n",
    "の下で\n",
    "$$\n",
    "f(\\mathbf A, \\ a^{(0)}) = \\frac12\\|\\mathbf A\\|^2\n",
    "$$\n",
    "最大化する問題を考える．"
   ]
  },
  {
   "cell_type": "markdown",
   "metadata": {},
   "source": [
    "## KKT条件\n",
    "\n",
    "KKT条件から\n",
    "$$\n",
    "\\Phi(\\mathbf A, a^{(0)}, \\boldsymbol\\lambda)\n",
    "= f(\\mathbf A, a^{(0)})\n",
    "+ \\sum_{n=1}^N \\lambda_n \\, g_n (\\mathbf A, a^{(0)})\n",
    "$$\n",
    "の停留点を求める問題に帰着される．すなわち，\n",
    "$$\n",
    "\\begin{cases}\n",
    "\\displaystyle\n",
    "-\\nabla f(\\mathbf A, a^{(0)})\n",
    "= \\sum_{n=1}^N \\lambda_n \\nabla g_n(\\mathbf A, a^{(0)})\n",
    "\\\\\n",
    "\\lambda_n \\ge 0, \\quad\n",
    "\\lambda_n \\, g_n(\\mathbf A, a^{(0)}) = 0 \n",
    "\\quad (n=1, \\ 2, \\ \\ldots, \\ N)\n",
    "\\end{cases}\n",
    "$$\n",
    "を解く．"
   ]
  },
  {
   "cell_type": "markdown",
   "metadata": {},
   "source": [
    "## 双対問題\n",
    "\n",
    "KKT条件から\n",
    "$$\n",
    "\\mathbf A = \\sum_{n=1}^N \\lambda_n \\, y_{n} \\, \\mathbf x_n^{\\mathrm T}\n",
    "=: \\mathbf A_{\\boldsymbol\\lambda}\n",
    "$$\n",
    "と $\\mathbf A$ を $\\boldsymbol\\lambda$ によって表すことができる．これを $\\Phi$ に代入すると\n",
    "$$\n",
    "\\Psi(\\boldsymbol\\lambda) := \\Phi(\\mathbf A_{\\boldsymbol\\lambda}, \\ a^{(0)}, \\ \\boldsymbol\\lambda)\n",
    "= -\\frac12 \\sum_{n=1}^N \\sum_{n'=1}^N \\lambda_n \\, \\lambda_{n'} \\, y_{n} \\, y_{n'} \\, \\mathbf x_n \\, \\mathbf x_{n'}^{\\mathrm T} \n",
    "+ \\sum_{n=1}^N \\lambda_n \n",
    "$$\n",
    "を得る．この $\\Psi(\\boldsymbol\\lambda)$ の最大点を\n",
    "$$\n",
    "\\lambda_n \\ge 0 \\quad (n=1, \\ 2, \\ \\ldots, \\ N), \\quad\n",
    "\\sum_{n=1}^N \\lambda_n \\, y_n= 0\n",
    "$$\n",
    "の範囲で解く．"
   ]
  },
  {
   "cell_type": "markdown",
   "metadata": {},
   "source": [
    "## 解法\n",
    "\n",
    "双対問題は $-\\Psi(\\lambda)$ が凸なので，勾配降下法で解くことができる．\n",
    "\n",
    "1. $\\boldsymbol\\lambda \\leftarrow \\boldsymbol\\lambda + \\eta\\nabla\\Psi$ によって $\\boldsymbol\\lambda$ を更新する．\n",
    "1. $\\sum_{n=1}^N \\lambda_n \\, y_n= 0$ となるように，$\\lambda_{n} > 0$ なる $n$ を選んで修正する．\n",
    "1. この $\\boldsymbol\\lambda$ に対して，$\\lambda_n < 0$ となっていたら $\\lambda_n =0$ と置き直す．\n",
    "1. 収束するまで 1 に戻って繰り返す．"
   ]
  },
  {
   "cell_type": "markdown",
   "metadata": {},
   "source": [
    "## 勾配\n",
    "\n",
    "この勾配は\n",
    "$$\n",
    "\\begin{align}\n",
    "&\n",
    "\\frac{\\partial \\Psi}{\\partial \\lambda_k} \n",
    "= \\frac{\\partial}{\\partial \\lambda_k} \\left( -\\frac12 \\sum_{n=1}^N \\sum_{n'=1}^N \\lambda_n \\lambda_{n'} y_n y_{n'} \\mathbf x_n^{\\mathrm T} \\mathbf x_{n'} + \\sum_{n=1}^N \\lambda_n \\right)\n",
    "= -\\frac12 \\sum_{n=1}^N \\sum_{n'=1}^N ( \\delta_{kn} \\lambda_{n'} + \\lambda_n \\delta_{kn'}) y_n y_{n'} \\mathbf x_n^{\\mathrm T} \\mathbf x_{n'} + 1\n",
    "\\\\\n",
    "&\n",
    "\\phantom{\\frac{\\partial \\Psi}{\\partial \\lambda_k} }\n",
    "= -\\frac12 \\sum_{n'=1}^N \\lambda_{n'} y_k y_{n'} \\mathbf x_k^{\\mathrm T} \\mathbf x_{n'}\n",
    "-\\frac12 \\sum_{n=1}^N \\lambda_{n} y_{n} y_{k} \\mathbf x_n^{\\mathrm T} \\mathbf x_{k}\n",
    "+ 1\n",
    "= -\\sum_{n=1}^N \\lambda_{n} y_{n} y_{k} \\mathbf x_n^{\\mathrm T} \\mathbf x_{k}\n",
    "+ 1\n",
    "\\end{align}\n",
    "$$\n",
    "なので，行列 $\\mathbf B = (B_{ij})$\n",
    "$$\n",
    "B_{ij} = y_{n} y_{k} \\mathbf x_n^{\\mathrm T} \\mathbf x_{k}\n",
    "$$\n",
    "と定めておくと，\n",
    "$$\n",
    "\\nabla\\Psi = 1 - \\mathbf B \\boldsymbol\\lambda\n",
    "$$\n",
    "と表すことができる．\n",
    "よって，勾配降下法では\n",
    "$$\n",
    "\\boldsymbol\\lambda^{(i+1)} \\ \\leftarrow \\ \\boldsymbol\\lambda^{(i)} + \\eta \\nabla\\Psi\n",
    "$$\n",
    "の反復で計算する．ただし $\\eta>0$ は学習率．\n",
    "\n",
    "適当な反復の収束判定の閾値 tol を用いて，\n",
    "$$\n",
    "\\|\\boldsymbol\\lambda^{(i+1)}-\\boldsymbol\\lambda^{(i)} \\| < \\mbox{tol}\n",
    "$$\n",
    "となったら反復を停止する．"
   ]
  },
  {
   "cell_type": "markdown",
   "metadata": {},
   "source": [
    "## 計算"
   ]
  },
  {
   "cell_type": "code",
   "execution_count": 12,
   "metadata": {},
   "outputs": [
    {
     "name": "stdout",
     "output_type": "stream",
     "text": [
      "-8.881784197001252e-16\n",
      "[  0.           0.           0.         218.35046647   0.\n",
      "   0.           0.           0.           0.           0.\n",
      "   0.           0.          94.01101549   0.           0.\n",
      "   0.         312.47553761   0.           0.           0.        ]\n",
      "0.00030434011461011323\n",
      "CPU times: user 3.93 s, sys: 95.1 ms, total: 4.03 s\n",
      "Wall time: 3.97 s\n"
     ]
    }
   ],
   "source": [
    "%%time\n",
    "# lambda の初期値\n",
    "lamb = np.ones(N)\n",
    "\n",
    "# lambda_n * y_n の総和が 0 になるように修正\n",
    "lamb -= np.dot(lamb, Y)*Y/np.sum(Y**2)\n",
    "\n",
    "# 確認\n",
    "print(np.sum(Y*lamb))\n",
    "\n",
    "# learning rate\n",
    "eta = 0.01\n",
    "\n",
    "# 勾配降下法 (Gradient Descent) の最大反復回数\n",
    "max_iter = 100000\n",
    "\n",
    "# lamb の収束判定の閾値\n",
    "tol = 1e-6\n",
    "\n",
    "# matrix B\n",
    "B = np.zeros((N, N))\n",
    "for k in range(N):\n",
    "    for n in range(N):\n",
    "        B[k, n] += Y[n]*Y[k]*np.dot(X[n], X[k])\n",
    "\n",
    "### 勾配降下法 ###\n",
    "for i_iter in range(max_iter):\n",
    "    # 前のステップの lambda を格納\n",
    "    lamb_prev = np.copy(lamb)\n",
    "    \n",
    "    # Psi の勾配\n",
    "    grad_Psi = 1.0 - B@lamb\n",
    "    \n",
    "    # 勾配降下法で lambda を更新\n",
    "    lamb += eta*grad_Psi\n",
    "    \n",
    "    # sum(lamb1*Y) = 0 なるように修正\n",
    "    lamb[lamb>0] = lamb[lamb>0] - np.dot(lamb[lamb>0], Y[lamb>0])*Y[lamb>0]/np.sum(Y[lamb>0]**2)\n",
    "    lamb[lamb<0] = 0.0\n",
    "    \n",
    "    # lamb の収束判定\n",
    "    if np.max(np.abs(lamb-lamb_prev)) < tol:\n",
    "        print(i_iter)\n",
    "        break\n",
    "    \n",
    "print(lamb)\n",
    "print(np.max(np.abs(lamb-lamb_prev)))"
   ]
  },
  {
   "cell_type": "markdown",
   "metadata": {},
   "source": [
    "## 結果の可視化"
   ]
  },
  {
   "cell_type": "code",
   "execution_count": 14,
   "metadata": {},
   "outputs": [
    {
     "name": "stdout",
     "output_type": "stream",
     "text": [
      "[-20.78440564  13.30929963]\n",
      "-5.849288504567831\n",
      "-5.8618094335707225\n",
      "-5.901190186090144\n",
      "-5.870762708076232\n"
     ]
    },
    {
     "data": {
      "image/png": "[encoded data removed]",
      "text/plain": [
       "<Figure size 600x400 with 1 Axes>"
      ]
     },
     "metadata": {},
     "output_type": "display_data"
    },
    {
     "name": "stdout",
     "output_type": "stream",
     "text": [
      "[[ 7  0]\n",
      " [ 0 13]]\n"
     ]
    }
   ],
   "source": [
    "# 方程式のパラメータ\n",
    "A = (lamb*Y.reshape(1, -1)@X)[0]\n",
    "print(A)\n",
    "\n",
    "# 方程式の定数項はサポートベクトルでの平均で取る\n",
    "C = 0.0\n",
    "for i in range(X[lamb>0].shape[0]):\n",
    "    print(np.dot(A, X[lamb>0][i]) - Y[lamb>0][i])\n",
    "    C += np.dot(A, X[lamb>0][i]) - Y[lamb>0][i]\n",
    "\n",
    "C /= X[lamb>0].shape[0]\n",
    "print(C)\n",
    "\n",
    "# scatter plot with determining line\n",
    "fig, ax = plt.subplots(figsize=(6, 4))\n",
    "ax.scatter(X[:, 0][Y>0], X[:, 1][Y>0], marker='o', s=50, c='tab:cyan', label=r'$Y=1$')\n",
    "ax.scatter(X[:, 0][Y<0], X[:, 1][Y<0], marker='^', s=50, c='tab:orange', label=r'$Y=-1$')\n",
    "ax.scatter(X[:, 0][lamb>0][Y[lamb>0]>0], X[:, 1][lamb>0][Y[lamb>0]>0], s=10, c='tab:blue', marker='o', zorder=2)\n",
    "ax.scatter(X[:, 0][lamb>0][Y[lamb>0]<0], X[:, 1][lamb>0][Y[lamb>0]<0], s=10, c='tab:red', marker='^', zorder=2)\n",
    "ax.scatter(X[:, 0][lamb>0], X[:, 1][lamb>0], s=50, c='tab:red', marker='x', zorder=2, label='support vector')\n",
    "\n",
    "# A0*X0 + A1*X1 = C <=> X1 = -A0/A1*X0 + C/A1\n",
    "ax.plot([-0.2, 1.2], [C/A[1]-A[0]/A[1]*-0.2, C/A[1]-A[0]/A[1]*1.2], '--', lw=2, c='tab:red', label='Hard Margin SVM')\n",
    "ax.plot([-0.2, 1.2], [-0.2, 1.2], ':k', label='true separating line')\n",
    "\n",
    "ax.legend(bbox_to_anchor=(1.0, 1.0), loc='upper left')\n",
    "ax.set_xlim(-0.2, 1.2)\n",
    "ax.set_ylim(-0.2, 1.2)\n",
    "ax.set_aspect(1)\n",
    "fig.tight_layout()\n",
    "plt.show()\n",
    "\n",
    "# きちんと判定できているか確認\n",
    "Ypred = np.ones(N)\n",
    "Ypred[X@A<C] = -1\n",
    "print(confusion_matrix(Y, Ypred))"
   ]
  },
  {
   "cell_type": "markdown",
   "metadata": {},
   "source": [
    "## ソフトマージンSVM\n",
    "\n",
    "KKT条件から双対問題を導くと，ハードマージンSVMの時と同じ関数を扱うことになる．\n",
    "$$\n",
    "\\Psi(\\boldsymbol\\lambda) \n",
    "= -\\frac12 \\sum_{n=1}^N \\sum_{n'=1}^N \\lambda_n \\, \\lambda_{n'} \\, y_{n} \\, y_{n'} \\, \\mathbf x_n \\, \\mathbf x_{n'}^{\\mathrm T} \n",
    "+ \\sum_{n=1}^N \\lambda_n \n",
    "$$\n",
    "を得る．ただし，$\\Psi(\\boldsymbol\\lambda)$ の最大点を求める範囲は\n",
    "$$\n",
    "0 \\le \\lambda_n \\le \\gamma \\quad (n=1, \\ 2, \\ \\ldots, \\ N), \\quad\n",
    "\\sum_{n=1}^N \\lambda_n \\, y_n= 0\n",
    "$$\n",
    "と制限する．"
   ]
  },
  {
   "cell_type": "markdown",
   "metadata": {},
   "source": [
    "## 解法\n",
    "\n",
    "ハードマージンの時と基本は同じ．3 だけ\n",
    "\n",
    "3. この $\\boldsymbol\\lambda$ に対して，\n",
    "    - $\\lambda_n < 0$ となっていたら $\\lambda_n =0$  と置き直す．\n",
    "    - $\\lambda_n > \\gamma$ となっていたら $\\lambda_n =\\gamma$  と置き直す．\n",
    "\n",
    "に変更する．"
   ]
  },
  {
   "cell_type": "markdown",
   "metadata": {},
   "source": [
    "## データ"
   ]
  },
  {
   "cell_type": "code",
   "execution_count": null,
   "metadata": {},
   "outputs": [],
   "source": [
    "# データサイズ\n",
    "\n",
    "\n",
    "# seed\n",
    "\n",
    "\n",
    "# X\n",
    "\n",
    "\n",
    "# x_1 > x_2 ならラベルは -1\n",
    "\n",
    "\n",
    "# データをずらす\n",
    "\n",
    "\n",
    "# scatter plot\n",
    "\n"
   ]
  },
  {
   "cell_type": "markdown",
   "metadata": {},
   "source": [
    "## 計算"
   ]
  },
  {
   "cell_type": "code",
   "execution_count": null,
   "metadata": {},
   "outputs": [],
   "source": [
    "%%time\n",
    "# gamma\n",
    "\n",
    "\n",
    "# lambda の初期値\n",
    "\n",
    "\n",
    "# lambda_n * y_n の総和が 0 になるように修正\n",
    "\n",
    "\n",
    "# 確認\n",
    "\n",
    "\n",
    "# learning rate\n",
    "\n",
    "\n",
    "# 勾配降下法 (Gradient Descent) の最大反復回数\n",
    "\n",
    "\n",
    "# lamb の収束判定の閾値\n",
    "\n",
    "\n",
    "# matrix B\n",
    "\n",
    "\n",
    "\n",
    "for i_iter in range(max_iter):\n",
    "    # 前のステップの lambda を格納\n",
    "\n",
    "    \n",
    "    # Psi の勾配\n",
    "\n",
    "    \n",
    "    # 勾配降下法で lambda を更新\n",
    "\n",
    "    \n",
    "    # sum(lamb1*Y) = 0 なるように修正\n",
    "\n",
    "    \n",
    "    \n",
    "    # lamb の収束判定\n",
    "\n",
    "    \n",
    "    "
   ]
  },
  {
   "cell_type": "markdown",
   "metadata": {},
   "source": [
    "## 結果の可視化"
   ]
  },
  {
   "cell_type": "code",
   "execution_count": null,
   "metadata": {},
   "outputs": [],
   "source": [
    "# 方程式のパラメータ\n",
    "\n",
    "\n",
    "# 方程式の定数項はサポートベクトルでの平均で取る\n",
    "\n",
    "\n",
    "\n",
    "# scatter plot with determining line\n",
    "\n",
    "\n",
    "\n",
    "\n",
    "# きちんと判定できているか確認\n",
    "\n",
    "\n"
   ]
  },
  {
   "cell_type": "markdown",
   "metadata": {},
   "source": [
    "## 課題10-1\n",
    "\n",
    "`sklearn` に入っている iris データセットを用いて，`setosa` と `versicolor` に対してハードマージンSVMを実行せよ．\n",
    "\n",
    "X としては `sepal length (cm)`, `sepal width (cm)` の2変数を用いること．\n",
    "\n",
    "`setosa` は `iris.target` のラベル 0, `versicolor` はラベル 1 として格納されているので，ラベルが $\\pm1$ となるようにラベルを付け替えること．\n"
   ]
  },
  {
   "cell_type": "code",
   "execution_count": null,
   "metadata": {},
   "outputs": [],
   "source": [
    "from sklearn.datasets import load_iris\n",
    "\n",
    "iris = load_iris()\n",
    "X = iris.data\n",
    "Y = iris.target\n",
    "print(iris.feature_names)\n",
    "print(iris.target_names)\n",
    "\n",
    "plt.scatter(X[:, 0][Y==0], X[:, 1][Y==0], label='%s'%iris.target_names[0])\n",
    "plt.scatter(X[:, 0][Y==1], X[:, 1][Y==1], label='%s'%iris.target_names[1])\n",
    "plt.xlabel('%s'%iris.feature_names[0])\n",
    "plt.ylabel('%s'%iris.feature_names[1])\n",
    "plt.legend()\n",
    "\n",
    "# X と Y を SVM が使えるように修正すること"
   ]
  },
  {
   "cell_type": "markdown",
   "metadata": {},
   "source": [
    "## 以上"
   ]
  },
  {
   "cell_type": "code",
   "execution_count": null,
   "metadata": {},
   "outputs": [],
   "source": []
  }
 ],
 "metadata": {
  "hide_input": false,
  "kernelspec": {
   "display_name": "Python 3 (ipykernel)",
   "language": "python",
   "name": "python3"
  },
  "language_info": {
   "codemirror_mode": {
    "name": "ipython",
    "version": 3
   },
   "file_extension": ".py",
   "mimetype": "text/x-python",
   "name": "python",
   "nbconvert_exporter": "python",
   "pygments_lexer": "ipython3",
   "version": "3.7.9"
  }
 },
 "nbformat": 4,
 "nbformat_minor": 4
}
