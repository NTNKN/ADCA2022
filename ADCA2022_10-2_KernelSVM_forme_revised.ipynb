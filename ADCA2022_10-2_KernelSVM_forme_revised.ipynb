{
 "cells": [
  {
   "cell_type": "markdown",
   "metadata": {},
   "source": [
    "# データ解析特論 2022年度水曜２限\n",
    "\n",
    "# 第10回 その2 カーネルSVMで非線形分離"
   ]
  },
  {
   "cell_type": "code",
   "execution_count": 2,
   "metadata": {},
   "outputs": [],
   "source": [
    "import numpy as np\n",
    "import matplotlib.pyplot as plt\n",
    "from sklearn.metrics import confusion_matrix\n",
    "from sklearn.datasets import make_moons"
   ]
  },
  {
   "cell_type": "markdown",
   "metadata": {},
   "source": [
    "## データ\n",
    "\n",
    "`sklearn.datasets` に入っている `make_moons` にノイズを足したデータは線形分離できない．これをカーネルSVMを使って非線形分離しよう．"
   ]
  },
  {
   "cell_type": "code",
   "execution_count": 7,
   "metadata": {},
   "outputs": [
    {
     "data": {
      "text/plain": [
       "<matplotlib.collections.PathCollection at 0x7fd9ffb49f90>"
      ]
     },
     "execution_count": 7,
     "metadata": {},
     "output_type": "execute_result"
    },
    {
     "data": {
      "image/png": "[encoded data removed]",
      "text/plain": [
       "<Figure size 200x200 with 1 Axes>"
      ]
     },
     "metadata": {},
     "output_type": "display_data"
    }
   ],
   "source": [
    "# データサイズ\n",
    "N = 100\n",
    "\n",
    "# seed\n",
    "np.random.seed(seed=2222)\n",
    "\n",
    "# make moon\n",
    "X, Y = make_moons(n_samples=N, shuffle=True, noise=0.2)\n",
    "Y[Y==0] = -1\n",
    "\n",
    "# scatter plot\n",
    "fig, ax = plt.subplots(figsize=(2, 2))\n",
    "ax.scatter(X[:, 0][Y>0], X[:, 1][Y>0], c='tab:blue')\n",
    "ax.scatter(X[:, 0][Y<0], X[:, 1][Y<0], c='tab:orange')"
   ]
  },
  {
   "cell_type": "markdown",
   "metadata": {},
   "source": [
    "## カーネルSVM\n",
    "\n",
    "$\\phi(\\mathbf x)$ で変換したデータを $a^{(0)} + \\phi(\\mathbf x) \\mathbf A = 0$ で分離すると考える．\n",
    "\n",
    "拘束条件\n",
    "$$\n",
    "G_n(\\mathbf A, \\ a^{(0)}, \\ \\boldsymbol\\xi)\n",
    "=\n",
    "1 - \\xi_n - y_{n} \\left(a^{(0)} + \\mathbf x_{n} \\mathbf A \\right)\n",
    "\\quad (n = 1, \\ 2, \\ \\ldots, \\ N)\n",
    "$$\n",
    "の下で\n",
    "$$\n",
    "F(\\mathbf A, \\ a^{(0)}, \\ \\boldsymbol\\xi) \n",
    "= \n",
    "\\frac12 \\|\\mathbf A\\|^2 + \\gamma \\sum_{n=1}^N \\xi_n\n",
    "$$\n",
    "最大化する問題を考える．\n",
    "\n",
    "基本はソフトマージンSVMと同じにやれば良い．"
   ]
  },
  {
   "cell_type": "markdown",
   "metadata": {},
   "source": [
    "## KKT条件\n",
    "\n",
    "KKT条件から\n",
    "$$\n",
    "\\Phi(\\mathbf A, \\ a^{(0)}, \\ \\boldsymbol\\xi, \\ \\boldsymbol\\lambda, \\ \\boldsymbol\\mu)\n",
    "= F(\\mathbf A, \\ a^{(0)}, \\ \\boldsymbol\\xi)\n",
    "+ \\sum_{n=1}^N \\lambda_n \\, G_n(\\mathbf A, \\ a^{(0)}, \\ \\boldsymbol\\xi)\n",
    "- \\sum_{n=1}^N \\mu_n \\, \\xi_n\n",
    "$$\n",
    "の停留点を求める問題に帰着される．すなわち，\n",
    "$$\n",
    "\\begin{cases}\n",
    "\\displaystyle\n",
    "-\\nabla F(\\mathbf A, \\ a^{(0)}, \\ \\boldsymbol\\xi)\n",
    "= \\sum_{n=1}^N \\lambda_n \\nabla G_n(\\mathbf A, a^{(0)}, \\ \\boldsymbol\\xi)\n",
    "- \\sum_{n=1}^N \\mu_n \\, \\nabla \\xi_n\n",
    "\\\\\n",
    "\\lambda_n \\ge 0, \\quad\n",
    "\\lambda_n \\, G_n(\\mathbf A, \\ a^{(0)}, \\ \\boldsymbol\\xi) = 0,\n",
    "\\\\\n",
    "\\mu_n \\ge 0, \\quad\n",
    "\\mu_n \\, \\xi_n = 0 \\ \\ (n=1, \\ 2, \\ \\ldots, \\ N)\n",
    "\\end{cases}\n",
    "$$\n",
    "を解く．"
   ]
  },
  {
   "cell_type": "markdown",
   "metadata": {},
   "source": [
    "## 双対問題\n",
    "\n",
    "KKT条件から\n",
    "$$\n",
    "\\mathbf A = \\sum_{n=1}^N \\lambda_n \\, y_{n} \\, \\phi(\\mathbf x_n)^{\\mathrm T}\n",
    "=: \\mathbf A_{\\boldsymbol\\lambda}\n",
    "$$\n",
    "と $\\mathbf A$ を $\\boldsymbol\\lambda$ によって表すことができる．これを $\\Phi$ に代入すると\n",
    "$$\n",
    "\\begin{align}\n",
    "&\n",
    "\\Psi(\\boldsymbol\\lambda) := \\Phi(\\mathbf A_{\\boldsymbol\\lambda}, a^{(0)}, \\boldsymbol\\xi, \\boldsymbol\\lambda, \\boldsymbol\\mu)\n",
    "= -\\frac12 \\sum_{n=1}^N \\sum_{n'=1}^N \\lambda_n \\, \\lambda_{n'} \\, y_{n} \\, y_{n'} \\, \\phi(\\mathbf x_n) \\, \\phi(\\mathbf x_{n'})^{\\mathrm T} \n",
    "+ \\sum_{n=1}^N \\lambda_n \n",
    "\\\\\n",
    "&\n",
    "\\phantom{\\Psi(\\boldsymbol\\lambda) :}\n",
    "= -\\frac12 \\sum_{n=1}^N \\sum_{n'=1}^N \\lambda_n \\, \\lambda_{n'} \\, y_{n} \\, y_{n'} \\, \\mathcal K(\\mathbf x_n, \\mathbf x_{n'})\n",
    "+ \\sum_{n=1}^N \\lambda_n \n",
    "\\end{align}\n",
    "$$\n",
    "を得る．この $\\Psi(\\boldsymbol\\lambda)$ の最大点を\n",
    "$$\n",
    "0 \\le \\lambda_n \\le \\gamma \\quad (n=1, \\ 2, \\ \\ldots, \\ N), \\quad\n",
    "\\sum_{n=1}^N \\lambda_n \\, y_n= 0\n",
    "$$\n",
    "の範囲で解く．"
   ]
  },
  {
   "cell_type": "markdown",
   "metadata": {},
   "source": [
    "## 双対問題から元に戻すには\n",
    "\n",
    "双対問題で求めた $\\boldsymbol\\lambda$ からどうやって分類するかを考えよう．\n",
    "\n",
    "分類の仕方は，\n",
    "$$\n",
    "a^{(0)} + \\phi(\\mathbf x) \\mathbf A\n",
    "$$\n",
    "の値が正であればラベル 1, 負であればラベル -1 とするのであった．したがって分類の決定関数は\n",
    "$$\n",
    "\\hat Y(\\mathbf x) = \\mathrm{sgn} \\left( a^{(0)} + \\phi(\\mathbf x) \\mathbf A \\right)\n",
    "$$\n",
    "である．\n",
    "\n",
    "この $\\mathbf A$ に $\\mathbf A_{\\boldsymbol\\lambda} = \\sum_{n=1}^N \\lambda_n \\, y_{n} \\, \\phi(\\mathbf x_n)^{\\mathrm T}$\n",
    "を代入すると，\n",
    "$$\n",
    "\\hat Y(\\mathbf x) \n",
    "= \\mathrm{sgn} \\left( a^{(0)} + \\sum_{n=1}^N \\lambda_n \\, y_{n} \\, \\phi(\\mathbf x)  \\phi(\\mathbf x_n)^{\\mathrm T} \\right)\n",
    "= \\mathrm{sgn} \\left( a^{(0)} + \\sum_{n=1}^N \\lambda_n \\, y_{n} \\, \\mathcal K(\\mathbf x, \\mathbf x_{n}) \\right)\n",
    "$$\n",
    "となる．学習の時と同様に $\\phi(\\mathbf x)$ の具体的な形は要らない！\n",
    "\n",
    "$a^{(0)}$ は，学習時のデータが\n",
    "$$\n",
    "Y_k\n",
    "= a^{(0)} + \\sum_{n=1}^N \\lambda_n \\, y_{n} \\, \\mathcal K(\\mathbf x_k, \\mathbf x_{k})\n",
    "$$\n",
    "となっていることを期待して，\n",
    "$$\n",
    "a^{(0)} = Y_k - \\sum_{n=1}^N \\lambda_n \\, y_{n} \\, \\mathcal K(\\mathbf x_k, \\mathbf x_{k})\n",
    "$$\n",
    "から求める．"
   ]
  },
  {
   "cell_type": "markdown",
   "metadata": {},
   "source": [
    "## 解法\n",
    "\n",
    "双対問題を $\\sum_{n=1}^N \\lambda_n \\, y_n= 0$ だけ条件を加味し，その条件付き最大を Lagrange の未定乗数法を用いて解くことにして，$\\lambda_n \\ge 0$ は別に考える．\n",
    "つまり，\n",
    "$$\n",
    "\\tilde\\Psi(\\boldsymbol\\lambda, \\sigma)\n",
    "= \\Psi(\\boldsymbol\\lambda) - \\sigma \\sum_{n=1}^N \\lambda_n \\, y_n\n",
    "$$\n",
    "の最大値を $\\lambda_n \\ge 0$ の範囲で求める．\n",
    "\n",
    "1. $\\boldsymbol\\lambda \\leftarrow \\boldsymbol\\lambda + \\eta\\nabla_{\\boldsymbol\\lambda}\\tilde\\Psi$ によって $\\boldsymbol\\lambda$ を更新する．\n",
    "1. $\\sigma \\leftarrow \\sigma - \\eta\\frac{\\partial \\tilde\\Psi}{\\partial\\sigma}$ によって $\\sigma$ を更新する．\n",
    "1. この $\\boldsymbol\\lambda$ に対して，\n",
    "    - $\\lambda_n < 0$ となっていたら $\\lambda_n =0$ と置き直す．\n",
    "    - $\\lambda_n > \\gamma$ となっていたら $\\lambda_n = \\gamma$ と置き直す．\n",
    "1. 収束するまで 1 に戻って繰り返す．"
   ]
  },
  {
   "cell_type": "markdown",
   "metadata": {},
   "source": [
    "## 勾配\n",
    "\n",
    "この勾配はソフトマージンSVMとほぼ同様に計算できる．\n",
    "$$\n",
    "\\begin{align}\n",
    "&\n",
    "\\frac{\\partial\\tilde\\Psi}{\\partial \\lambda_k} \n",
    "= \\frac{\\partial}{\\partial \\lambda_k} \\left( -\\frac12 \\sum_{n=1}^N \\sum_{n'=1}^N \\lambda_n \\lambda_{n'} y_n y_{n'} \\mathcal K(\\mathbf x_n, \\mathbf x_{n'}) + \\sum_{n=1}^N \\lambda_n \n",
    "- \\sigma \\sum_{n=1}^N \\lambda_n \\, y_n\\right)\n",
    "\\\\\n",
    "&\n",
    "\\phantom{\\frac{\\partial \\Psi}{\\partial \\lambda_k} }\n",
    "= -\\frac12 \\sum_{n=1}^N \\sum_{n'=1}^N ( \\delta_{kn} \\lambda_{n'} + \\lambda_n \\delta_{kn'}) y_n y_{n'} \\mathcal K(\\mathbf x_n, \\mathbf x_{n'}) + 1 - \\sigma y_k\n",
    "\\\\\n",
    "&\n",
    "\\phantom{\\frac{\\partial \\Psi}{\\partial \\lambda_k} }\n",
    "= -\\frac12 \\sum_{n'=1}^N \\lambda_{n'} y_k y_{n'} \\mathcal K(\\mathbf x_n, \\mathbf x_{n'})\n",
    "-\\frac12 \\sum_{n=1}^N \\lambda_{n} y_{n} y_{k} \\mathcal K(\\mathbf x_n, \\mathbf x_{n'})\n",
    "+ 1 - \\sigma y_k\n",
    "\\\\\n",
    "&\n",
    "\\phantom{\\frac{\\partial \\Psi}{\\partial \\lambda_k} }\n",
    "= -\\sum_{n=1}^N \\lambda_{n} y_{n} y_{k} \\mathcal K(\\mathbf x_n, \\mathbf x_{n'})\n",
    "+ 1 - \\sigma y_k\n",
    "\\end{align}\n",
    "$$\n",
    "なので，行列 $\\mathbf B = (B_{ij})$\n",
    "$$\n",
    "B_{ij} = y_{n} y_{k} \\mathcal K(\\mathbf x_n, \\mathbf x_{n'})\n",
    "$$\n",
    "と定めておくと，\n",
    "$$\n",
    "\\nabla\\Psi = 1 - \\mathbf B \\boldsymbol\\lambda - \\sigma \\mathbf y\n",
    "$$\n",
    "と表すことができる．\n",
    "\n",
    "また，\n",
    "$$\n",
    "\\frac{\\partial \\tilde\\Psi}{\\partial \\sigma}\n",
    "= \\frac{\\partial}{\\partial \\sigma} \\left( -\\frac12 \\sum_{n=1}^N \\sum_{n'=1}^N \\lambda_n \\lambda_{n'} y_n y_{n'} \\mathcal K(\\mathbf x_n, \\mathbf x_{n'}) + \\sum_{n=1}^N \\lambda_n - \\sigma \\sum_{n=1}^N \\lambda_n \\, y_n \\right)\n",
    "= -\\sum_{n=1}^N \\lambda_n \\, y_n\n",
    "$$\n",
    "\n",
    "\n",
    "よって，勾配降下法では\n",
    "$$\n",
    "\\begin{cases}\n",
    "\\boldsymbol\\lambda^{(i+1)} \\ \\leftarrow \\ \\boldsymbol\\lambda^{(i)} + \\eta \\nabla\\tilde\\Psi\n",
    "\\\\\n",
    "\\sigma^{(i+1)} \\ \\leftarrow \\ \\sigma^{(i)} - \\eta \\nabla\\tilde\\Psi\n",
    "\\end{cases}\n",
    "$$\n",
    "の反復で計算する．ただし $\\eta>0$ は学習率．\n",
    "\n",
    "適当な反復の収束判定の閾値 tol を用いて，\n",
    "$$\n",
    "\\|\\boldsymbol\\lambda^{(i+1)}-\\boldsymbol\\lambda^{(i)} \\|\n",
    "+ \\|\\sigma^{(i+1)}-\\sigma^{(i)} \\|\n",
    "< \\mbox{tol}\n",
    "$$\n",
    "となったら反復を停止する．"
   ]
  },
  {
   "cell_type": "markdown",
   "metadata": {},
   "source": [
    "## 計算"
   ]
  },
  {
   "cell_type": "code",
   "execution_count": 8,
   "metadata": {},
   "outputs": [
    {
     "name": "stdout",
     "output_type": "stream",
     "text": [
      "0.0\n",
      "45404\n",
      "[ 0.          4.03304473  0.          0.          0.          0.\n",
      "  0.          0.          0.          0.          0.         10.\n",
      "  0.          0.          0.          0.          0.          0.\n",
      "  0.         10.          0.          0.          0.          0.\n",
      "  4.0235993   5.11663864  4.38484898  0.          0.          0.\n",
      "  0.          0.         10.          0.          0.          0.\n",
      "  0.          0.          5.39315994  0.          0.          0.\n",
      "  0.          0.          0.          0.          0.          0.\n",
      "  0.          0.          0.          0.          0.         10.\n",
      "  0.          0.          0.          0.         10.          0.\n",
      "  0.         10.          0.          0.          0.          0.\n",
      "  0.          0.         10.          0.          0.          0.\n",
      " 10.          0.          0.         10.          0.          0.\n",
      "  0.          8.66761987  0.          5.40441101  0.          0.\n",
      "  0.          0.          0.          0.          0.          0.\n",
      "  0.          0.          0.          0.          0.          0.\n",
      "  0.          2.06597286  0.          0.        ]\n",
      "np.sum(lamb*Y) = 0.000003\n",
      "9.743590698718663e-07\n",
      "2.559687384273701e-08\n",
      "CPU times: user 1.55 s, sys: 67.9 ms, total: 1.62 s\n",
      "Wall time: 1.58 s\n"
     ]
    }
   ],
   "source": [
    "%%time\n",
    "# coefficient of RBF kernel\n",
    "c = 1.0\n",
    "\n",
    "# gamma\n",
    "gamma = 10.0\n",
    "\n",
    "# lambda の初期値\n",
    "lamb = np.ones(N)\n",
    "\n",
    "# lambda_n * y_n の総和が 0 になるように修正\n",
    "lamb -= np.dot(lamb, Y)*Y/np.sum(Y**2)\n",
    "\n",
    "# 確認\n",
    "print(np.sum(Y*lamb))\n",
    "\n",
    "# sigma の初期値\n",
    "sigma = np.random.rand()\n",
    "\n",
    "# learning rate\n",
    "eta = 0.01\n",
    "\n",
    "# 勾配降下法 (Gradient Descent) の最大反復回数\n",
    "max_iter = 1000000\n",
    "\n",
    "# lamb の収束判定の閾値\n",
    "tol = 1e-6\n",
    "\n",
    "# matrix B\n",
    "B = np.zeros((N, N))\n",
    "for k in range(N):\n",
    "    for n in range(N):\n",
    "        B[k, n] += Y[n]*Y[k]*np.exp( -c*np.sum((X[n]-X[k])**2) )\n",
    "\n",
    "### 勾配降下法 ###\n",
    "for i_iter in range(max_iter):\n",
    "    # 前のステップの lambda と sigma を格納\n",
    "    lamb_prev = np.copy(lamb)\n",
    "    sigma_prev = sigma\n",
    "    \n",
    "    # Psi の勾配\n",
    "    grad_Psi = 1.0 - B@lamb - sigma*Y\n",
    "    \n",
    "    # 勾配上昇法で lambda を更新\n",
    "    lamb += eta*grad_Psi\n",
    "    \n",
    "    # lamb が負だったら 0 に修正\n",
    "    lamb[lamb<0.0] = 0.0\n",
    "    \n",
    "    # lamb が gamma より大きければ gamma に修正\n",
    "    lamb[lamb>gamma] = gamma\n",
    "    \n",
    "    # 勾配降下法で sigma を更新\n",
    "    sigma += eta * np.sum(lamb*Y)\n",
    "    \n",
    "    # lamb と sigma の収束判定\n",
    "    if np.max(np.abs(lamb-lamb_prev)) + np.abs(sigma-sigma_prev) < tol:\n",
    "        print(i_iter)\n",
    "        break\n",
    "    \n",
    "print(lamb)\n",
    "print('np.sum(lamb*Y) = %f'%np.sum(lamb*Y))\n",
    "print(np.max(np.abs(lamb-lamb_prev)))\n",
    "print(np.abs(sigma-sigma_prev))"
   ]
  },
  {
   "cell_type": "markdown",
   "metadata": {},
   "source": [
    "## 結果の可視化"
   ]
  },
  {
   "cell_type": "code",
   "execution_count": 9,
   "metadata": {},
   "outputs": [
    {
     "name": "stdout",
     "output_type": "stream",
     "text": [
      "0.4034643229074769\n"
     ]
    },
    {
     "data": {
      "image/png": "[encoded data removed]",
      "text/plain": [
       "<Figure size 600x400 with 1 Axes>"
      ]
     },
     "metadata": {},
     "output_type": "display_data"
    },
    {
     "name": "stdout",
     "output_type": "stream",
     "text": [
      "[[49  1]\n",
      " [ 0 50]]\n"
     ]
    }
   ],
   "source": [
    "# 決定関数の定数項 A0\n",
    "A0 = 0.0\n",
    "count = 0\n",
    "for n in range(N):\n",
    "    if (lamb[n] > 0)*(lamb[n] < gamma):\n",
    "        count += 1\n",
    "        for k in range(N):\n",
    "            A0 += Y[k] - np.exp(-c*np.sum((X[n]-X[k])**2))*Y[k]*lamb[k]\n",
    "\n",
    "A0 /= count\n",
    "print(A0)\n",
    "\n",
    "# 決定関数の予測値\n",
    "Ypred = np.zeros(N)\n",
    "count = 0\n",
    "for n in range(N):\n",
    "    for k in range(N):\n",
    "        Ypred[n] += np.exp(-c*np.sum((X[n]-X[k])**2))*Y[k]*lamb[k]\n",
    "Ypred += A0\n",
    "Ypred = np.sign(Ypred)\n",
    "\n",
    "# その他のデータの予測値\n",
    "x1mesh = np.arange(-1.5, 2.5, 0.05)\n",
    "x2mesh = np.arange(-1, 1.5, 0.05)\n",
    "x1mesh, x2mesh = np.meshgrid(x1mesh, x2mesh)\n",
    "Xmesh = np.hstack([x1mesh.ravel().reshape(-1, 1), x2mesh.ravel().reshape(-1, 1)])\n",
    "Ymesh = np.zeros(Xmesh.shape[0])\n",
    "for n in range(Xmesh.shape[0]):\n",
    "    for k in range(N):\n",
    "        Ymesh[n] += np.exp(-c*np.sum((Xmesh[n]-X[k])**2))*Y[k]*lamb[k]\n",
    "Ymesh += A0\n",
    "Ymesh = np.sign(Ymesh)\n",
    "\n",
    "\n",
    "# scatter plot with determining curve\n",
    "fig, ax = plt.subplots(figsize=(6, 4))\n",
    "ax.scatter(X[:, 0][Y>0], X[:, 1][Y>0], marker='o', s=50, c='tab:cyan', label=r'$Y=1$')\n",
    "ax.scatter(X[:, 0][Y<0], X[:, 1][Y<0], marker='^', s=50, c='tab:orange', label=r'$Y=-1$')\n",
    "ax.scatter(X[:, 0][lamb>0][Y[lamb>0]>0], X[:, 1][lamb>0][Y[lamb>0]>0], s=10, c='tab:blue', marker='o', zorder=2)\n",
    "ax.scatter(X[:, 0][lamb>0][Y[lamb>0]<0], X[:, 1][lamb>0][Y[lamb>0]<0], s=10, c='tab:red', marker='^', zorder=2)\n",
    "ax.scatter(X[:, 0][lamb>0], X[:, 1][lamb>0], s=50, c='tab:red', marker='x', zorder=2, label='support vector')\n",
    "ax.contourf(x1mesh, x2mesh, Ymesh.reshape(x1mesh.shape), levels=[-1, 0, 1], colors=['tab:orange', 'tab:blue'], alpha=0.2, zorder=-2)\n",
    "ax.contour (x1mesh, x2mesh, Ymesh.reshape(x1mesh.shape), levels=[0], colors='k', zorder=-1)\n",
    "\n",
    "ax.legend(bbox_to_anchor=(1.0, 1.0), loc='upper left')\n",
    "fig.tight_layout()\n",
    "plt.show()\n",
    "\n",
    "# きちんと判定できているか確認\n",
    "print(confusion_matrix(Y, Ypred))"
   ]
  },
  {
   "cell_type": "markdown",
   "metadata": {},
   "source": [
    "## 課題10-2\n",
    "\n",
    "ドーナツ状に分布する2つのラベルのデータに対して，カーネルSVM を実行せよ．"
   ]
  },
  {
   "cell_type": "code",
   "execution_count": 10,
   "metadata": {},
   "outputs": [
    {
     "data": {
      "text/plain": [
       "<matplotlib.legend.Legend at 0x7fd9ffdae2d0>"
      ]
     },
     "execution_count": 10,
     "metadata": {},
     "output_type": "execute_result"
    },
    {
     "data": {
      "image/png": "[encoded data removed]",
      "text/plain": [
       "<Figure size 640x480 with 1 Axes>"
      ]
     },
     "metadata": {},
     "output_type": "display_data"
    }
   ],
   "source": [
    "# サンプルサイズ\n",
    "N = 50\n",
    "\n",
    "# seed\n",
    "np.random.seed(seed=1111)\n",
    "\n",
    "### 極座標でデータを生成 ###\n",
    "# 動径方向\n",
    "R = np.random.rand(N)\n",
    "\n",
    "# 回転角方向\n",
    "T = np.random.rand(N)*2.0*np.pi\n",
    "\n",
    "# 極座標\n",
    "X = np.zeros((N, 2))\n",
    "X[:, 0] = R*np.cos(T)\n",
    "X[:, 1] = R*np.sin(T)\n",
    "\n",
    "# 半径が 0.4 以下がラベル1, それ以外は -1\n",
    "Y = np.ones(N)\n",
    "Y[R>0.4] = -1\n",
    "\n",
    "plt.scatter(X[:, 0][Y== 1], X[:, 1][Y== 1], label='label 1')\n",
    "plt.scatter(X[:, 0][Y==-1], X[:, 1][Y==-1], label='label -1')\n",
    "plt.legend()\n",
    "\n",
    "# あとはカーネルSVMを実行してみせよ．"
   ]
  },
  {
   "cell_type": "markdown",
   "metadata": {},
   "source": [
    "## 以上"
   ]
  },
  {
   "cell_type": "code",
   "execution_count": null,
   "metadata": {},
   "outputs": [],
   "source": []
  }
 ],
 "metadata": {
  "hide_input": false,
  "kernelspec": {
   "display_name": "Python 3 (ipykernel)",
   "language": "python",
   "name": "python3"
  },
  "language_info": {
   "codemirror_mode": {
    "name": "ipython",
    "version": 3
   },
   "file_extension": ".py",
   "mimetype": "text/x-python",
   "name": "python",
   "nbconvert_exporter": "python",
   "pygments_lexer": "ipython3",
   "version": "3.7.9"
  }
 },
 "nbformat": 4,
 "nbformat_minor": 4
}
