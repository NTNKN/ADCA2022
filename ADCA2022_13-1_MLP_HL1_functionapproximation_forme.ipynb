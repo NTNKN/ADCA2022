{
 "cells": [
  {
   "cell_type": "markdown",
   "id": "0345ebca",
   "metadata": {},
   "source": [
    "# データ解析特論 2022年度水曜２限\n",
    "\n",
    "# 第13回 気合いで誤差逆伝播\n",
    "\n",
    "<h3>概要：<br>隠れ層を1層持つ Multi-Layer Perceptron を気合いで学習する</h3>"
   ]
  },
  {
   "cell_type": "code",
   "execution_count": 1,
   "id": "133f1234",
   "metadata": {},
   "outputs": [],
   "source": [
    "import numpy as np\n",
    "import matplotlib.pyplot as plt\n",
    "from ipywidgets import IntProgress, FloatProgress"
   ]
  },
  {
   "cell_type": "markdown",
   "id": "11d1f238",
   "metadata": {},
   "source": [
    "## データ\n",
    "\n",
    "サイズ $N$ のデータ $(x_n, \\ y_n)$ を以下の通りに作る．\n",
    "$$\n",
    "y_n = \\sin(2\\pi x_n) \\cos(5\\pi x_n) + 2x_n + \\xi_n\n",
    "$$\n",
    "$\\xi_n$ は適当な独立同分布の乱数としておく．\n",
    "\n",
    "$y=f(x)$ の回帰モデルをデータから MLP を用いて構成しよう．"
   ]
  },
  {
   "cell_type": "code",
   "execution_count": 2,
   "id": "6346d9bd",
   "metadata": {},
   "outputs": [],
   "source": [
    "# y=dataf(x)\n",
    "def dataf(X):\n",
    "    return np.sin(2*np.pi*X)*np.cos(5*np.pi*X) + 2*X"
   ]
  },
  {
   "cell_type": "code",
   "execution_count": 6,
   "id": "fd1b6485",
   "metadata": {},
   "outputs": [
    {
     "name": "stdout",
     "output_type": "stream",
     "text": [
      "(30, 2)\n"
     ]
    },
    {
     "data": {
      "text/plain": [
       "[<matplotlib.lines.Line2D at 0x7fdf20285350>]"
      ]
     },
     "execution_count": 6,
     "metadata": {},
     "output_type": "execute_result"
    },
    {
     "data": {
      "image/png": "[encoded data removed]",
      "text/plain": [
       "<Figure size 300x300 with 1 Axes>"
      ]
     },
     "metadata": {},
     "output_type": "display_data"
    }
   ],
   "source": [
    "# サンプルサイズ\n",
    "N = 30\n",
    "\n",
    "# seed\n",
    "np.random.seed(seed=2222)\n",
    "\n",
    "# x 変数 X^{(1)}\n",
    "X1 = np.sort(np.random.rand(N))\n",
    "\n",
    "# 0列目に1を入れたデータ行列を X とおく\n",
    "X = np.hstack([np.ones((N, 1)), X1.reshape(-1, 1)])\n",
    "print(X.shape)\n",
    "\n",
    "# y 変数（ノイズを付加）\n",
    "Y = dataf(X1) + (np.random.rand(N) - 0.5)*0.5\n",
    "\n",
    "# 関数のグラフ描画用のデータ生成\n",
    "fig, ax = plt.subplots(figsize=(3, 3))\n",
    "ax.plot(X1, Y, 'o')\n",
    "\n",
    "X1plot = np.linspace(0, 1, 100)\n",
    "Yplot = dataf(X1plot)\n",
    "ax.plot(X1plot, Yplot)"
   ]
  },
  {
   "cell_type": "markdown",
   "id": "204d9e2e",
   "metadata": {},
   "source": [
    "## 活性化関数\n",
    "\n",
    "第1層への重み $\\mathbf W^{(1)}$ の第0列（定数ノードへの重み）は固定する．\n",
    "\n",
    "ここでは活性化関数として ReLU を使うと $\\phi^{-1}(1) = 1$ とする．"
   ]
  },
  {
   "cell_type": "code",
   "execution_count": 7,
   "id": "b04c819c",
   "metadata": {},
   "outputs": [],
   "source": [
    "# activation function\n",
    "def phi(X):\n",
    "    return np.maximum(X, 0.0)\n",
    "    \n",
    "# derivative of activation function\n",
    "def Dphi(X):\n",
    "    return np.heaviside(X, 0.0)"
   ]
  },
  {
   "cell_type": "code",
   "execution_count": 11,
   "id": "e437fd36",
   "metadata": {},
   "outputs": [
    {
     "data": {
      "text/plain": [
       "[<matplotlib.lines.Line2D at 0x7fdf2070d710>]"
      ]
     },
     "execution_count": 11,
     "metadata": {},
     "output_type": "execute_result"
    },
    {
     "data": {
      "image/png": "[encoded data removed]",
      "text/plain": [
       "<Figure size 300x300 with 1 Axes>"
      ]
     },
     "metadata": {},
     "output_type": "display_data"
    }
   ],
   "source": [
    "# plot phi(x) and phi'(x)\n",
    "fig, ax = plt.subplots(figsize=(3, 3))\n",
    "XXplot = np.linspace(-1, 2, 100)\n",
    "ax.plot(XXplot, phi(XXplot), lw=3)\n",
    "ax.plot(XXplot, Dphi(XXplot))"
   ]
  },
  {
   "cell_type": "markdown",
   "id": "14817a46",
   "metadata": {},
   "source": [
    "## 学習（正則化なし）"
   ]
  },
  {
   "cell_type": "code",
   "execution_count": 13,
   "id": "8d26ff64",
   "metadata": {},
   "outputs": [
    {
     "data": {
      "application/vnd.jupyter.widget-view+json": {
       "model_id": "039f523664d34d319cd38e6f3b9dbe66",
       "version_major": 2,
       "version_minor": 0
      },
      "text/plain": [
       "IntProgress(value=0, max=1000000)"
      ]
     },
     "metadata": {},
     "output_type": "display_data"
    },
    {
     "name": "stdout",
     "output_type": "stream",
     "text": [
      "9.226659501093692e-06\n"
     ]
    },
    {
     "ename": "TypeError",
     "evalue": "Cannot interpret '1' as a data type",
     "output_type": "error",
     "traceback": [
      "\u001b[0;31m---------------------------------------------------------------------------\u001b[0m",
      "\u001b[0;31mTypeError\u001b[0m                                 Traceback (most recent call last)",
      "\u001b[0;32m<timed exec>\u001b[0m in \u001b[0;36m<module>\u001b[0;34m\u001b[0m\n",
      "\u001b[0;32m~/.pyenv/versions/anaconda3-2019.10/lib/python3.7/site-packages/numpy/core/numeric.py\u001b[0m in \u001b[0;36mones\u001b[0;34m(shape, dtype, order, like)\u001b[0m\n\u001b[1;32m    202\u001b[0m         \u001b[0;32mreturn\u001b[0m \u001b[0m_ones_with_like\u001b[0m\u001b[0;34m(\u001b[0m\u001b[0mshape\u001b[0m\u001b[0;34m,\u001b[0m \u001b[0mdtype\u001b[0m\u001b[0;34m=\u001b[0m\u001b[0mdtype\u001b[0m\u001b[0;34m,\u001b[0m \u001b[0morder\u001b[0m\u001b[0;34m=\u001b[0m\u001b[0morder\u001b[0m\u001b[0;34m,\u001b[0m \u001b[0mlike\u001b[0m\u001b[0;34m=\u001b[0m\u001b[0mlike\u001b[0m\u001b[0;34m)\u001b[0m\u001b[0;34m\u001b[0m\u001b[0;34m\u001b[0m\u001b[0m\n\u001b[1;32m    203\u001b[0m \u001b[0;34m\u001b[0m\u001b[0m\n\u001b[0;32m--> 204\u001b[0;31m     \u001b[0ma\u001b[0m \u001b[0;34m=\u001b[0m \u001b[0mempty\u001b[0m\u001b[0;34m(\u001b[0m\u001b[0mshape\u001b[0m\u001b[0;34m,\u001b[0m \u001b[0mdtype\u001b[0m\u001b[0;34m,\u001b[0m \u001b[0morder\u001b[0m\u001b[0;34m)\u001b[0m\u001b[0;34m\u001b[0m\u001b[0;34m\u001b[0m\u001b[0m\n\u001b[0m\u001b[1;32m    205\u001b[0m     \u001b[0mmultiarray\u001b[0m\u001b[0;34m.\u001b[0m\u001b[0mcopyto\u001b[0m\u001b[0;34m(\u001b[0m\u001b[0ma\u001b[0m\u001b[0;34m,\u001b[0m \u001b[0;36m1\u001b[0m\u001b[0;34m,\u001b[0m \u001b[0mcasting\u001b[0m\u001b[0;34m=\u001b[0m\u001b[0;34m'unsafe'\u001b[0m\u001b[0;34m)\u001b[0m\u001b[0;34m\u001b[0m\u001b[0;34m\u001b[0m\u001b[0m\n\u001b[1;32m    206\u001b[0m     \u001b[0;32mreturn\u001b[0m \u001b[0ma\u001b[0m\u001b[0;34m\u001b[0m\u001b[0;34m\u001b[0m\u001b[0m\n",
      "\u001b[0;31mTypeError\u001b[0m: Cannot interpret '1' as a data type"
     ]
    }
   ],
   "source": [
    "%%time\n",
    "# 反復最大回数 max_iter\n",
    "max_iter = 1000000\n",
    "\n",
    "# 学習率 eta\n",
    "eta = 0.001\n",
    "\n",
    "# 反復の更新を停止する閾値\n",
    "tol = 1e-6\n",
    "\n",
    "# size of hidden layer d\n",
    "d = 100\n",
    "\n",
    "# 第1層への重み W1 の初期値\n",
    "W1 = np.random.normal(size=(2, d+1))\n",
    "\n",
    "# 定数ノードへの重みは固定\n",
    "W1[0, 0] = 1.0\n",
    "W1[1, 0] = 0.0\n",
    "\n",
    "# 出力層への重み W2 の初期値\n",
    "W2 = np.random.normal(size=d+1)\n",
    "\n",
    "# IntProgress で反復の経過を表示\n",
    "IP = IntProgress(min=0, max=max_iter)\n",
    "display(IP)\n",
    "IP.value = 0\n",
    "IP.description = '0'\n",
    "\n",
    "# 勾配降下法で反復\n",
    "for i_iter in range(max_iter):\n",
    "    if (i_iter+1)%10000 == 0:\n",
    "        IP.value = i_iter + 1\n",
    "        IP.description = '%d'%(i_iter+1)\n",
    "    \n",
    "    # 前ステップの重みを保存\n",
    "    W1prev, W2prev = np.copy(W1), np.copy(W2)\n",
    "    \n",
    "    # hidden layer zn\n",
    "    XW1 = X@W1\n",
    "    Z = phi(XW1)\n",
    "    \n",
    "    # output Yhat\n",
    "    ZW2 = Z@W2\n",
    "    Yhat = phi(ZW2)\n",
    "    \n",
    "    # residual e\n",
    "    e = Y - Yhat\n",
    "    \n",
    "    # F\n",
    "    F = np.diag(e) @ Dphi(ZW2)\n",
    "    \n",
    "    # gradient wrt W2\n",
    "    gradW2 = -2.0/N * Z.T @ F\n",
    "    \n",
    "    # gn\n",
    "    G = np.diag(F) @ Dphi(XW1)\n",
    "    \n",
    "    # gradient wrt W1\n",
    "    gradW1 = -2.0/N * X.T @ G @ np.diag(W2)\n",
    "    \n",
    "    # adjust the 0-th row of W1\n",
    "    gradW1[:, 0] = 0.0\n",
    "    \n",
    "    # update\n",
    "    W1 -= eta * gradW1\n",
    "    W2 -= eta * gradW2\n",
    "    \n",
    "    if np.max(np.abs(W1-W1prev)) + np.max(np.abs(W2-W2prev)) < tol:\n",
    "        print(i_iter+1)\n",
    "        break\n",
    "\n",
    "print(np.max(np.abs(W1-W1prev)) + np.max(np.abs(W2-W2prev))  )\n",
    "\n",
    "# prediction by trained MLP\n",
    "Ypred = phi(phi(X@W1)@W2)\n",
    "\n",
    "# data for visualization of MLP output\n",
    "Xplot = np.hstack([np.ones((X1.size, 1)), X1plot.reshape(-1, 1)])\n",
    "Yplotpred = phi(phi(Xplot@W1)@W2)\n",
    "\n",
    "# plot Ypred\n",
    "fig, ax = plt.subplots(figsize=(3, 3))\n",
    "ax.plot(X1, Y, 'o', label='sample')\n",
    "ax.plot(X1, Ypred, 'x', label='prediction')\n",
    "ax.plot(X1plot, Yplot, label='truth')\n",
    "ax.plot(X1plot, Yplotpred, label='MLP output')\n",
    "ax.legend()"
   ]
  },
  {
   "cell_type": "code",
   "execution_count": 16,
   "id": "26496bd7",
   "metadata": {},
   "outputs": [
    {
     "data": {
      "text/plain": [
       "<matplotlib.legend.Legend at 0x7fdf205ac910>"
      ]
     },
     "execution_count": 16,
     "metadata": {},
     "output_type": "execute_result"
    },
    {
     "data": {
      "image/png": "[encoded data removed]",
      "text/plain": [
       "<Figure size 300x300 with 1 Axes>"
      ]
     },
     "metadata": {},
     "output_type": "display_data"
    }
   ],
   "source": [
    "# data for visualization of MLP output\n",
    "Xplot = np.hstack([np.ones((X1plot.size, 1)), X1plot.reshape(-1, 1)])\n",
    "Yplotpred = phi(phi(Xplot@W1)@W2)\n",
    "\n",
    "# plot Ypred\n",
    "fig, ax = plt.subplots(figsize=(3, 3))\n",
    "ax.plot(X1, Y, 'o', label='sample')\n",
    "ax.plot(X1, Ypred, 'x', label='prediction')\n",
    "ax.plot(X1plot, Yplot, label='truth')\n",
    "ax.plot(X1plot, Yplotpred, label='MLP output')\n",
    "ax.legend()"
   ]
  },
  {
   "cell_type": "markdown",
   "id": "788b1987",
   "metadata": {},
   "source": [
    "## 学習（Ridge正則化）"
   ]
  },
  {
   "cell_type": "code",
   "execution_count": null,
   "id": "b54221ce",
   "metadata": {},
   "outputs": [],
   "source": [
    "%%time\n",
    "# 反復最大回数 max_iter\n",
    "\n",
    "\n",
    "# 学習率 eta\n",
    "\n",
    "\n",
    "# 正則化パラメータ\n",
    "\n",
    "\n",
    "# 反復の更新を停止する閾値\n",
    "\n",
    "\n",
    "# size of hidden layer d\n",
    "\n",
    "\n",
    "# 第1層への重み W1 の初期値\n",
    "\n",
    "\n",
    "# 定数ノードへの重みは固定\n",
    "\n",
    "\n",
    "# 出力層への重み W2 の初期値\n",
    "\n",
    "\n",
    "# IntProgress で反復の経過を表示\n",
    "\n",
    "\n",
    "# 勾配降下法で反復\n",
    "for i_iter in range(max_iter):\n",
    "\n",
    "    \n",
    "    # 前ステップの重みを保存\n",
    "\n",
    "    \n",
    "    # hidden layer zn\n",
    "\n",
    "    \n",
    "    # output Yhat\n",
    "\n",
    "    \n",
    "    # residual e\n",
    "    \n",
    "    \n",
    "    # F\n",
    "\n",
    "    \n",
    "    # gradient wrt W1\n",
    "\n",
    "    \n",
    "    # gn\n",
    "\n",
    "    \n",
    "    # gradient wrt W1\n",
    "\n",
    "    \n",
    "    # adjust the 0-th row of W1\n",
    "\n",
    "    \n",
    "    # update\n",
    "\n",
    "    \n",
    "\n",
    "    \n",
    "\n",
    "    \n",
    "# prediction by trained MLP\n",
    "\n",
    "\n",
    "# data for visualization of MLP output\n",
    "\n",
    "\n",
    "# plot Ypred\n",
    "\n",
    "        "
   ]
  },
  {
   "cell_type": "markdown",
   "id": "d9fff980",
   "metadata": {},
   "source": [
    "## 学習（Lasso正則化）"
   ]
  },
  {
   "cell_type": "code",
   "execution_count": null,
   "id": "89aefea5",
   "metadata": {},
   "outputs": [],
   "source": [
    "### Soft-Thresholding\n",
    "\n"
   ]
  },
  {
   "cell_type": "code",
   "execution_count": null,
   "id": "3c05a252",
   "metadata": {},
   "outputs": [],
   "source": [
    "%%time\n",
    "# 反復最大回数 max_iter\n",
    "\n",
    "\n",
    "# 学習率 eta\n",
    "\n",
    "\n",
    "# 正則化パラメータ\n",
    "\n",
    "\n",
    "# 反復の更新を停止する閾値\n",
    "\n",
    "\n",
    "# size of hidden layer d\n",
    "\n",
    "\n",
    "# 第1層への重み W1 の初期値\n",
    "\n",
    "\n",
    "# 定数ノードへの重みは固定\n",
    "\n",
    "\n",
    "# 出力層への重み W2 の初期値\n",
    "\n",
    "\n",
    "# IntProgress で反復の経過を表示\n",
    "\n",
    "\n",
    "# 勾配降下法で反復\n",
    "for i_iter in range(max_iter):\n",
    "    if (i_iter+1)%10000 == 0:\n",
    "        fp.value = i_iter+1\n",
    "        fp.description = '%d'%(i_iter+1)\n",
    "    \n",
    "    # 前ステップの重みを保存\n",
    "\n",
    "    \n",
    "    # hidden layer zn\n",
    "\n",
    "    \n",
    "    # output Yhat\n",
    "\n",
    "    \n",
    "    # residual e\n",
    "\n",
    "    \n",
    "    # F\n",
    "\n",
    "    \n",
    "    # gradient wrt W1\n",
    "\n",
    "    \n",
    "    # gn\n",
    "\n",
    "    \n",
    "    # gradient wrt W1\n",
    "\n",
    "    \n",
    "    # adjust the 0-th row of W1\n",
    "\n",
    "    \n",
    "    # update\n",
    "\n",
    "    \n",
    "\n",
    "    \n",
    "\n",
    "    \n",
    "# prediction by trained MLP\n",
    "\n",
    "\n",
    "# data for visualization of MLP output\n",
    "\n",
    "\n",
    "# plot Ypred\n",
    "\n"
   ]
  },
  {
   "cell_type": "markdown",
   "id": "6f225205",
   "metadata": {},
   "source": [
    "## 課題13-1\n",
    "\n",
    "活性化関数を $\\phi(x)=\\tanh(x)$ に変えると MLP の回帰はどのように変わるか．実際に学習して，描画し，結果から考察せよ．"
   ]
  },
  {
   "cell_type": "markdown",
   "id": "2a6a708a",
   "metadata": {},
   "source": [
    "---\n",
    "## <div style=\"text-align: right;\"><strong>以上</strong></div>"
   ]
  },
  {
   "cell_type": "code",
   "execution_count": null,
   "id": "d04ba16b",
   "metadata": {},
   "outputs": [],
   "source": []
  }
 ],
 "metadata": {
  "hide_input": false,
  "kernelspec": {
   "display_name": "Python 3 (ipykernel)",
   "language": "python",
   "name": "python3"
  },
  "language_info": {
   "codemirror_mode": {
    "name": "ipython",
    "version": 3
   },
   "file_extension": ".py",
   "mimetype": "text/x-python",
   "name": "python",
   "nbconvert_exporter": "python",
   "pygments_lexer": "ipython3",
   "version": "3.7.9"
  }
 },
 "nbformat": 4,
 "nbformat_minor": 5
}
