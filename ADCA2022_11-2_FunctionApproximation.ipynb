{
 "cells": [
  {
   "cell_type": "markdown",
   "metadata": {},
   "source": [
    "# データ解析特論 2022年度水曜２限\n",
    "\n",
    "# 第11回 その2 多層パーセプトロンで関数を表現\n",
    "\n",
    "<h3>概要：<br>パーセプトロンを多層に配置することで任意の関数を近似する</h3>"
   ]
  },
  {
   "cell_type": "code",
   "execution_count": null,
   "metadata": {
    "slideshow": {
     "slide_type": "skip"
    }
   },
   "outputs": [],
   "source": [
    "# import"
   ]
  },
  {
   "cell_type": "markdown",
   "metadata": {
    "slideshow": {
     "slide_type": "slide"
    }
   },
   "source": [
    "## 多層パーセプトロン\n",
    "\n",
    "パーセプトロンの入力と出力の間に内部層（隠れ層）を加えて多層化したものを多層パーセプトロン (Multi-Layer Perceptron) という．これを用いて任意の入出力関係 $y=F(x)$ を近似してみよう．\n",
    "\n",
    "まず多層化したことでどのような出力を構成できることになるか確かめてみる"
   ]
  },
  {
   "cell_type": "code",
   "execution_count": null,
   "metadata": {
    "slideshow": {
     "slide_type": "skip"
    }
   },
   "outputs": [],
   "source": [
    "# 階段の段の位置を変えて interactive に「階段」を描画 \n",
    "def plot_2Lperceptron1d (s1=-1, s2=1, w1=1, w2=1):\n",
    "    # 関数のグラフの描画用の点の数 N\n",
    "\n",
    "    \n",
    "    # 横軸データ: 入力ノード x\n",
    "\n",
    "    \n",
    "    # 隠れ層のノード z1, z2\n",
    "\n",
    "    \n",
    "    # 縦軸データ: 出力ノード y\n",
    "\n",
    "    \n",
    "    # 関数の描画\n",
    "\n",
    "    \n",
    "# interact でパラメータを動かしてグラフを観察する\n",
    "\n"
   ]
  },
  {
   "cell_type": "markdown",
   "metadata": {},
   "source": [
    "段が2段ある階段関数を作ることができた．\n",
    "\n",
    "- $s_1$ と $s_2$ はそれぞれ段の位置を表す\n",
    "- $w_1$ と $w_2$ はそれぞれ段をどれくらい上下させるかを表す\n",
    "\n",
    "### パーセプトロンで箱を作る\n",
    "\n",
    "$w_2=-w_1$ としておくと，$x=s_1$ で高さ $w_1$ の段ができた後，$x=s_2$ で段が戻るようにできる．\n",
    "\n",
    "* $s_1<s_2$ ならば，高さ $w_1$ の箱が作れる\n",
    "* $s_1>s_2$ ならば，高さ $w_2$ の箱が作れる\n",
    "\n",
    "そのため，$w=w_1=-w_2$ とおいて再度描画してみよう．"
   ]
  },
  {
   "cell_type": "code",
   "execution_count": null,
   "metadata": {
    "slideshow": {
     "slide_type": "skip"
    }
   },
   "outputs": [],
   "source": [
    "# 階段の段の位置を変えて interactive に「箱」を描画 \n",
    "def plot_2Lperceptron1d_box (s1=-1, s2=1, w=1):\n",
    "    # 関数のグラフの描画用の点の数 N\n",
    "\n",
    "    \n",
    "    # 横軸データ: 入力ノード x\n",
    "\n",
    "    \n",
    "    # 隠れ層のノード z1, z2\n",
    "\n",
    "    \n",
    "    # 縦軸データ: 出力ノード y\n",
    "\n",
    "    \n",
    "    # 関数の描画\n",
    "\n",
    "    \n",
    "# interact でパラメータを動かしてグラフを観察する\n",
    "\n"
   ]
  },
  {
   "cell_type": "markdown",
   "metadata": {
    "slideshow": {
     "slide_type": "slide"
    }
   },
   "source": [
    "これで箱を$x$軸の上に1つ置いたような関数を作ることができた．\n",
    "\n",
    "* $s_1<s_2$ ならば $w$ の高さの箱\n",
    "* $s_1>s_2$ ならば $-w$ の高さの箱\n",
    "\n",
    "ができている．"
   ]
  },
  {
   "cell_type": "markdown",
   "metadata": {
    "slideshow": {
     "slide_type": "slide"
    }
   },
   "source": [
    "### 2つの箱を置く\n",
    "\n",
    "では次に2つの箱をおくようにしてみよう"
   ]
  },
  {
   "cell_type": "code",
   "execution_count": null,
   "metadata": {
    "slideshow": {
     "slide_type": "skip"
    }
   },
   "outputs": [],
   "source": [
    "# 階段の段の位置を変えて interactive に「箱」を2つ描画 \n",
    "def plot_2Lperceptron1d_2boxes (s11=-1, s12=0, s21=1, s22=2, w1=1, w2=1):\n",
    "    # 関数のグラフの描画用の点の数 N\n",
    "\n",
    "    \n",
    "    # 横軸データ: 入力ノード x\n",
    "\n",
    "    \n",
    "    # 1つ目の箱：隠れ層のノード z11, z12\n",
    "\n",
    "    \n",
    "    # 2つ目の箱：隠れ層のノード z21, z22\n",
    "\n",
    "    \n",
    "    # 縦軸データ: 出力ノード y\n",
    "\n",
    "    \n",
    "    # 関数の描画\n",
    "\n",
    "    \n",
    "# interact でパラメータを動かしてグラフを観察する\n",
    "\n"
   ]
  },
  {
   "cell_type": "markdown",
   "metadata": {},
   "source": [
    "## 階段関数による近似\n",
    "\n",
    "この箱をたくさん用いて階段状に関数のグラフを近似することができる．"
   ]
  },
  {
   "cell_type": "code",
   "execution_count": null,
   "metadata": {
    "slideshow": {
     "slide_type": "skip"
    }
   },
   "outputs": [],
   "source": [
    "### 近似したい関数のデータ生成 ###\n",
    "# 横座標 x\n",
    "\n",
    "\n",
    "# 縦座標 y_truth\n",
    "\n",
    "\n",
    "# 描画\n",
    "\n"
   ]
  },
  {
   "cell_type": "code",
   "execution_count": null,
   "metadata": {
    "slideshow": {
     "slide_type": "skip"
    }
   },
   "outputs": [],
   "source": [
    "# 階段の段の位置を変えて interactive に「箱」を3つ描画 \n",
    "def plot_2Lperceptron1d_boxapproximation (s11=-2, s12=-1.5, s21=-1.0, s22=-0.5, \n",
    "                                          s31=0, s32=0.5, w1=1, w2=1, w3=1):\n",
    "    # 関数のグラフの描画用の点の数 N\n",
    "\n",
    "    \n",
    "    # 横軸データ: 入力ノード x\n",
    "\n",
    "    \n",
    "    # 1つ目の箱：隠れ層のノード z11, z12\n",
    "\n",
    "    \n",
    "    # 2つ目の箱：隠れ層のノード z21, z22\n",
    "\n",
    "    \n",
    "    # 3つ目の箱：隠れ層のノード z31, z32\n",
    "\n",
    "    \n",
    "    # 縦軸データ: 出力ノード y\n",
    "\n",
    "    \n",
    "    # 関数の描画\n",
    "\n",
    "    \n",
    "    # 組んだパーセプトロンモデルの出力 y と y_truth との MSE\n",
    "\n",
    "    \n",
    "# interact でパラメータを動かしてグラフを観察する\n",
    "\n"
   ]
  },
  {
   "cell_type": "markdown",
   "metadata": {},
   "source": [
    "さすがに3では関数の近似には箱の数が足らない．\n",
    "\n",
    "箱の数をどんどん追加してもいいが，パラメータが多くなってしまう．箱の幅は 0.5 で固定することにしよう."
   ]
  },
  {
   "cell_type": "code",
   "execution_count": null,
   "metadata": {
    "slideshow": {
     "slide_type": "skip"
    }
   },
   "outputs": [],
   "source": [
    "# 階段の段の位置を変えて interactive に幅0.5の「箱」を6つ描画 \n",
    "def plot_2Lperceptron1d_boxapproximation_fixedwidth (s1=-2.5, s2=-1.5, s3=-0.5, s4=0.5, \n",
    "                                                     s5=1.5, s6=2.5, w1=1, w2=1, w3=1, w4=1, w5=1, w6=1):\n",
    "    # 関数のグラフの描画用の点の数 N\n",
    "\n",
    "    \n",
    "    # 箱の幅のパラメータ\n",
    "\n",
    "    \n",
    "    # 横軸データ: 入力ノード x\n",
    "\n",
    "    \n",
    "    # 1つ目の箱：隠れ層のノード z11, z12\n",
    "\n",
    "    \n",
    "    # 2つ目の箱：隠れ層のノード z21, z22\n",
    "\n",
    "    \n",
    "    # 3つ目の箱：隠れ層のノード z31, z32\n",
    "\n",
    "    \n",
    "    # 4つ目の箱：隠れ層のノード z41, z42\n",
    "\n",
    "    \n",
    "    # 5つ目の箱：隠れ層のノード z51, z52\n",
    "\n",
    "    \n",
    "    # 6つ目の箱：隠れ層のノード z61, z62\n",
    "\n",
    "    \n",
    "    # 縦軸データ: 出力ノード y\n",
    "\n",
    "    \n",
    "    # 関数の描画\n",
    "\n",
    "    \n",
    "    # 組んだパーセプトロンモデルの出力 y と y_truth との MSE\n",
    "\n",
    "    \n",
    "# interact でパラメータを動かしてグラフを観察する\n",
    "\n"
   ]
  },
  {
   "cell_type": "markdown",
   "metadata": {},
   "source": [
    "なかなか手で合わせるのは大変だができなくはない．"
   ]
  },
  {
   "cell_type": "code",
   "execution_count": null,
   "metadata": {
    "slideshow": {
     "slide_type": "skip"
    }
   },
   "outputs": [],
   "source": [
    "# パラメータの配列 w を与えたら階段関数を描画\n",
    "def plot_2Lperceptron1d_boxapproximation_fixedwidth_arraytype (w):\n",
    "    # 関数のグラフの描画用の点の数 N\n",
    "\n",
    "    \n",
    "    # 横軸データ: 入力ノード x\n",
    "\n",
    "    \n",
    "    # 箱の数 L\n",
    "\n",
    "    \n",
    "    # 箱の幅 (描画範囲を L 等分する)\n",
    "\n",
    "    \n",
    "    # 箱の左端の x 座標の配列（長さ L の配列）\n",
    "\n",
    "    \n",
    "    # ニューラルネットワークで作る関数の値を格納する配列（長さ L の配列）\n",
    "\n",
    "    \n",
    "    # 関数の描画\n",
    "\n",
    "    \n",
    "    # 組んだパーセプトロンモデルの出力 y と y_truth との MSE\n",
    "\n",
    "    "
   ]
  },
  {
   "cell_type": "markdown",
   "metadata": {
    "slideshow": {
     "slide_type": "slide"
    }
   },
   "source": [
    "出来上がりのものをどうぞ"
   ]
  },
  {
   "cell_type": "code",
   "execution_count": null,
   "metadata": {
    "slideshow": {
     "slide_type": "-"
    }
   },
   "outputs": [],
   "source": [
    "# 出来上がり品\n",
    "w = np.array([0.30, 0.40, 0.50, 0.30, 0.15, 0.00, -0.10, 0.10, 0.25, 0.50, \n",
    "              0.62, 0.50, 0.40, 0.20, 0.15, 0.20,  0.30, 0.65, 0.80, 0.85])\n",
    "plot_2Lperceptron1d_boxapproximation_fixedwidth_arraytype(w)"
   ]
  },
  {
   "cell_type": "markdown",
   "metadata": {
    "slideshow": {
     "slide_type": "slide"
    }
   },
   "source": [
    "## scikit-learn を使ってみよう\n",
    "\n",
    "ただし，scikit-learn の MLPRegressor の活性化関数に Heaviside 関数を選べないので，他のものを使うことにする．"
   ]
  },
  {
   "cell_type": "code",
   "execution_count": null,
   "metadata": {},
   "outputs": [],
   "source": [
    "# 横座標 x (なかなか収束しないので，データサイズ少なめにしておく)\n",
    "\n",
    "\n",
    "# 縦座標 y_truth\n",
    "\n",
    "\n",
    "\n",
    "# MLPRegressor\n",
    "\n",
    "\n",
    "# fit and predict\n",
    "\n",
    "\n",
    "# 関数の描画\n",
    "\n",
    "\n",
    "# MSE\n",
    "\n"
   ]
  },
  {
   "cell_type": "markdown",
   "metadata": {},
   "source": [
    "自動でうまくできます"
   ]
  },
  {
   "cell_type": "markdown",
   "metadata": {},
   "source": [
    "## 演習11-1\n",
    "\n",
    "上の MLPRegresor のパラメータを適当に調整することで y_truth により近い関数を与えてみせよ．"
   ]
  },
  {
   "cell_type": "markdown",
   "metadata": {},
   "source": [
    "---\n",
    "## <div style=\"text-align: right;\"><strong>Intro2PracDS_2021_10_03_ActivationFunctions につづく</strong></div>"
   ]
  }
 ],
 "metadata": {
  "hide_input": false,
  "kernelspec": {
   "display_name": "Python 3 (ipykernel)",
   "language": "python",
   "name": "python3"
  },
  "language_info": {
   "codemirror_mode": {
    "name": "ipython",
    "version": 3
   },
   "file_extension": ".py",
   "mimetype": "text/x-python",
   "name": "python",
   "nbconvert_exporter": "python",
   "pygments_lexer": "ipython3",
   "version": "3.7.9"
  }
 },
 "nbformat": 4,
 "nbformat_minor": 2
}
