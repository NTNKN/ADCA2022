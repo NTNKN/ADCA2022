{
 "cells": [
  {
   "cell_type": "markdown",
   "metadata": {},
   "source": [
    "# データ解析特論 2022年度水曜２限\n",
    "\n",
    "# 第7回 その1 Ridge 正則化"
   ]
  },
  {
   "cell_type": "code",
   "execution_count": 1,
   "metadata": {},
   "outputs": [],
   "source": [
    "# import\n",
    "import numpy as np\n",
    "import matplotlib.pyplot as plt\n",
    "from sklearn.linear_model import LinearRegression, Ridge\n",
    "from ipywidgets import interact"
   ]
  },
  {
   "cell_type": "markdown",
   "metadata": {},
   "source": [
    "## 正則化とは\n",
    "\n",
    "多項式回帰において，多項式の次数を十分上げると学習誤差を限りなく下げられることを見た．しかしこの場合は汎化誤差が大きくなる過学習を引き起こす可能性があるのであった．過学習を抑えるためには汎化誤差が上がらないような次数をテスト用のデータを用いて検証すれば良いが，学習時に過学習させないように工夫することも重要である．その一つが__正則化__と呼ばれる操作である．"
   ]
  },
  {
   "cell_type": "markdown",
   "metadata": {},
   "source": [
    "最小二乗法による学習では\n",
    "\n",
    "$$\n",
    "E(a_0, a_1, \\ldots, a_N) := \\frac1N \\sum_{i=1}^N (e^{(i)})^2 = \\frac1N \\sum_{i=1}^N \\left( y^{(i)} - a_0 - \\sum_{j=1}^M a_j x_j^{(i)} \\right)^2\n",
    "$$\n",
    "\n",
    "という平均二乗誤差を最小にするパラメータ $a_0, a_1, \\ldots, a_M$ を求めたのであった．\n",
    "\n",
    "正則化最小二乗法とは，ハイパーパラメータ $\\eta>0$ に対して\n",
    "\n",
    "$$\n",
    "\\tilde E(a_0, a_1, \\ldots, a_N; \\eta) := \\frac1N \\sum_{i=1}^N (e^{(i)})^2 + \\eta \\sum_{j=0}^M (a_j)^2\n",
    "= \\frac1N \\sum_{i=1}^N \\left( y^{(i)} - a_0 - \\sum_{j=1}^M a_j x_j^{(i)} \\right)^2 + \\eta \\sum_{j=0}^M (a_j)^2\n",
    "\\qquad ...(*)\n",
    "$$\n",
    "\n",
    "を最小にする $a_0, a_1, \\ldots, a_M$ を求める手法である．$(*)$ の右辺第二項を正則化項と呼ぶ．\n",
    "\n",
    "一般に過学習が行われるときは，過剰な回帰変数 $x_j$ にまで非零のパラメータ $a_j$ が与えられてしまい，結果的に\n",
    "\n",
    "$$\n",
    "\\sum_{j=0}^M (a_j)^2\n",
    "$$\n",
    "\n",
    "の値が大きくなっている．誤差を最小化させたくても $\\sum_{j=0}^M (a_j)^2$ が大きくなってしまうなら，それは最小化問題としては罰則として働いてしまう．そのため，$(*)$ の右辺第二項のことを罰則項とも呼ぶ．"
   ]
  },
  {
   "cell_type": "code",
   "execution_count": 21,
   "metadata": {},
   "outputs": [
    {
     "data": {
      "text/plain": [
       "(30, 31)"
      ]
     },
     "execution_count": 21,
     "metadata": {},
     "output_type": "execute_result"
    }
   ],
   "source": [
    "# 真のパラメータ\n",
    "A0 = 0.2\n",
    "A1 = -1.6\n",
    "A2 = 1.0\n",
    "A3 = 3.0\n",
    "\n",
    "# training data\n",
    "X1 = np.arange(-2, 1, 0.1)\n",
    "Y1 = A0 + A1*X1 + A2*X1**2 + A3*X1**3 + 4*(np.random.rand(X1.size) -0.5)\n",
    "\n",
    "# test data\n",
    "X2 = np.arange(-2.05, 1, 0.1)\n",
    "Y2 = A0 + A1*X2 + A2*X2**2 + A3*X2**3 + 4*(np.random.rand(X2.size) -0.5)\n",
    "\n",
    "X1.size, X2.size"
   ]
  },
  {
   "cell_type": "markdown",
   "metadata": {},
   "source": [
    "### 多項式フィッティング（復習）\n",
    "\n",
    "回帰変数2つの重回帰では，データ空間 $(x_1, x_2, y)$ の3次元空間に回帰平面を引き，データから平面までの高さの二乗和が最小になるように選ぶ．"
   ]
  },
  {
   "cell_type": "code",
   "execution_count": 22,
   "metadata": {},
   "outputs": [
    {
     "data": {
      "image/png": "[encoded data removed]",
      "text/plain": [
       "<Figure size 600x200 with 2 Axes>"
      ]
     },
     "metadata": {},
     "output_type": "display_data"
    }
   ],
   "source": [
    "# フィッティングに用いる多項式の最大次数を１から1つずつ maxM まで増やしていく\n",
    "maxM = 50\n",
    "\n",
    "# dataset: Xtrain, Xtest\n",
    "Xtrain = np.ones((X1.size, 1))\n",
    "Xtest  = np.ones((X2.size, 1))\n",
    "\n",
    "# 回帰モデルの設定: reg\n",
    "reg = LinearRegression(fit_intercept=False)\n",
    "\n",
    "# MSE格納用配列: MSE1 and MSE2\n",
    "MSE1 = np.zeros(maxM+1)\n",
    "MSE2 = np.zeros(maxM+1)\n",
    "\n",
    "# 回帰係数格納用配列: coeff\n",
    "coeff = np.zeros((maxM+1, maxM+1))\n",
    "\n",
    "# 回帰係数のL^2ノルム用配列: anorm2\n",
    "anorm2 = np.zeros(maxM+1)\n",
    "\n",
    "# 多項式の次数 M ごとに MSE と回帰係数とそのノルムを計算\n",
    "for M in range(1, maxM+1):\n",
    "    # 多項式回帰用の回帰変数の配列を作成\n",
    "    Xtrain = np.hstack([Xtrain, X1.reshape(-1, 1)**M])\n",
    "    Xtest  = np.hstack([Xtest,  X2.reshape(-1, 1)**M])\n",
    "    \n",
    "    # 学習データとテストデータの予測値を出力\n",
    "    Y1pred = reg.fit(Xtrain, Y1).predict(Xtrain)\n",
    "    Y2pred = reg.predict(Xtest)\n",
    "    \n",
    "    # 回帰係数の格納\n",
    "    coeff[M, :M+1] = reg.coef_\n",
    "    \n",
    "    # MSE の計算\n",
    "    MSE1[M] = np.mean((Y1-Y1pred)**2)\n",
    "    MSE2[M] = np.mean((Y2-Y2pred)**2)\n",
    "    \n",
    "    # 回帰係数のL^2ノルム\n",
    "    anorm2[M] = np.sum(reg.coef_**2)\n",
    "    \n",
    "### 結果の描画 ###\n",
    "# MSE\n",
    "fig, ax = plt.subplots(ncols=2, figsize=(6, 2))\n",
    "ax[0].plot(np.arange(1, maxM+1), MSE1[1:], label='MSE train')\n",
    "ax[0].plot(np.arange(1, maxM+1), MSE2[1:], label='MSE test')\n",
    "ax[0].legend()\n",
    "\n",
    "# 回帰係数のL^2ノルム\n",
    "ax[1].plot(np.arange(1, maxM+1), anorm2[1:])\n",
    "ax[1].set_yscale('log')\n"
   ]
  },
  {
   "cell_type": "markdown",
   "metadata": {},
   "source": [
    "多項式の次数が増えるにつれ，テスト誤差が大きくなるし，さらに学習で得た回帰係数の $L^2$ ノルムが異常に大きくなっている．右図の縦軸は対数であることに注意する．  \n",
    "（この例でも double descent は観察されるので，サンプルサイズより大きな次数を取るとテスト誤差や回帰係数のノルムは下がっている．）"
   ]
  },
  {
   "cell_type": "code",
   "execution_count": 25,
   "metadata": {},
   "outputs": [],
   "source": [
    "# 多項式回帰関数のプロット\n",
    "def plot_XY_and_PolyReg(M=1):\n",
    "    # 回帰多項式の曲線 XX, YY\n",
    "    XX = np.arange(-2, 1, 0.01)\n",
    "    \n",
    "    #YY = coeff[M, 0]\n",
    "    #for i in range(1, M+1):\n",
    "    #    YY += coeff[M, i]*XX**i\n",
    "    YY = np.sum(coeff[M] * XX.reshape(-1, 1)**np.arange(maxM+1), axis=1)\n",
    "    \n",
    "    # 描画\n",
    "    fig, ax = plt.subplots(ncols=2, figsize=(6, 2))\n",
    "    \n",
    "    # train\n",
    "    ax[0].scatter(X1, Y1)\n",
    "    ax[0].plot(XX, YY, c='tab:orange', zorder=1)\n",
    "    ax[0].set_ylim(-20, 5)\n",
    "    ax[0].set_title('MSE = %f'%(MSE1[M]))\n",
    "    # test\n",
    "    ax[1].scatter(X2, Y2)\n",
    "    ax[1].plot(XX, YY, c='tab:orange', zorder=1)\n",
    "    ax[1].set_ylim(-20, 5)\n",
    "    ax[1].set_title('MSE = %f'%(MSE2[M]))"
   ]
  },
  {
   "cell_type": "code",
   "execution_count": 26,
   "metadata": {},
   "outputs": [
    {
     "data": {
      "application/vnd.jupyter.widget-view+json": {
       "model_id": "051d452f98784b6eac4320ea3778432a",
       "version_major": 2,
       "version_minor": 0
      },
      "text/plain": [
       "interactive(children=(IntSlider(value=1, description='M', max=50, min=1), Output()), _dom_classes=('widget-int…"
      ]
     },
     "metadata": {},
     "output_type": "display_data"
    },
    {
     "data": {
      "text/plain": [
       "<function __main__.plot_XY_and_PolyReg(M=1)>"
      ]
     },
     "execution_count": 26,
     "metadata": {},
     "output_type": "execute_result"
    }
   ],
   "source": [
    "# interact で M を変えてみる\n",
    "interact(plot_XY_and_PolyReg, M=(1, maxM))"
   ]
  },
  {
   "cell_type": "markdown",
   "metadata": {},
   "source": [
    "やはり次数を上げると学習で得られた回帰多項式は大きく振動することがわかる．汎化性能が低いのはそれが理由である．"
   ]
  },
  {
   "cell_type": "markdown",
   "metadata": {},
   "source": [
    "## 正則化する！\n",
    "\n",
    "上では正則化せずに多項式フィッティングを行ったので過学習が起きやすく汎化誤差が大きくなる傾向が見られた．\n",
    "\n",
    "以下では正則化項を入れて多項式フィッティングを行うことにして，正則化の影響を確認しよう．"
   ]
  },
  {
   "cell_type": "code",
   "execution_count": 44,
   "metadata": {},
   "outputs": [
    {
     "data": {
      "text/plain": [
       "[<matplotlib.lines.Line2D at 0x7faa17fbd6d0>]"
      ]
     },
     "execution_count": 44,
     "metadata": {},
     "output_type": "execute_result"
    },
    {
     "data": {
      "image/png": "[encoded data removed]",
      "text/plain": [
       "<Figure size 600x200 with 2 Axes>"
      ]
     },
     "metadata": {},
     "output_type": "display_data"
    }
   ],
   "source": [
    "# 正則化パラメータ\n",
    "alpha = 1.1\n",
    "\n",
    "# フィッティングに用いる多項式の最大次数を１から1つずつ maxM まで増やしていく\n",
    "maxM = 20\n",
    "\n",
    "# dataset: Xtrain, Xtest\n",
    "XtrainR = np.ones((X1.size, 1))\n",
    "XtestR  = np.ones((X2.size, 1))\n",
    "\n",
    "# 回帰モデルの設定: reg\n",
    "regR = Ridge(alpha=alpha, fit_intercept=False)\n",
    "\n",
    "# MSE格納用配列: MSE1 and MSE2\n",
    "MSE1R = np.zeros(maxM+1)\n",
    "MSE2R = np.zeros(maxM+1)\n",
    "\n",
    "# 回帰係数格納用配列: coeff\n",
    "coeffR = np.zeros((maxM+1, maxM+1))\n",
    "\n",
    "# 回帰係数のL^2ノルム用配列: anorm2\n",
    "anorm2R = np.zeros(maxM+1)\n",
    "\n",
    "# 多項式の次数 M ごとに MSE と回帰係数とそのノルムを計算\n",
    "for M in range(1, maxM+1):\n",
    "    # 多項式回帰用の回帰変数の配列を作成\n",
    "    XtrainR = np.hstack([XtrainR, X1.reshape(-1, 1)**M])\n",
    "    XtestR  = np.hstack([XtestR,  X2.reshape(-1, 1)**M])\n",
    "    \n",
    "    # 学習データとテストデータの予測値を出力\n",
    "    Y1predR = regR.fit(XtrainR, Y1).predict(XtrainR)\n",
    "    Y2predR = regR.predict(XtestR)\n",
    "    \n",
    "    # 回帰係数の格納\n",
    "    coeffR[M, :M+1] = regR.coef_\n",
    "    \n",
    "    # MSE の計算\n",
    "    MSE1R[M] = np.mean((Y1-Y1predR)**2)\n",
    "    MSE2R[M] = np.mean((Y2-Y2predR)**2)\n",
    "    \n",
    "    # 回帰係数のL^2ノルム\n",
    "    anorm2R[M] = np.sum(regR.coef_**2)\n",
    "    \n",
    "### 結果の描画 ###\n",
    "# MSE\n",
    "fig, ax = plt.subplots(ncols=2, figsize=(6, 2))\n",
    "ax[0].plot(np.arange(1, maxM+1), MSE1R[1:], label='MSE train by Ridge')\n",
    "ax[0].plot(np.arange(1, maxM+1), MSE2R[1:], label='MSE test by Ridge')\n",
    "ax[0].legend()\n",
    "\n",
    "# 回帰係数のL^2ノルム\n",
    "ax[1].plot(np.arange(1, maxM+1), anorm2R[1:])\n",
    "#ax[1].set_yscale('log')\n"
   ]
  },
  {
   "cell_type": "code",
   "execution_count": 45,
   "metadata": {},
   "outputs": [],
   "source": [
    "# 多項式回帰関数のプロット\n",
    "def plot_XY_and_PolyRegRidge(M=1):\n",
    "    XX = np.arange(-2, 1, 0.01)\n",
    "    YY = np.sum(coeffR[M] * XX.reshape(-1, 1)**np.arange(maxM+1), axis=1)\n",
    "    \n",
    "    # 描画\n",
    "    fig, ax = plt.subplots(ncols=2, figsize=(6, 2))\n",
    "    \n",
    "    # train\n",
    "    ax[0].scatter(X1, Y1)\n",
    "    ax[0].plot(XX, YY, c='tab:orange', zorder=1)\n",
    "    ax[0].set_ylim(-20, 5)\n",
    "    ax[0].set_title('MSE = %f'%(MSE1R[M]))\n",
    "    # test\n",
    "    ax[1].scatter(X2, Y2)\n",
    "    ax[1].plot(XX, YY, c='tab:orange', zorder=1)\n",
    "    ax[1].set_ylim(-20, 5)\n",
    "    ax[1].set_title('MSE = %f'%(MSE2R[M]))"
   ]
  },
  {
   "cell_type": "code",
   "execution_count": 43,
   "metadata": {},
   "outputs": [
    {
     "data": {
      "application/vnd.jupyter.widget-view+json": {
       "model_id": "c96fc2bea6b54f94a2be336d284cdd37",
       "version_major": 2,
       "version_minor": 0
      },
      "text/plain": [
       "interactive(children=(IntSlider(value=1, description='M', max=20, min=1), Output()), _dom_classes=('widget-int…"
      ]
     },
     "metadata": {},
     "output_type": "display_data"
    },
    {
     "data": {
      "text/plain": [
       "<function __main__.plot_XY_and_PolyRegRidge(M=1)>"
      ]
     },
     "execution_count": 43,
     "metadata": {},
     "output_type": "execute_result"
    }
   ],
   "source": [
    "# interact で M を変えてみる\n",
    "interact(plot_XY_and_PolyRegRidge, M=(1, maxM))"
   ]
  },
  {
   "cell_type": "markdown",
   "metadata": {},
   "source": [
    "## 演習 07-1"
   ]
  },
  {
   "cell_type": "markdown",
   "metadata": {},
   "source": [
    "Iris データセットに対して，Ridge 正則化によるフィッティングと AIC によるモデル選択（正則化は行わない）ではどのような差が起きるか． \n",
    "データを解析して両者を比較し，考察せよ．"
   ]
  },
  {
   "cell_type": "markdown",
   "metadata": {},
   "source": [
    "<h3><div style=\"text-align: right;\">以上</div></h3>"
   ]
  }
 ],
 "metadata": {
  "hide_input": false,
  "kernelspec": {
   "display_name": "Python 3 (ipykernel)",
   "language": "python",
   "name": "python3"
  },
  "language_info": {
   "codemirror_mode": {
    "name": "ipython",
    "version": 3
   },
   "file_extension": ".py",
   "mimetype": "text/x-python",
   "name": "python",
   "nbconvert_exporter": "python",
   "pygments_lexer": "ipython3",
   "version": "3.7.9"
  }
 },
 "nbformat": 4,
 "nbformat_minor": 2
}
