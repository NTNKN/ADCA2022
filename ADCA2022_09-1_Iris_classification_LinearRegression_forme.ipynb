{
 "cells": [
  {
   "cell_type": "markdown",
   "metadata": {},
   "source": [
    "# データ解析特論 2022年度水曜２限\n",
    "\n",
    "# 第9回 その1 分類ことはじめ"
   ]
  },
  {
   "cell_type": "code",
   "execution_count": 1,
   "metadata": {},
   "outputs": [],
   "source": [
    "import numpy as np\n",
    "import matplotlib.pyplot as plt\n",
    "from sklearn import datasets\n",
    "from sklearn.linear_model import LinearRegression\n",
    "from sklearn.metrics import confusion_matrix, classification_report\n",
    "from sklearn.model_selection import train_test_split"
   ]
  },
  {
   "cell_type": "markdown",
   "metadata": {},
   "source": [
    "これまでは主に回帰をやってきた．回帰とは説明変数 $(x_1, x_2, \\ldots, x_n)$ と目的変数 $y$ の間に $y=f(x_1, x_2, \\ldots, x_n)$ のような関数関係を与えることを意味する．特に $y$ は数値変数を扱ってきたのだった．\n",
    "\n",
    "データ科学では数値変数だけでなくラベル変数（カテゴリー変数）を扱う場合もある．例えば iris データセットでいうと，target に入っているのはあやめの種類 Setosa, Versicolor, Virginica である．これらのラベルにはそれぞれ 0, 1, 2 という数値が与えられているが，数値自体に意味はない．Setosa にラベル 2 を付与しても構わないし，ラベルの数値の大小関係にも意味はない．あくまで別の種類であることがわかれば良い．\n",
    "\n",
    "もしあやめの SL, SW, PL, PW から種類 Sp を当てる問題を考えるなら，それは\n",
    "$$\n",
    "\\mathrm{Sp} = f(\\mathrm{SL}, \\mathrm{SW}, \\mathrm{PL}, \\mathrm{PW})\n",
    "$$\n",
    "という関係を考えることになる．これも一見して回帰と同じ形をしている．実際 Sp を 0, 1, 2 という数値ラベルで考えるなら，回帰と全く同様の計算ができる．ただし，上述の通り Sp のラベルの値自体に意味はないので，それらを取り替えたとしてもラベル変数を当てる回帰ができないといけないことには注意しよう．\n",
    "\n",
    "以下では，まずこれまでと全く同様の回帰の手法でラベルの分類手法を試してみよう．"
   ]
  },
  {
   "cell_type": "markdown",
   "metadata": {},
   "source": [
    "## データセット読み込み"
   ]
  },
  {
   "cell_type": "code",
   "execution_count": 11,
   "metadata": {},
   "outputs": [
    {
     "name": "stdout",
     "output_type": "stream",
     "text": [
      "['sepal length (cm)', 'sepal width (cm)', 'petal length (cm)', 'petal width (cm)']\n",
      "['setosa' 'versicolor' 'virginica']\n"
     ]
    },
    {
     "data": {
      "text/plain": [
       "[<matplotlib.axis.YTick at 0x7fd74d6038d0>,\n",
       " <matplotlib.axis.YTick at 0x7fd74d5fac90>,\n",
       " <matplotlib.axis.YTick at 0x7fd74d2dbc50>]"
      ]
     },
     "execution_count": 11,
     "metadata": {},
     "output_type": "execute_result"
    },
    {
     "data": {
      "image/png": "[encoded data removed]",
      "text/plain": [
       "<Figure size 200x200 with 1 Axes>"
      ]
     },
     "metadata": {},
     "output_type": "display_data"
    }
   ],
   "source": [
    "# IRISデータセット読み込み\n",
    "iris = datasets.load_iris()\n",
    "\n",
    "# データの特徴量\n",
    "print(iris.feature_names)\n",
    "print(iris.target_names)\n",
    "\n",
    "#　データセット読み込み (SLとSpのみ)\n",
    "SL = iris.data[:, 0]\n",
    "Sp = iris.target \n",
    "\n",
    "# SL と種別の図\n",
    "fig, ax = plt.subplots(figsize=(2, 2 ))\n",
    "for i in range(3):\n",
    "    ax.scatter(SL[Sp==i], Sp[Sp==i])\n",
    "ax.set_yticks([0, 1, 2])"
   ]
  },
  {
   "cell_type": "markdown",
   "metadata": {},
   "source": [
    "### 2値分類\n",
    "\n",
    "Iris のデータのうち，Setosa と Virginica だけを取り出し，それらの分類を行うことにする．ラベルが2種の場合の分類を **2値分類** という．\n",
    "\n",
    "Virginica のラベルは 2 だが，便宜上 1 に付け替えることにする．（別に 2 のままでも全く問題ない．）"
   ]
  },
  {
   "cell_type": "code",
   "execution_count": 13,
   "metadata": {},
   "outputs": [
    {
     "data": {
      "image/png": "[encoded data removed]",
      "text/plain": [
       "<Figure size 200x200 with 1 Axes>"
      ]
     },
     "metadata": {},
     "output_type": "display_data"
    }
   ],
   "source": [
    "# Setosa と Virginica のデータだけ取り出す\n",
    "X = SL[Sp!=1]\n",
    "\n",
    "# Setosa と Virginica のデータだけ取り出し，Virginica のラベルを2から1に変える\n",
    "Y = Sp[Sp!=1]/2\n",
    "\n",
    "# SL と2種のみの種別の図\n",
    "fig, ax = plt.subplots(figsize=(2, 2 ))\n",
    "for i in range(2):\n",
    "    ax.scatter(X[Y==i], Y[Y==i])\n",
    "ax.set_yticks([0, 1])\n",
    "plt.show()"
   ]
  },
  {
   "cell_type": "markdown",
   "metadata": {},
   "source": [
    "このデータだと，SLの値が小さいと Setosa, 大きいと Virginica という傾向がある．種別のラベルは SL の関数として表すことができそうだ．では学習データとテストデータに分けて回帰してみよう．\n",
    "\n",
    "### train-test split\n"
   ]
  },
  {
   "cell_type": "code",
   "execution_count": 15,
   "metadata": {},
   "outputs": [
    {
     "data": {
      "text/plain": [
       "(50,)"
      ]
     },
     "execution_count": 15,
     "metadata": {},
     "output_type": "execute_result"
    }
   ],
   "source": [
    "# 学習データとテストデータに分割\n",
    "Xtrain, Xtest, Ytrain, Ytest = train_test_split(X, Y, test_size=0.5)\n",
    "Xtrain.shape"
   ]
  },
  {
   "cell_type": "code",
   "execution_count": null,
   "metadata": {},
   "outputs": [],
   "source": [
    "# SL と2種のみの種別の図\n",
    "\n"
   ]
  },
  {
   "cell_type": "markdown",
   "metadata": {},
   "source": [
    "## 線形回帰を試す\n",
    "\n",
    "Sp を SL の単回帰で表すことにする．\n",
    "\n",
    "注意しないといけないことは，Setosa と Virginica は 0 or 1 というラベルで表されていることである．当たり前だが，線形単回帰を用いると得られるのは直線であってラベルではない．\n",
    "\n",
    "線形単回帰で回帰直線からラベルを与える方法はいくつか考えられる．以下では例として，回帰直線 $y = a_1 x + a_0'$ において $y$ が $1/2$ を上回るか否かでラベルを与えることにしよう．\n",
    "\n",
    "このように数値の範囲を分割することでラベル化する場合の境界を **決定境界**という．今の場合は説明変数が1つなので，決定境界は点で表される．この場合の決定境界は $y=1/2$ となる $x$ であるから，\n",
    "$$\n",
    "x_0 = \\frac{1/2-a_0}{a_1}\n",
    "$$\n",
    "と定まる．\n",
    "\n",
    "つまり，ラベル $l$ は\n",
    "$$\n",
    "l = \\begin{cases}\n",
    "1 & (x>x_0) \\\\\n",
    "0 & (x<x_0) \n",
    "\\end{cases}\n",
    "$$\n",
    "と与えるというわけだ．\n",
    "\n",
    "$x=x_0$ のデータは決定境界の上にあるので，判定不可とするかもしくは便宜上どちらかのラベルに入れておく．"
   ]
  },
  {
   "cell_type": "code",
   "execution_count": 19,
   "metadata": {},
   "outputs": [
    {
     "name": "stdout",
     "output_type": "stream",
     "text": [
      "5.904381846635367\n"
     ]
    },
    {
     "data": {
      "text/plain": [
       "array([False, False,  True, False,  True, False,  True,  True, False,\n",
       "       False,  True,  True, False,  True,  True, False, False,  True,\n",
       "       False,  True, False, False,  True,  True,  True, False, False,\n",
       "        True, False,  True, False,  True,  True, False,  True, False,\n",
       "       False, False,  True, False,  True, False, False, False, False,\n",
       "        True, False, False,  True, False])"
      ]
     },
     "execution_count": 19,
     "metadata": {},
     "output_type": "execute_result"
    }
   ],
   "source": [
    "# 線形回帰\n",
    "reg = LinearRegression()\n",
    "\n",
    "# 学習データで fit し，学習結果を predict で与える\n",
    "YtrainP = reg.fit(Xtrain.reshape(-1, 1), Ytrain).predict(Xtrain.reshape(-1, 1))\n",
    "\n",
    "# テストデータの予測値を predict で与える\n",
    "YtestP = reg.predict(Xtest.reshape(-1, 1))\n",
    "\n",
    "# 回帰係数を a0, a1 とおく\n",
    "a0 = reg.intercept_\n",
    "a1 = reg.coef_[0]\n",
    "\n",
    "# 決定境界 x0\n",
    "x0 = (0.5-a0)/a1\n",
    "print(x0)\n",
    "\n",
    "# 回帰値からラベル化\n",
    "YtestPL = (YtestP > 0.5)\n",
    "YtrainPL = (YtrainP > 0.5)\n",
    "YtrainPL"
   ]
  },
  {
   "cell_type": "markdown",
   "metadata": {},
   "source": [
    "### 線形回帰の結果\n",
    "\n",
    "まずはそのまま単回帰の結果を描画しよう"
   ]
  },
  {
   "cell_type": "code",
   "execution_count": 23,
   "metadata": {},
   "outputs": [
    {
     "data": {
      "text/plain": [
       "[<matplotlib.lines.Line2D at 0x7fd74daf5210>]"
      ]
     },
     "execution_count": 23,
     "metadata": {},
     "output_type": "execute_result"
    },
    {
     "data": {
      "image/png": "[encoded data removed]",
      "text/plain": [
       "<Figure size 200x200 with 1 Axes>"
      ]
     },
     "metadata": {},
     "output_type": "display_data"
    }
   ],
   "source": [
    "# 学習データの結果を描画\n",
    "fig, ax = plt.subplots(figsize=(2, 2))\n",
    "# ラベル0\n",
    "ax.scatter(Xtrain[Ytrain==0], Ytrain[Ytrain==0], label='setosa: train', marker='o',\n",
    "          c='tab:blue')\n",
    "# ラベル0の予測値\n",
    "ax.scatter(Xtrain[Ytrain==0], YtrainP[Ytrain==0], label='setosa: prediction', \n",
    "           marker='x', c='tab:blue')\n",
    "# ラベル1\n",
    "ax.scatter(Xtrain[Ytrain==1], Ytrain[Ytrain==1], label='virginica: train',\n",
    "          marker='o', c='tab:orange')\n",
    "# ラベル1の予測値\n",
    "ax.scatter(Xtrain[Ytrain==1], YtrainP[Ytrain==1], label='virginica: prediction',\n",
    "          marker='x', c='tab:orange')\n",
    "# 回帰直線\n",
    "\n",
    "# 決定境界\n",
    "ax.plot([x0, x0], [0, 1], ':k')\n",
    "\n",
    "# MSE\n"
   ]
  },
  {
   "cell_type": "markdown",
   "metadata": {},
   "source": [
    "ラベルを数値データだと思うと，回帰直線の誤差は決して小さくない．\n",
    "\n",
    "\n",
    "### 回帰をラベル化\n",
    "\n",
    "しかし，回帰直線から得られる決定境界を用いてラベルを算出するとよくフィッティングできている．"
   ]
  },
  {
   "cell_type": "code",
   "execution_count": 24,
   "metadata": {},
   "outputs": [
    {
     "data": {
      "text/plain": [
       "[<matplotlib.lines.Line2D at 0x7fd74dba61d0>]"
      ]
     },
     "execution_count": 24,
     "metadata": {},
     "output_type": "execute_result"
    },
    {
     "data": {
      "image/png": "[encoded data removed]",
      "text/plain": [
       "<Figure size 200x200 with 1 Axes>"
      ]
     },
     "metadata": {},
     "output_type": "display_data"
    }
   ],
   "source": [
    "# 学習データの結果を描画\n",
    "fig, ax = plt.subplots(figsize=(2, 2))\n",
    "# ラベル0\n",
    "ax.scatter(Xtrain[Ytrain==0], Ytrain[Ytrain==0], label='setosa: train', marker='o',\n",
    "          c='tab:blue')\n",
    "# ラベル0の予測値\n",
    "ax.scatter(Xtrain[Ytrain==0], YtrainPL[Ytrain==0], label='setosa: prediction', \n",
    "           marker='x', c='tab:blue')\n",
    "# ラベル1\n",
    "ax.scatter(Xtrain[Ytrain==1], Ytrain[Ytrain==1], label='virginica: train',\n",
    "          marker='o', c='tab:orange')\n",
    "# ラベル1の予測値\n",
    "ax.scatter(Xtrain[Ytrain==1], YtrainPL[Ytrain==1], label='virginica: prediction',\n",
    "          marker='x', c='tab:orange')\n",
    "# 回帰直線\n",
    "\n",
    "# 決定境界\n",
    "ax.plot([x0, x0], [0, 1], ':k')\n",
    "\n",
    "# MSE\n"
   ]
  },
  {
   "cell_type": "markdown",
   "metadata": {},
   "source": [
    "## 性能評価\n",
    "\n",
    "ラベル変数の場合は MSE のような評価指標では必ずしも分類性能を評価できない．\n",
    "\n",
    "単純に当たった割合を評価することにしよう．ここでは `sklearn.metrics` に入っている\n",
    "\n",
    "- confusion matrix (混同行列)\n",
    "- classification report\n",
    "\n",
    "を用いよう．"
   ]
  },
  {
   "cell_type": "code",
   "execution_count": 28,
   "metadata": {},
   "outputs": [
    {
     "name": "stdout",
     "output_type": "stream",
     "text": [
      "[[24  0]\n",
      " [ 4 22]]\n",
      "              precision    recall  f1-score   support\n",
      "\n",
      "         0.0       0.86      1.00      0.92        24\n",
      "         1.0       1.00      0.85      0.92        26\n",
      "\n",
      "    accuracy                           0.92        50\n",
      "   macro avg       0.93      0.92      0.92        50\n",
      "weighted avg       0.93      0.92      0.92        50\n",
      "\n"
     ]
    }
   ],
   "source": [
    "# confusion matrix\n",
    "print(confusion_matrix(Ytrain, YtrainPL))\n",
    "\n",
    "# classification report\n",
    "print(classification_report(Ytrain, YtrainPL))\n"
   ]
  },
  {
   "cell_type": "markdown",
   "metadata": {},
   "source": [
    "ではテストデータではどうか．ラベルの値で描画してみよう．"
   ]
  },
  {
   "cell_type": "code",
   "execution_count": null,
   "metadata": {},
   "outputs": [],
   "source": [
    "# テストデータのラベル予測を描画\n",
    "\n",
    "\n",
    "# ラベル0\n",
    "\n",
    "\n",
    "# ラベル0の予測ラベル\n",
    "\n",
    "\n",
    "# ラベル1\n",
    "\n",
    "\n",
    "# ラベル1の予測ラベル\n",
    "\n",
    "\n",
    "# 回帰直線\n",
    "\n",
    "\n",
    "# 決定境界\n",
    "\n",
    "\n",
    "# confusion matrix\n",
    "\n",
    "\n",
    "# classification report\n",
    "\n",
    "\n"
   ]
  },
  {
   "cell_type": "markdown",
   "metadata": {},
   "source": [
    "このテストデータではラベル 1 を 0 に誤分類するケースが増えたものの，全体としては良い分類を与えている．\n",
    "\n",
    "このようにラベルデータを数値と見なして回帰を行うこともできる．ただ，線形回帰よりラベルらしく回帰する方法がある．それが次にやる **ロジスティック回帰** である．"
   ]
  },
  {
   "cell_type": "markdown",
   "metadata": {},
   "source": [
    "## 課題09-1\n",
    "\n",
    "では同様のことを Setosa と Versicolor のデータに対してやってみよ．適当なサイズで学習データとテストデータに分けて，confution matrix を確認してみること．"
   ]
  },
  {
   "cell_type": "markdown",
   "metadata": {},
   "source": [
    "---\n",
    "## <div style=\"text-align: right;\"><strong>ADCA2022_09-2 につづく</strong></div>"
   ]
  },
  {
   "cell_type": "code",
   "execution_count": null,
   "metadata": {},
   "outputs": [],
   "source": []
  }
 ],
 "metadata": {
  "hide_input": false,
  "kernelspec": {
   "display_name": "Python 3 (ipykernel)",
   "language": "python",
   "name": "python3"
  },
  "language_info": {
   "codemirror_mode": {
    "name": "ipython",
    "version": 3
   },
   "file_extension": ".py",
   "mimetype": "text/x-python",
   "name": "python",
   "nbconvert_exporter": "python",
   "pygments_lexer": "ipython3",
   "version": "3.7.9"
  }
 },
 "nbformat": 4,
 "nbformat_minor": 4
}
