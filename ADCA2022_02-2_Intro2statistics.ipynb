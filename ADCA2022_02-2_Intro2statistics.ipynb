{
 "cells": [
  {
   "cell_type": "markdown",
   "metadata": {
    "slideshow": {
     "slide_type": "slide"
    }
   },
   "source": [
    "# データ解析特論 2022年度水曜２限\n",
    "\n",
    "# 第2回 その2 統計処理入門"
   ]
  },
  {
   "cell_type": "markdown",
   "metadata": {
    "slideshow": {
     "slide_type": "slide"
    }
   },
   "source": [
    "### numpy 配列"
   ]
  },
  {
   "cell_type": "code",
   "execution_count": null,
   "metadata": {
    "slideshow": {
     "slide_type": "subslide"
    }
   },
   "outputs": [],
   "source": [
    "# ライブラリ呼び出し"
   ]
  },
  {
   "cell_type": "code",
   "execution_count": null,
   "metadata": {
    "slideshow": {
     "slide_type": "subslide"
    }
   },
   "outputs": [],
   "source": [
    "xx = list(range(10))\n",
    "print(xx)\n",
    "print(type(xx))\n",
    "\n",
    "x = np.array(xx) # numpy の ndarray を作成\n",
    "print(x)\n",
    "print(type(x))"
   ]
  },
  {
   "cell_type": "code",
   "execution_count": null,
   "metadata": {},
   "outputs": [],
   "source": [
    "# 別にどっちも計算できる\n",
    "print(np.mean(xx))\n",
    "print(np.mean(x))"
   ]
  },
  {
   "cell_type": "code",
   "execution_count": null,
   "metadata": {},
   "outputs": [],
   "source": [
    "print(len(x))\n",
    "print(x.size)"
   ]
  },
  {
   "cell_type": "markdown",
   "metadata": {},
   "source": [
    "numpy 配列でなく，リストでも numpy の関数は使えるが，一般には数学や統計の処理をさせる場合には numpy 配列の方が処理が早い"
   ]
  },
  {
   "cell_type": "markdown",
   "metadata": {
    "slideshow": {
     "slide_type": "slide"
    }
   },
   "source": [
    "### 最大・最小・中央値・平均値\n",
    "\n",
    "配列の値の最大を計算するには `np.max` を用いる．"
   ]
  },
  {
   "cell_type": "code",
   "execution_count": null,
   "metadata": {
    "slideshow": {
     "slide_type": "subslide"
    }
   },
   "outputs": [],
   "source": [
    "x = np.arange(10)\n",
    "print(x)\n",
    "\n",
    "np.max(x)"
   ]
  },
  {
   "cell_type": "markdown",
   "metadata": {
    "slideshow": {
     "slide_type": "subslide"
    }
   },
   "source": [
    "最小は `np.min`"
   ]
  },
  {
   "cell_type": "code",
   "execution_count": null,
   "metadata": {},
   "outputs": [],
   "source": [
    "np.min(x)"
   ]
  },
  {
   "cell_type": "markdown",
   "metadata": {},
   "source": [
    "中央値は `np.median`"
   ]
  },
  {
   "cell_type": "code",
   "execution_count": null,
   "metadata": {},
   "outputs": [],
   "source": [
    "np.median(x)"
   ]
  },
  {
   "cell_type": "markdown",
   "metadata": {
    "slideshow": {
     "slide_type": "slide"
    }
   },
   "source": [
    "### 総和・平均"
   ]
  },
  {
   "cell_type": "markdown",
   "metadata": {
    "slideshow": {
     "slide_type": "subslide"
    }
   },
   "source": [
    "配列の値の総和を計算するには `np.sum` を用いる．"
   ]
  },
  {
   "cell_type": "code",
   "execution_count": null,
   "metadata": {},
   "outputs": [],
   "source": [
    "np.sum(x)"
   ]
  },
  {
   "cell_type": "code",
   "execution_count": null,
   "metadata": {
    "slideshow": {
     "slide_type": "subslide"
    }
   },
   "outputs": [],
   "source": [
    "# これは以下のように計算することと同じ\n",
    "a = 0\n",
    "for n in range(x.size):\n",
    "    a += n\n",
    "\n",
    "print(a)\n",
    "\n",
    "\n",
    "a = 0\n",
    "for b in x:\n",
    "    a += b\n",
    "\n",
    "print(a)"
   ]
  },
  {
   "cell_type": "markdown",
   "metadata": {
    "slideshow": {
     "slide_type": "subslide"
    }
   },
   "source": [
    "配列の値の平均を計算するには `np.mean` を用いる．"
   ]
  },
  {
   "cell_type": "code",
   "execution_count": null,
   "metadata": {},
   "outputs": [],
   "source": [
    "np.mean(x)"
   ]
  },
  {
   "cell_type": "code",
   "execution_count": null,
   "metadata": {},
   "outputs": [],
   "source": [
    "# これは以下のように計算することと同じ\n",
    "a = 0\n",
    "for n in range(x.size):\n",
    "    a += n\n",
    "\n",
    "a /= x.size\n",
    "print(a)\n"
   ]
  },
  {
   "cell_type": "markdown",
   "metadata": {
    "slideshow": {
     "slide_type": "slide"
    }
   },
   "source": [
    "### 偏差"
   ]
  },
  {
   "cell_type": "markdown",
   "metadata": {
    "slideshow": {
     "slide_type": "subslide"
    }
   },
   "source": [
    "偏差とは，平均からの差のこと\n",
    "\n",
    "$$\n",
    "x_i - \\bar{\\mathbf x}\n",
    "$$"
   ]
  },
  {
   "cell_type": "code",
   "execution_count": null,
   "metadata": {},
   "outputs": [],
   "source": [
    "a = x - np.mean(x)\n",
    "print(a)\n",
    "np.sum(a)"
   ]
  },
  {
   "cell_type": "markdown",
   "metadata": {},
   "source": [
    "この `x-mean(x)` というコマンドは，配列からスカラーを引き算する形になっている．これは `x` の各要素を `np.mean(x)` だけ引いた値を要素に持つような配列を作っている．このような操作をブロードキャストとよぶ．"
   ]
  },
  {
   "cell_type": "markdown",
   "metadata": {
    "slideshow": {
     "slide_type": "subslide"
    }
   },
   "source": [
    "配列の偏差の平方（二乗）を偏差平方といい，偏差平方和とは偏差平方の総和のことである．\n",
    "\n",
    "$$\n",
    "\\sum_{i=1}^n (x_i - \\bar{\\mathbf x})^2\n",
    "= (x_1 - \\bar{\\mathbf x})^2 + (x_2 - \\bar{\\mathbf x})^2 + \\ldots + (x_n - \\bar{\\mathbf x})^2\n",
    "$$"
   ]
  },
  {
   "cell_type": "code",
   "execution_count": null,
   "metadata": {},
   "outputs": [],
   "source": [
    "# a**2 は 偏差平方 を格納している配列\n",
    "np.sum( a**2 )"
   ]
  },
  {
   "cell_type": "markdown",
   "metadata": {
    "slideshow": {
     "slide_type": "subslide"
    }
   },
   "source": [
    "偏差平方和の値は，データ全体を同じ数だけ値をシフトしたデータにしても変わらない．"
   ]
  },
  {
   "cell_type": "code",
   "execution_count": null,
   "metadata": {},
   "outputs": [],
   "source": [
    "xnew = x + 10\n",
    "np.sum( (xnew-np.mean(xnew))**2 )"
   ]
  },
  {
   "cell_type": "markdown",
   "metadata": {},
   "source": [
    "`xnew` は配列 `x` それぞれの要素に同じ定数を足してつくった配列である．値自体は `x` とは異なるが，平均まわりの値のばらつきは `x` と `xnew` とで変わらないということ．このため，偏差平方和は，平均成分の方向（対角線の方向）に対しては値が不変である（値の変化する方向の自由度が1つ下がる）．このことから，偏差平方和の自由度は $n-1$ であるという．"
   ]
  },
  {
   "cell_type": "markdown",
   "metadata": {
    "slideshow": {
     "slide_type": "slide"
    }
   },
   "source": [
    "### 分散\n",
    "\n",
    "標本分散とは偏差平方和をデータ数で割った値である．\n",
    "\n",
    "不偏分散とは偏差平方和を(データ数-1)で割った値である．(データ数-1) は偏差平方和の自由度という．不偏分散の計算は `np.var` を用いる．"
   ]
  },
  {
   "cell_type": "code",
   "execution_count": null,
   "metadata": {
    "slideshow": {
     "slide_type": "subslide"
    }
   },
   "outputs": [],
   "source": [
    "# 標本分散\n",
    "np.var(x)"
   ]
  },
  {
   "cell_type": "markdown",
   "metadata": {},
   "source": [
    "標本分散は偏差平方和をデータ数で割ること"
   ]
  },
  {
   "cell_type": "code",
   "execution_count": null,
   "metadata": {},
   "outputs": [],
   "source": [
    "np.sum( (x-np.mean(x))**2 ) / x.size"
   ]
  },
  {
   "cell_type": "code",
   "execution_count": null,
   "metadata": {
    "slideshow": {
     "slide_type": "subslide"
    }
   },
   "outputs": [],
   "source": [
    "# 不偏分散\n",
    "np.var(x, ddof=1)"
   ]
  },
  {
   "cell_type": "markdown",
   "metadata": {},
   "source": [
    "`ddof` は delta degrees of freedom のこと．自由度から減らす値の意味．"
   ]
  },
  {
   "cell_type": "code",
   "execution_count": null,
   "metadata": {},
   "outputs": [],
   "source": [
    "np.sum( (x-np.mean(x))**2 ) / (x.size-1)"
   ]
  },
  {
   "cell_type": "markdown",
   "metadata": {
    "slideshow": {
     "slide_type": "subslide"
    }
   },
   "source": [
    "乱数をはじいて試してみる"
   ]
  },
  {
   "cell_type": "code",
   "execution_count": null,
   "metadata": {},
   "outputs": [],
   "source": [
    "n = 10\n",
    "x = np.random.rand(n) # 値が [0, 1) の一様乱数を n 個つくる\n",
    "x"
   ]
  },
  {
   "cell_type": "code",
   "execution_count": null,
   "metadata": {},
   "outputs": [],
   "source": [
    "print('平均値 = %f'%np.mean(x))\n",
    "print('標本分散 = %f, 不偏分散 = %f'%(np.var(x), np.var(x, ddof=1)))"
   ]
  },
  {
   "cell_type": "code",
   "execution_count": null,
   "metadata": {
    "slideshow": {
     "slide_type": "subslide"
    }
   },
   "outputs": [],
   "source": [
    "n = 10000\n",
    "x = np.random.rand(n) # 標準正規分布にしたがうデータを n 個つくる\n",
    "x"
   ]
  },
  {
   "cell_type": "code",
   "execution_count": null,
   "metadata": {},
   "outputs": [],
   "source": [
    "print('平均値 = %f'%np.mean(x))\n",
    "print('標本分散 = %f, 不偏分散 = %f'%(np.var(x), np.var(x, ddof=1)))"
   ]
  },
  {
   "cell_type": "markdown",
   "metadata": {
    "slideshow": {
     "slide_type": "slide"
    }
   },
   "source": [
    "<h3><div style=\"text-align: right;\">以上</div></h3>"
   ]
  }
 ],
 "metadata": {
  "celltoolbar": "Slideshow",
  "hide_input": false,
  "kernelspec": {
   "display_name": "Python 3 (ipykernel)",
   "language": "python",
   "name": "python3"
  },
  "language_info": {
   "codemirror_mode": {
    "name": "ipython",
    "version": 3
   },
   "file_extension": ".py",
   "mimetype": "text/x-python",
   "name": "python",
   "nbconvert_exporter": "python",
   "pygments_lexer": "ipython3",
   "version": "3.7.9"
  }
 },
 "nbformat": 4,
 "nbformat_minor": 2
}
