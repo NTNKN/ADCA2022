{
 "cells": [
  {
   "cell_type": "markdown",
   "metadata": {},
   "source": [
    "# データ解析特論 2022年度水曜２限\n",
    "\n",
    "# 第4回 その1 多項式回帰"
   ]
  },
  {
   "cell_type": "code",
   "execution_count": 1,
   "metadata": {},
   "outputs": [],
   "source": [
    "# ライブラリ\n",
    "import numpy as np\n",
    "import matplotlib.pyplot as plt\n"
   ]
  },
  {
   "cell_type": "markdown",
   "metadata": {},
   "source": [
    "## 多項式回帰とは\n",
    "\n",
    "多項式回帰は説明変数 $x$ 1つの場合に，$x$ による単回帰ではなく，$x$, $x^2$, $x^3$ など，$x$ のべき乘の功を回帰変数に用いる手法で，\n",
    "\n",
    "$$\n",
    "y = a_0 + a_1 x + a_2 x^2 + \\ldots + a_m x^m + \\xi = \\sum_{j=0}^M a_j x^j + \\xi\n",
    "$$\n",
    "\n",
    "というモデルを当てはめる方法である．多項式回帰モデルは，回帰変数を $x_j = x^j$ とした重回帰モデルであると言える．\n",
    "\n",
    "データに対して単回帰を用いて直線を当てはめるのが不適切とわかる場合に用いられる．\n",
    "\n",
    "ここで\n",
    "\n",
    "- $y$ は目的変数（データとして与えられるもの）\n",
    "- $x^j \\ (j=0, 1, 2, \\ldots, M)$ を説明変数と取る（データとして与えられるもの）\n",
    "- $a_j \\ (j=0, 1, 2, \\ldots, M)$ は回帰係数（データから求めるもの）\n",
    "- $\\xi$ はノイズ（モデルでは当てはめられないランダムな要因）\n",
    "\n",
    "以下，特に注意しない限り__データは実数値__とする．"
   ]
  },
  {
   "cell_type": "code",
   "execution_count": 57,
   "metadata": {},
   "outputs": [],
   "source": [
    "# 真のパラメータ\n",
    "A0 = 1.5\n",
    "A1 = -0.5\n",
    "A2 = 0.5\n",
    "\n",
    "# dataset\n",
    "X = np.arange(0, 3.1, 0.3)\n",
    "Y = A0 + A1*X + A2*X**2 + 2.0*(np.random.rand(X.size)-0.5)"
   ]
  },
  {
   "cell_type": "code",
   "execution_count": 58,
   "metadata": {},
   "outputs": [
    {
     "data": {
      "text/plain": [
       "[<matplotlib.lines.Line2D at 0x7fa3e475e050>]"
      ]
     },
     "execution_count": 58,
     "metadata": {},
     "output_type": "execute_result"
    },
    {
     "data": {
      "image/png": "[encoded data removed]",
      "text/plain": [
       "<Figure size 300x300 with 1 Axes>"
      ]
     },
     "metadata": {},
     "output_type": "display_data"
    }
   ],
   "source": [
    "# 回帰直線と二乗誤差のプロット用関数\n",
    "fig, ax = plt.subplots(figsize=(3, 3))\n",
    "ax.scatter(X, Y)\n",
    "Xplot = np.arange(0, 3, 0.01)\n",
    "Yplot = A0 + A1*Xplot + A2*Xplot**2\n",
    "ax.plot(Xplot, Yplot, c='tab:orange')"
   ]
  },
  {
   "cell_type": "code",
   "execution_count": null,
   "metadata": {},
   "outputs": [],
   "source": [
    "# ipywidgets.interact を用いてパラメータを逐次変えて描画\n",
    "\n",
    "\n",
    "# 青点がデータ点\n",
    "# 赤が回帰直線\n",
    "# MSE = Mean Squared Error = 平均二乗誤差\n",
    "\n",
    "# 必ずしも真のパラメータのときに平均二乗誤差最小になるわけではないことに注意しよう"
   ]
  },
  {
   "cell_type": "markdown",
   "metadata": {},
   "source": [
    "直線でのフィッティングでは適切なモデルとは言えない．多項式フィッティングを考えよう．"
   ]
  },
  {
   "cell_type": "markdown",
   "metadata": {},
   "source": [
    "### 多項式フィッティング\n",
    "\n",
    "回帰変数2つの重回帰では，データ空間 $(x_1, x_2, y)$ の3次元空間に回帰平面を引き，データから平面までの高さの二乗和が最小になるように選ぶ．"
   ]
  },
  {
   "cell_type": "code",
   "execution_count": null,
   "metadata": {},
   "outputs": [],
   "source": [
    "# 真のパラメータ\n",
    "\n",
    "\n",
    "# dataset\n",
    "\n"
   ]
  },
  {
   "cell_type": "code",
   "execution_count": 20,
   "metadata": {},
   "outputs": [
    {
     "data": {
      "text/plain": [
       "array([[1.  , 0.  , 0.  ],\n",
       "       [1.  , 0.3 , 0.09],\n",
       "       [1.  , 0.6 , 0.36],\n",
       "       [1.  , 0.9 , 0.81],\n",
       "       [1.  , 1.2 , 1.44],\n",
       "       [1.  , 1.5 , 2.25],\n",
       "       [1.  , 1.8 , 3.24],\n",
       "       [1.  , 2.1 , 4.41],\n",
       "       [1.  , 2.4 , 5.76],\n",
       "       [1.  , 2.7 , 7.29],\n",
       "       [1.  , 3.  , 9.  ]])"
      ]
     },
     "execution_count": 20,
     "metadata": {},
     "output_type": "execute_result"
    }
   ],
   "source": [
    "# フィッティングに用いる多項式の最大次数\n",
    "M = 2\n",
    "# 多項式回帰変数の設定\n",
    "XX = np.ones((X.size, M+1))\n",
    "for i in range(1, M+1):\n",
    "    XX[:, i] = X**i\n",
    "XX"
   ]
  },
  {
   "cell_type": "code",
   "execution_count": 23,
   "metadata": {},
   "outputs": [
    {
     "data": {
      "text/plain": [
       "array([[1.  , 0.  , 0.  ],\n",
       "       [1.  , 0.3 , 0.09],\n",
       "       [1.  , 0.6 , 0.36],\n",
       "       [1.  , 0.9 , 0.81],\n",
       "       [1.  , 1.2 , 1.44],\n",
       "       [1.  , 1.5 , 2.25],\n",
       "       [1.  , 1.8 , 3.24],\n",
       "       [1.  , 2.1 , 4.41],\n",
       "       [1.  , 2.4 , 5.76],\n",
       "       [1.  , 2.7 , 7.29],\n",
       "       [1.  , 3.  , 9.  ]])"
      ]
     },
     "execution_count": 23,
     "metadata": {},
     "output_type": "execute_result"
    }
   ],
   "source": [
    "# 多項式回帰変数を sklearn を用いて作ることもできる\n",
    "from sklearn.preprocessing import PolynomialFeatures\n",
    "polyX = PolynomialFeatures(degree=2)\n",
    "polyX.fit_transform(X.reshape(-1, 1))"
   ]
  },
  {
   "cell_type": "code",
   "execution_count": 32,
   "metadata": {},
   "outputs": [
    {
     "data": {
      "text/plain": [
       "((11, 3), (3,), (11,))"
      ]
     },
     "execution_count": 32,
     "metadata": {},
     "output_type": "execute_result"
    }
   ],
   "source": [
    "XX.shape, AA.shape, Ypred.shape"
   ]
  },
  {
   "cell_type": "code",
   "execution_count": 35,
   "metadata": {},
   "outputs": [
    {
     "name": "stdout",
     "output_type": "stream",
     "text": [
      "[ 1.4761022  -0.44195098  0.49570943]\n"
     ]
    },
    {
     "data": {
      "text/plain": [
       "<matplotlib.legend.Legend at 0x7fa3ebb08150>"
      ]
     },
     "execution_count": 35,
     "metadata": {},
     "output_type": "execute_result"
    },
    {
     "data": {
      "image/png": "[encoded data removed]",
      "text/plain": [
       "<Figure size 300x300 with 1 Axes>"
      ]
     },
     "metadata": {},
     "output_type": "display_data"
    }
   ],
   "source": [
    "# (XX.T@XX)@A = XX.T@Y\n",
    "GG = XX.T@XX\n",
    "BB = XX.T@Y\n",
    "AA = np.linalg.solve(GG, BB) # solve linear problem GG*AA = BB\n",
    "print(AA)\n",
    "Ypred = XX@AA\n",
    "fig, ax = plt.subplots(figsize=(3, 3))\n",
    "ax.scatter(X, Y, label='observation')\n",
    "ax.scatter(X, Ypred, c='tab:green', label='prediction', marker='x')\n",
    "ax.plot(Xplot, Yplot, c='tab:orange')\n",
    "ax.legend()"
   ]
  },
  {
   "cell_type": "code",
   "execution_count": 46,
   "metadata": {},
   "outputs": [
    {
     "name": "stdout",
     "output_type": "stream",
     "text": [
      "7.993605777301127e-15\n",
      "1.476102203469563 [-0.44195098  0.49570943]\n",
      "-7.993605777301127e-15 [ 1.70419234e-14 -5.44009282e-15]\n"
     ]
    },
    {
     "data": {
      "image/png": "[encoded data removed]",
      "text/plain": [
       "<Figure size 300x300 with 1 Axes>"
      ]
     },
     "metadata": {},
     "output_type": "display_data"
    }
   ],
   "source": [
    "# regressor の設定と学習\n",
    "from sklearn.linear_model import LinearRegression\n",
    "reg = LinearRegression()\n",
    "YpredS = reg.fit(XX[:, 1:], Y).predict(XX[:, 1:])\n",
    "# 学習データの予測値を出力\n",
    "fig, ax = plt.subplots(figsize=(3, 3))\n",
    "ax.scatter(X, Y, label='observation')\n",
    "ax.scatter(X, Ypred, c='tab:green', label='prediction', marker='x')\n",
    "ax.scatter(X, YpredS, c='tab:cyan', label='prediction by SKLearn', marker='x')\n",
    "ax.plot(Xplot, Yplot, c='tab:orange')\n",
    "ax.legend()\n",
    "print(np.max(np.abs(Ypred - YpredS)))\n",
    "# 回帰係数の表示\n",
    "print(reg.intercept_, reg.coef_)\n",
    "print(AA[0]-reg.intercept_, AA[1:3]-reg.coef_)"
   ]
  },
  {
   "cell_type": "markdown",
   "metadata": {},
   "source": [
    "2次関数でうまくフィッティングができている．\n",
    "\n",
    "しかし，フィッティングに用いる多項式の次数を増やすと MSE をもっと下げることができる．"
   ]
  },
  {
   "cell_type": "code",
   "execution_count": 70,
   "metadata": {},
   "outputs": [],
   "source": [
    "# 多項式回帰のプロット\n",
    "def plot_polynomialregression(M=2):\n",
    "    # dataset\n",
    "    XX = np.ones((X.size, M+1))\n",
    "    for i in range(1, M+1):\n",
    "        XX[:, i] = X**i\n",
    "    # sklearn\n",
    "    reg = LinearRegression(fit_intercept=False)\n",
    "    YpredS = reg.fit(XX, Y).predict(XX)\n",
    "    AA = reg.coef_\n",
    "    \n",
    "    Ypredplot = AA[0] * np.ones(Xplot.size)\n",
    "    for i in range(1, M+1):\n",
    "        Ypredplot += AA[i]*Xplot**i\n",
    "    \n",
    "    MSE = np.mean((Y-YpredS)**2)\n",
    "    # visualization\n",
    "    fig, ax = plt.subplots(figsize=(3, 3))\n",
    "    ax.scatter(X, Y, label='observation', c='tab:green')\n",
    "    ax.scatter(X, YpredS, c='tab:cyan', label='prediction by SKLearn', marker='x')\n",
    "    ax.plot(Xplot, Yplot, c='tab:orange')\n",
    "    ax.plot(Xplot, Ypredplot, c='tab:cyan')\n",
    "    ax.set_title('M = %d, MSE = %f'%(M, MSE))\n",
    "    ax.legend()"
   ]
  },
  {
   "cell_type": "code",
   "execution_count": 71,
   "metadata": {},
   "outputs": [
    {
     "data": {
      "application/vnd.jupyter.widget-view+json": {
       "model_id": "74b329e9cb3443f59a58e589c0481135",
       "version_major": 2,
       "version_minor": 0
      },
      "text/plain": [
       "interactive(children=(IntSlider(value=2, description='M', max=20, min=1), Output()), _dom_classes=('widget-int…"
      ]
     },
     "metadata": {},
     "output_type": "display_data"
    },
    {
     "data": {
      "text/plain": [
       "<function __main__.plot_polynomialregression(M=2)>"
      ]
     },
     "execution_count": 71,
     "metadata": {},
     "output_type": "execute_result"
    }
   ],
   "source": [
    "# ipywidgets.interact を用いてパラメータを逐次変えて描画\n",
    "from ipywidgets import interact\n",
    "interact(plot_polynomialregression, M=(1, 20, 1))"
   ]
  },
  {
   "cell_type": "markdown",
   "metadata": {},
   "source": [
    "多項式の次数をデータ数と比べて十分高く取ると，全ての点を通るような多項式曲線を描くことができる．この時はデータ点に対する回帰誤差は必ずゼロとなる．\n",
    "\n",
    "MSE だけを減らせば良いというわけではないことがわかる．\n",
    "\n",
    "このことを一般に過学習 (overfitting) という．回帰変数を増やせば，すなわちモデルを複雑にすれば MSE をいくらでも下げることができる一つの例である．\n",
    "\n",
    "過学習となっている場合は，学習データ近傍であっても回帰曲線は正しい推定値を与えない．推定誤差が低くなってしまう．このことを確かめるために同じ分布に従う別なデータセットを取って確かめてみよう．"
   ]
  },
  {
   "cell_type": "code",
   "execution_count": 82,
   "metadata": {},
   "outputs": [],
   "source": [
    "# テスト用 dataset\n",
    "Xtest = np.random.rand(10)*3 # uniform dist on [0, 3]\n",
    "Ytest = A0 + A1*Xtest + A2*Xtest**2 + 2.0*(np.random.rand(Xtest.size)-0.5)"
   ]
  },
  {
   "cell_type": "code",
   "execution_count": 83,
   "metadata": {},
   "outputs": [],
   "source": [
    "# 多項式回帰とテストデータの比較\n",
    "def plot_polynomialregression_fortestdata(M=2):\n",
    "    ### learning ###\n",
    "    XX = np.ones((X.size, M+1))\n",
    "    XXtest = np.ones((Xtest.size, M+1))\n",
    "    XXplot = np.ones((Xplot.size, M+1))\n",
    "    for i in range(1, M+1):\n",
    "        XX[:, i] = X**i\n",
    "        XXtest[:, i] = Xtest**i\n",
    "        XXplot[:, i] = Xplot**i\n",
    "    # sklearn\n",
    "    reg = LinearRegression(fit_intercept=False)\n",
    "    Ytestpred = reg.fit(XX, Y).predict(XXtest)\n",
    "    Ypredplot = reg.predict(XXplot)\n",
    "    MSE = np.mean((Ytest-Ytestpred)**2)\n",
    "    # visualization\n",
    "    fig, ax = plt.subplots(figsize=(3, 3))\n",
    "    ax.scatter(Xtest, Ytest, label='test data', c='tab:green')\n",
    "    ax.scatter(Xtest, Ytestpred, c='tab:cyan', label='prediction for test data', marker='x')\n",
    "    ax.plot(Xplot, Yplot, c='tab:orange')\n",
    "    ax.plot(Xplot, Ypredplot, c='tab:cyan')\n",
    "    ax.set_title('M = %d, MSE = %f'%(M, MSE))\n",
    "    ax.legend()"
   ]
  },
  {
   "cell_type": "code",
   "execution_count": 84,
   "metadata": {},
   "outputs": [
    {
     "data": {
      "application/vnd.jupyter.widget-view+json": {
       "model_id": "7f4bd34327494b8d80e368ed95f2e154",
       "version_major": 2,
       "version_minor": 0
      },
      "text/plain": [
       "interactive(children=(IntSlider(value=2, description='M', max=20, min=1), Output()), _dom_classes=('widget-int…"
      ]
     },
     "metadata": {},
     "output_type": "display_data"
    },
    {
     "data": {
      "text/plain": [
       "<function __main__.plot_polynomialregression_fortestdata(M=2)>"
      ]
     },
     "execution_count": 84,
     "metadata": {},
     "output_type": "execute_result"
    }
   ],
   "source": [
    "# ipywidgets.interact を用いてパラメータを逐次変えて描画\n",
    "interact(plot_polynomialregression_fortestdata, M=(1, 20, 1))"
   ]
  },
  {
   "cell_type": "markdown",
   "metadata": {},
   "source": [
    "テストデータに対する MSE は次数を上げるにつれて大きくなることがわかる．\n",
    "\n",
    "学習で得られたモデルをテストデータに適用して得られた回帰誤差を汎化誤差と呼ぶ．\n",
    "\n",
    "一方，学習時の回帰誤差を学習誤差と呼ぶ．\n",
    "\n",
    "学習誤差は多項式の次数を上げることでいくらでも下げられるが，汎化誤差はそうとは限らない．汎化誤差も小さいモデルが良いモデルであると言える．"
   ]
  },
  {
   "cell_type": "code",
   "execution_count": 90,
   "metadata": {},
   "outputs": [
    {
     "data": {
      "text/plain": [
       "<matplotlib.legend.Legend at 0x7fa3ed24e090>"
      ]
     },
     "execution_count": 90,
     "metadata": {},
     "output_type": "execute_result"
    },
    {
     "data": {
      "image/png": "[encoded data removed]",
      "text/plain": [
       "<Figure size 300x300 with 1 Axes>"
      ]
     },
     "metadata": {},
     "output_type": "display_data"
    }
   ],
   "source": [
    "# 多項式の次数の最大値\n",
    "Mmax = 12\n",
    "# MSE の配列\n",
    "MSEtrains = np.zeros(Mmax+1)\n",
    "MSEtests = np.zeros(Mmax+1)\n",
    "\n",
    "# M を変えて多項式回帰\n",
    "for M in range(1, Mmax+1):\n",
    "    ### learning ###\n",
    "    XX = np.ones((X.size, M+1))\n",
    "    XXtest = np.ones((Xtest.size, M+1))\n",
    "    for i in range(1, M+1):\n",
    "        XX[:, i] = X**i\n",
    "        XXtest[:, i] = Xtest**i\n",
    "    # sklearn\n",
    "    reg = LinearRegression(fit_intercept=False)\n",
    "    Ytestpred = reg.fit(XX, Y).predict(XXtest) # prediction for test data\n",
    "    Ypred = reg.predict(XX) # prediction for training data\n",
    "    MSEtests[M] = np.mean((Ytest-Ytestpred)**2)\n",
    "    MSEtrains[M] = np.mean((Y-Ypred)**2)\n",
    "\n",
    "# MSE のプロット\n",
    "fig, ax = plt.subplots(figsize=(3, 3))\n",
    "ax.plot(np.arange(1, Mmax+1), np.log10(MSEtrains[1:]), label='MSE train')\n",
    "ax.plot(np.arange(1, Mmax+1), np.log10(MSEtests[1:]), label='MSE test')\n",
    "ax.set_ylim(-2, 1)\n",
    "ax.legend()"
   ]
  },
  {
   "cell_type": "markdown",
   "metadata": {},
   "source": [
    "汎化誤差が最小になる次数を取ることで，過学習を防ぐことができる．"
   ]
  },
  {
   "cell_type": "markdown",
   "metadata": {},
   "source": [
    "# 演習問題 4-1\n",
    "\n",
    "第3回その3で Iris データセットに対して，あらゆる変数の組み合わせについて線形回帰モデルを試した．\n",
    "\n",
    "では，目的変数と説明変数を1つずつ取り，その組み合わせを取り替えて多項式回帰モデルを試し，多項式次数とフィッティング精度に傾向があるか確かめよ．上でやったように多項式次数を十分高く取ると過学習してしまうので，汎化誤差が小さくなるように多項式次数を調整し，学習誤差と汎化誤差の比較も行うこと．\n",
    "\n",
    "（植物学的に意味があるかはさておき）一番フィッティングの合う多項式回帰モデルは何か．その理由も考えよ．"
   ]
  },
  {
   "cell_type": "markdown",
   "metadata": {},
   "source": [
    "<h3><div style=\"text-align: right;\">その2につづく</div></h3>"
   ]
  },
  {
   "cell_type": "code",
   "execution_count": null,
   "metadata": {},
   "outputs": [],
   "source": []
  }
 ],
 "metadata": {
  "hide_input": false,
  "kernelspec": {
   "display_name": "Python 3 (ipykernel)",
   "language": "python",
   "name": "python3"
  },
  "language_info": {
   "codemirror_mode": {
    "name": "ipython",
    "version": 3
   },
   "file_extension": ".py",
   "mimetype": "text/x-python",
   "name": "python",
   "nbconvert_exporter": "python",
   "pygments_lexer": "ipython3",
   "version": "3.7.9"
  }
 },
 "nbformat": 4,
 "nbformat_minor": 2
}
