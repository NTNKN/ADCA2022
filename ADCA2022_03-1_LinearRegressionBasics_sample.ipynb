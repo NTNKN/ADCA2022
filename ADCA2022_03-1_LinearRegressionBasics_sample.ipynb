{
 "cells": [
  {
   "cell_type": "markdown",
   "metadata": {
    "slideshow": {
     "slide_type": "slide"
    }
   },
   "source": [
    "# データ解析特論 2022年度水曜２限\n",
    "\n",
    "# 第3回 その1 線形回帰再確認"
   ]
  },
  {
   "cell_type": "markdown",
   "metadata": {
    "slideshow": {
     "slide_type": "slide"
    }
   },
   "source": [
    "## 線形回帰\n",
    "\n",
    "変数 $x, y$ の間に線形関係 $y = b_0 + b_1 x + \\varepsilon$ が成り立つと仮定して，サイズ $N$ のデータ配列 \n",
    "\n",
    "$$\n",
    "\\begin{cases}\n",
    "\\boldsymbol X = (x_1, x_2, \\ldots, x_N), \\\\\n",
    "\\boldsymbol y = (y_1, y_2, \\ldots, y_N)\n",
    "\\end{cases}\n",
    "$$ \n",
    "\n",
    "から線形関係をフィッティングするのに尤もらしい $b_0$, $b_1$ を求めよう．\n",
    "\n",
    "求めたい線形関係はこれ↓\n",
    "\n",
    "$$\n",
    "y_i = b_0 + b_1 x_i + \\varepsilon_i \\quad (i=1, 2, \\ldots, N)\n",
    "$$\n",
    "\n",
    "この $\\boldsymbol \\varepsilon = (\\varepsilon_1, \\varepsilon_2, \\ldots, \\varepsilon_N)$ はランダム項であり，$y_i = b_0 + b_1 x_i$ と表しきれない部分~~(を全てこれに押しこめて都合良く表示するため)~~の項である．"
   ]
  },
  {
   "cell_type": "markdown",
   "metadata": {
    "slideshow": {
     "slide_type": "subslide"
    }
   },
   "source": [
    "### 注意1  \n",
    "線形回帰をするにあたっては，$y_i$ は何かしらの線形モデル $y_i = b_0 + b_1 x_i + e_i$ で与えられたデータである**<font color=\"#DC143C\">必要はない</font>**．そもそも線形モデルで生成されたデータかどうかは検証できないし，線形モデルで生成されたデータにお目にかかることはまずない．\n",
    "\n",
    "線形モデルで生成されていないからといって，線形回帰してはいけないわけではない．線形フィッティングをすることで，増減の傾向を掴みやすくなることだってある．複雑で結果の解釈に困るモデルよりは実社会での利用価値はあるかもしれない．\n",
    "\n",
    "### 注意2  \n",
    "しばしば「$e_i$ は正規分布に従う」という条件は回帰分析を行う上での\"仮定\"と言われる．しかし最小二乗法で線形回帰する上では，別にそれが正規分布に従うことは**<font color=\"#DC143C\">必要ではない</font>**．これについては後で確認する．"
   ]
  },
  {
   "cell_type": "markdown",
   "metadata": {
    "slideshow": {
     "slide_type": "subslide"
    }
   },
   "source": [
    "<font size=\"7\">もう一度注意するが，</font>\n",
    "\n",
    "<font size=\"7\">線形モデルで生成されているデータのパラメータを推定するのと</font>\n",
    "\n",
    "<font size=\"7\">線形モデルをデータに当てはめてパラメータをフィッティングするのは</font>\n",
    "\n",
    "<font size=\"7\">問題の意味合いが違う</font>"
   ]
  },
  {
   "cell_type": "markdown",
   "metadata": {
    "slideshow": {
     "slide_type": "subslide"
    }
   },
   "source": [
    "## 線形フィッティング\n",
    "\n",
    "回帰モデルを\n",
    "\n",
    "$$\n",
    "\\hat y_i = \\hat f_{b_0, b_1}(x) = b_0 + b_1 x\n",
    "$$\n",
    "\n",
    "と置く．回帰モデルによるデータ $x_i$ の推定値を $\\hat y_i$ とか $\\hat f_{b_0, b_1}(x_i)$ のように， $\\hat{}$ をつけて表すことにする．\n",
    "\n",
    "回帰モデルはそのパラメータによって変わる．$\\hat f_{b_0, b_1}(x_i)$ と表すのは，その依存性を明示する意味もある．"
   ]
  },
  {
   "cell_type": "markdown",
   "metadata": {
    "slideshow": {
     "slide_type": "slide"
    }
   },
   "source": [
    "## 最小二乗法\n",
    "\n",
    "### MSE\n",
    "\n",
    "回帰モデルのパラメータをデータから求める手法の１つに**<font color=\"#DC143C\">最小二乗法</font>**がある．これは，観測値 $y_i$ に対する予測値 $\\hat y_i$ の平均二乗誤差\n",
    "\n",
    "$$\n",
    "\\mathrm{MSE} = \\frac1N \\sum_{i=1}^N (\\hat y_i - y_i)^2 \n",
    "$$\n",
    "\n",
    "を最小にする $b_0, b_1$ を求める手法である．\n",
    "\n",
    "MSE は **<font color=\"#DC143C\">M</font>**ean **<font color=\"#DC143C\">S</font>**quared **<font color=\"#DC143C\">E</font>**rror のこと．つまり，Error（誤差）$\\hat y_i - y_i$ の Squared (平方つまり二乗) の Mean (平均) を計算している．"
   ]
  },
  {
   "cell_type": "markdown",
   "metadata": {
    "slideshow": {
     "slide_type": "subslide"
    }
   },
   "source": [
    "MSE の測り方は，線形モデルからの残差をデータ平均的に小さくするパラメータを求める手法．\n",
    "\n",
    "その他にも\n",
    "\n",
    "- 平均絶対誤差 (Mean Absolute Error): $\\displaystyle \\mathrm{MAE} = \\frac1N \\sum_{i=1}^N |\\hat y_i - y_i|$\n",
    "- 最大誤差 (Maximum Error): $\\displaystyle \\mathrm{ME} = \\max_{i=1,2, \\ldots, N} |\\hat y_i - y_i|$\n",
    "\n",
    "がある．また，平均の代わりに中央値を使ったりとさまざま．"
   ]
  },
  {
   "cell_type": "markdown",
   "metadata": {
    "slideshow": {
     "slide_type": "subslide"
    }
   },
   "source": [
    "### 線形モデルの場合\n",
    "\n",
    "線形モデルの場合の MSE は，$\\hat y_i$ に $b_0 + b_1 x_i$ を代入した\n",
    "\n",
    "$$\n",
    "\\mathrm{MSE} = \\frac1N \\sum_{i=1}^N (\\hat y_i - y_i)^2\n",
    "= \\frac1N \\sum_{i=1}^N (b_0 + b_1 x_i - y_i)^2\n",
    "$$\n",
    "\n",
    "で表される．$b_0, b_1$ が変わるごとに線形フィッティングの当てはまりの度合いは変わり，同時に MSE の値も変わる．つまり MSE は $b_0, b_1$ の関数とみなせる．これを $E(b_0, b_1)$ とおこう．\n",
    "\n",
    "$$\n",
    "E(b_0, b_1) = \\frac1N \\sum_{i=1}^N (b_0 + b_1 x_i - y_i)^2\n",
    "$$"
   ]
  },
  {
   "cell_type": "markdown",
   "metadata": {
    "slideshow": {
     "slide_type": "subslide"
    }
   },
   "source": [
    "### MSE の停留点\n",
    "\n",
    "$E(b_0, b_1)$ の最小値を与える最小点 $\\hat b_0, \\hat b_1$ を求めるには2変数関数の極値問題を解けば良い．つまり $E(b_0, b_1)$ の勾配ベクトル \n",
    "\n",
    "$$\n",
    "\\nabla E(b_0, b_1) = \\left( \\frac{\\partial E}{\\partial b_0}(b_0, b_1), \\frac{\\partial E}{\\partial b_1}(b_0, b_1) \\right)\n",
    "$$\n",
    "\n",
    "が零ベクトル $(0, 0)$ となる点（$E$ の停留点）を求めれば良い．\n",
    "\n",
    "**補足**  \n",
    "この場合 $E(b_0, b_1)$ は $(b_0, b_1)$ に対して凸関数であり，停留点はただ１つであり，さらにそれは $E(b_0, b_1)$ の最小値を与えることが知られている．"
   ]
  },
  {
   "cell_type": "markdown",
   "metadata": {
    "slideshow": {
     "slide_type": "slide"
    }
   },
   "source": [
    "### まず $E(b_0, b_1)$ を $b_0$ で偏微分\n",
    "$$\n",
    "\\begin{align}\n",
    "&\n",
    "\\frac{\\partial E}{\\partial b_0}(b_0, b_1) \n",
    "= \\frac{\\partial E}{\\partial b_0} \\left( \\frac1N \\sum_{i=1}^N (b_0 + b_1 x_i - y_i)^2 \\right)\n",
    "= \\frac1N \\sum_{i=1}^N \\frac{\\partial E}{\\partial b_0} \\left\\{ (b_0 + b_1 x_i - y_i)^2 \\right\\}\n",
    "\\\\\n",
    "&\n",
    "\\phantom{\\frac{\\partial E}{\\partial b_0}(b_0, b_1)}\n",
    "= \\frac1N \\sum_{i=1}^N 2 (b_0 + b_1 x_i - y_i) \\cdot \\frac{\\partial E}{\\partial b_0} (b_0 + b_1 x_i - y_i)\n",
    "\\\\\n",
    "&\n",
    "\\phantom{\\frac{\\partial E}{\\partial b_0}(b_0, b_1)}\n",
    "= \\frac1N \\sum_{i=1}^N 2 (b_0 + b_1 x_i - y_i) \\cdot 1\n",
    "= \\frac2N \\sum_{i=1}^N (b_0 + b_1 x_i - y_i)\n",
    "\\\\\n",
    "&\n",
    "\\phantom{\\frac{\\partial E}{\\partial b_0}(b_0, b_1)}\n",
    "= 2 \\left( \\frac1N \\sum_{i=1}^N b_0 + b_1 \\cdot \\frac1N \\sum_{i=1}^N x_i - \\frac1N \\sum_{i=1}^N y_i \\right)\n",
    "\\\\\n",
    "&\n",
    "\\phantom{\\frac{\\partial E}{\\partial b_0}(b_0, b_1)}\n",
    "= 2 \\left( b_0 + b_1 \\langle x \\rangle - \\langle y \\rangle \\right)\n",
    "\\end{align}\n",
    "$$\n",
    "\n",
    "ただし，$\\langle x \\rangle = \\frac1N \\sum_{i=1}^N x_i$ は $x_i$ の標本平均である．$\\langle y \\rangle$ も同様． "
   ]
  },
  {
   "cell_type": "markdown",
   "metadata": {
    "slideshow": {
     "slide_type": "subslide"
    }
   },
   "source": [
    "したがって偏微分係数が 0 となる $(b_0, b_1)$ は\n",
    "$$\n",
    "\\begin{align}\n",
    "&\n",
    "\\frac{\\partial E}{\\partial b_0}(b_0, b_1) = 0\n",
    "\\ \\Longleftrightarrow \\ \n",
    "b_0 + b_1 \\langle x \\rangle - \\langle y \\rangle = 0\n",
    "\\\\\n",
    "&\n",
    "\\phantom{\\frac{\\partial E}{\\partial b_0}(b_0, b_1) = 0}\n",
    "\\ \\Longleftrightarrow \\ \n",
    "b_0 + b_1 \\langle x \\rangle = \\langle y \\rangle\n",
    "\\end{align}\n",
    "$$\n",
    "という式を満たす．"
   ]
  },
  {
   "cell_type": "markdown",
   "metadata": {
    "slideshow": {
     "slide_type": "subslide"
    }
   },
   "source": [
    "### 次に $E(b_0, b_1)$ を $b_1$ で偏微分\n",
    "$$\n",
    "\\begin{align}\n",
    "&\n",
    "\\frac{\\partial E}{\\partial b_1}(b_0, b_1) \n",
    "= \\frac{\\partial E}{\\partial b_1} \\left( \\frac1N \\sum_{i=1}^N (b_0 + b_1 x_i - y_i)^2 \\right)\n",
    "= \\frac1N \\sum_{i=1}^N \\frac{\\partial E}{\\partial b_1} \\left\\{ (b_0 + b_1 x_i - y_i)^2 \\right\\}\n",
    "\\\\\n",
    "&\n",
    "\\phantom{\\frac{\\partial E}{\\partial b_1}(b_0, b_1)}\n",
    "= \\frac1N \\sum_{i=1}^N 2 (b_0 + b_1 x_i - y_i) \\cdot \\frac{\\partial E}{\\partial b_1} (b_0 + b_1 x_i - y_i)\n",
    "\\\\\n",
    "&\n",
    "\\phantom{\\frac{\\partial E}{\\partial b_1}(b_0, b_1)}\n",
    "= \\frac1N \\sum_{i=1}^N 2 (b_0 + b_1 x_i - y_i) \\cdot x_i\n",
    "= \\frac2N \\sum_{i=1}^N (b_0 x_i + b_1 x_i^2 - x_i y_i)\n",
    "\\\\\n",
    "&\n",
    "\\phantom{\\frac{\\partial E}{\\partial b_0}(b_0, b_1)}\n",
    "= 2 \\left( b_0 \\cdot \\frac1N \\sum_{i=1}^N x_i + b_1 \\cdot \\frac1N \\sum_{i=1}^N x_i^2 - \\frac1N \\sum_{i=1}^N x_i y_i \\right)\n",
    "\\\\\n",
    "&\n",
    "\\phantom{\\frac{\\partial E}{\\partial b_0}(b_0, b_1)}\n",
    "= 2 \\left( b_0 \\langle x \\rangle + b_1 \\langle x^2 \\rangle - \\langle xy \\rangle \\right)\n",
    "\\end{align}\n",
    "$$\n",
    "\n",
    "ただし，$\\langle x^2 \\rangle = \\frac1N \\sum_{i=1}^N x_i^2$, $\\langle xy \\rangle = \\frac1N \\sum_{i=1}^N x_i y_i$ である．"
   ]
  },
  {
   "cell_type": "markdown",
   "metadata": {
    "slideshow": {
     "slide_type": "subslide"
    }
   },
   "source": [
    "前と同様に，偏微分係数が 0 となる $(b_0, b_1)$ は\n",
    "\n",
    "$$\n",
    "\\begin{align}\n",
    "&\n",
    "\\frac{\\partial E}{\\partial b_1}(b_0, b_1) = 0\n",
    "\\ \\Longleftrightarrow \\ \n",
    "b_0 \\langle x \\rangle + b_1 \\langle x^2 \\rangle - \\langle xy \\rangle = 0\n",
    "\\\\\n",
    "&\n",
    "\\phantom{\\frac{\\partial E}{\\partial b_1}(b_0, b_1) = 0}\n",
    "\\ \\Longleftrightarrow \\ \n",
    "b_0 \\langle x \\rangle + b_1 \\langle x^2 \\rangle = \\langle xy \\rangle\n",
    "\\end{align}\n",
    "$$\n",
    "\n",
    "という式を満たす．"
   ]
  },
  {
   "cell_type": "markdown",
   "metadata": {
    "slideshow": {
     "slide_type": "slide"
    }
   },
   "source": [
    "### MSE を最小にする $(b_0, b_1)$ が満たす連立一次方程式\n",
    "2つの式をまとめると，\n",
    "\n",
    "$$\n",
    "\\begin{cases}\n",
    "b_0 + b_1 \\langle x \\rangle & = \\langle y \\rangle \\\\\n",
    "b_0 \\langle x \\rangle + b_1 \\langle x^2 \\rangle & = \\langle xy \\rangle\n",
    "\\end{cases}\n",
    "\\quad ...(*)\n",
    "$$\n",
    "\n",
    "である．\n",
    "\n",
    "この2式を満たす $b_0, b_1$ を $\\hat b_0, \\hat b_1$ とおく．データから推定されるパラメータなので $\\hat{}$ を付けて表す．"
   ]
  },
  {
   "cell_type": "markdown",
   "metadata": {
    "slideshow": {
     "slide_type": "subslide"
    }
   },
   "source": [
    "$$\n",
    "\\begin{cases}\n",
    "b_0 + b_1 \\langle x \\rangle & = \\langle y \\rangle \\\\\n",
    "b_0 \\langle x \\rangle + b_1 \\langle x^2 \\rangle & = \\langle xy \\rangle\n",
    "\\end{cases}\n",
    "$$\n",
    "\n",
    "の左辺は $b_0$, $b_1$ の1次式になっている．行列とベクトルを用いて表すと\n",
    "\n",
    "$$\n",
    "\\begin{pmatrix} b_0 & b_1 \\end{pmatrix}\n",
    "\\begin{pmatrix}\n",
    "1                 & \\langle x \\rangle \\\\\n",
    "\\langle x \\rangle & \\langle x^2 \\rangle \n",
    "\\end{pmatrix}\n",
    "=\n",
    "\\begin{pmatrix} \\langle y \\rangle & \\langle xy \\rangle \\end{pmatrix}\n",
    "\\quad ...(**)\n",
    "$$\n",
    "\n",
    "という連立一次方程式を得る．\n",
    "\n",
    "$\\boldsymbol b = \\begin{pmatrix} b_0 & b_1 \\end{pmatrix}$, $\\boldsymbol{\\mathcal X} = \\begin{pmatrix}\n",
    "1                 & \\langle x \\rangle \\\\\n",
    "\\langle x \\rangle & \\langle x^2 \\rangle \n",
    "\\end{pmatrix}$, $\\boldsymbol c = \\begin{pmatrix} \\langle y \\rangle & \\langle xy \\rangle \\end{pmatrix} $\n",
    "とおくと，この連立一次方程式は\n",
    "\n",
    "$$\n",
    "\\boldsymbol b \\boldsymbol{\\mathcal X} = \\boldsymbol c\n",
    "$$\n",
    "\n",
    "となる．$(\\mbox{横ベクトル}) (\\mbox{行列}) = (\\mbox{横ベクトル})$ の形で表されていることに注意しよう．"
   ]
  },
  {
   "cell_type": "markdown",
   "metadata": {
    "slideshow": {
     "slide_type": "subslide"
    }
   },
   "source": [
    "### 余談\n",
    "\n",
    "よく見知った連立一次方程式の形で表したいのなら，$(*)$ を表す連立一次方程式を\n",
    "\n",
    "$$\n",
    "\\begin{pmatrix}\n",
    "1                 & \\langle x \\rangle \\\\\n",
    "\\langle x \\rangle & \\langle x^2 \\rangle \n",
    "\\end{pmatrix}\n",
    "\\begin{pmatrix} b_0 \\\\ b_1 \\end{pmatrix}\n",
    "=\n",
    "\\begin{pmatrix} \\langle y \\rangle \\\\ \\langle xy \\rangle \\end{pmatrix}\n",
    "$$\n",
    "\n",
    "とすれば良い．このときは\n",
    "\n",
    "$$\n",
    "\\boldsymbol{\\mathcal X} \\boldsymbol b^{\\mathrm T} = \\boldsymbol c^{\\mathrm T}\n",
    "$$\n",
    "\n",
    "となり，$(\\mbox{行列})(\\mbox{縦ベクトル})  = (\\mbox{縦ベクトル})$ の形で表される．"
   ]
  },
  {
   "cell_type": "markdown",
   "metadata": {
    "slideshow": {
     "slide_type": "slide"
    }
   },
   "source": [
    "### 連立一次方程式を解く\n",
    "\n",
    "もし係数行列 $\\begin{pmatrix}\n",
    "1                 & \\langle x \\rangle \\\\\n",
    "\\langle x \\rangle & \\langle x^2 \\rangle \n",
    "\\end{pmatrix}\n",
    "$\n",
    "が正則ならば，その逆行列を $(**)$ の右から掛けることで\n",
    "\n",
    "$$\n",
    "\\hat{\\boldsymbol b} = \\boldsymbol c \\boldsymbol{\\mathcal X}^{-1}\n",
    "$$\n",
    "\n",
    "と連立一次方程式の解 $\\hat{\\boldsymbol b} = (\\hat b_0, \\hat b_1)$ を求められる．この2式を満たす $b_0, b_1$ を $\\hat b_0, \\hat b_1$ とおく．データから推定されるパラメータなので $\\hat{}$ を付けて表す．\n",
    "\n",
    "尚，係数行列の正則性はその行列式が 0 でなければ保証される．つまり，\n",
    "\n",
    "$$\n",
    "\\begin{vmatrix}\n",
    "1                 & \\langle x \\rangle \\\\\n",
    "\\langle x \\rangle & \\langle x^2 \\rangle \n",
    "\\end{vmatrix}\n",
    "= \\langle x^2 \\rangle - \\langle x \\rangle^2 > 0\n",
    "$$\n",
    "\n",
    "であれば良い．これは $x$ の標本分散 $\\sigma_x^2 = \\langle x^2 \\rangle - \\langle x \\rangle^2$ が正ということを意味している．$x_i$ が全て同じ値のときのみ $\\sigma_x^2 = 0$ となるので，$x_i$ に異なる点が含まれていさえすれば良い．\n",
    "\n",
    "観測データの $x_i$ が全て同じ値となっていたら，$y$ を $x$ で回帰させるという考えは不適切である．そのため，以下では $x$ の分散は正である場合に限定する．"
   ]
  },
  {
   "cell_type": "markdown",
   "metadata": {
    "slideshow": {
     "slide_type": "subslide"
    }
   },
   "source": [
    "### 成分ごとに計算\n",
    "\n",
    "$\\hat{\\boldsymbol b} = \\boldsymbol c \\boldsymbol{\\mathcal X}^{-1}$ を成分ごとに計算すると，\n",
    "\n",
    "$$\n",
    "\\begin{align}\n",
    "&\n",
    "\\begin{pmatrix} \\hat b_0 & \\hat b_1 \\end{pmatrix}\n",
    "= \n",
    "\\begin{pmatrix} \\langle y \\rangle & \\langle xy \\rangle \\end{pmatrix}\n",
    "\\begin{pmatrix}\n",
    "1                 & \\langle x \\rangle \\\\\n",
    "\\langle x \\rangle & \\langle x^2 \\rangle \n",
    "\\end{pmatrix}^{-1}\n",
    "\\\\\n",
    "&\n",
    "\\phantom{\\begin{pmatrix} \\hat b_0 & \\hat b_1 \\end{pmatrix}}\n",
    "= \n",
    "\\frac1{\\langle x^2 \\rangle - \\langle x \\rangle^2}\n",
    "\\begin{pmatrix} \\langle y \\rangle & \\langle xy \\rangle \\end{pmatrix}\n",
    "\\begin{pmatrix}\n",
    "\\langle x^2 \\rangle & -\\langle x \\rangle \\\\\n",
    "-\\langle x \\rangle  & 1\n",
    "\\end{pmatrix}\n",
    "\\\\\n",
    "&\n",
    "\\phantom{\\begin{pmatrix} \\hat b_0 & \\hat b_1 \\end{pmatrix}}\n",
    "= \\frac1{\\langle x^2 \\rangle - \\langle x \\rangle^2}\n",
    "\\begin{pmatrix} \\langle x^2 \\rangle \\langle y \\rangle - \\langle x \\rangle \\langle xy \\rangle &\n",
    "\\langle xy \\rangle - \\langle x \\rangle \\langle y \\rangle \\end{pmatrix}\n",
    "\\end{align}\n",
    "$$\n",
    "となる．"
   ]
  },
  {
   "cell_type": "markdown",
   "metadata": {
    "slideshow": {
     "slide_type": "subslide"
    }
   },
   "source": [
    "### $\\hat b_1$ について\n",
    "\n",
    "$$\n",
    "\\hat b_1 \n",
    "= \\frac{\\langle xy \\rangle - \\langle x \\rangle \\langle y \\rangle}{\\langle x^2 \\rangle - \\langle x \\rangle^2}\n",
    "= \\frac{\\sigma_{xy}}{\\sigma_x^2}\n",
    "$$\n",
    "\n",
    "で与えられ，\n",
    "\n",
    "- 分子：$x$ と $y$ の標本共分散 $\\sigma_{xy}$\n",
    "- 分母：$x$ の標本分散 $\\sigma_x^2$\n",
    "\n",
    "となっていることがわかる．\n",
    "\n",
    "$\\hat b_1$ が得られれば，$\\hat b_0$ は $(*)$ の1式目\n",
    "\n",
    "$$\n",
    "\\hat b_0 = \\langle y \\rangle - \\hat b_1 \\langle x \\rangle\n",
    "$$\n",
    "\n",
    "から計算すれば良い．"
   ]
  },
  {
   "cell_type": "markdown",
   "metadata": {
    "slideshow": {
     "slide_type": "slide"
    }
   },
   "source": [
    "## 回帰残差\n",
    "\n",
    "### 回帰式と推定値\n",
    "\n",
    "上では，データから最小二乗法によって\n",
    "\n",
    "$$\n",
    "\\hat y_i = \\hat b_0 + \\hat b_1 x_i\n",
    "$$\n",
    "\n",
    "という線形モデルを立てたのであった．これを**回帰式**と呼ぶ．\n",
    "\n",
    "回帰式による推定値 $\\hat y_i$ の標本平均は\n",
    "\n",
    "$$\n",
    "\\begin{align}\n",
    "&\n",
    "\\langle \\hat y \\rangle \n",
    "= \\frac1N \\sum_{i=1}^N \\hat y_i \n",
    "= \\frac1N \\sum_{i=1}^N (\\hat b_0 + \\hat b_1 x_i)\n",
    "= \\hat b_0 + \\hat b_1 \\frac1N \\sum_{i=1}^N x_i \n",
    "= \\hat b_0 + \\hat b_1 \\langle x \\rangle \n",
    "\\\\\n",
    "&\n",
    "\\phantom{\\langle \\hat y \\rangle }\n",
    "= \\langle y \\rangle \n",
    "\\end{align}\n",
    "$$\n",
    "\n",
    "なので，$y_i$ の標本平均に等しい．"
   ]
  },
  {
   "cell_type": "markdown",
   "metadata": {
    "slideshow": {
     "slide_type": "subslide"
    }
   },
   "source": [
    "### 回帰残差\n",
    "\n",
    "観測値と回帰式による推定値 $\\hat y_i$ との差\n",
    "\n",
    "$$\n",
    "e_i = y_i - \\hat y_i\n",
    "$$\n",
    "\n",
    "を**回帰残差**と呼ぶ．これはつまり\n",
    "\n",
    "$$\n",
    "e_i = y_i - (\\hat b_0 + \\hat b_1 x_i)\n",
    "$$\n",
    "\n",
    "のこと．"
   ]
  },
  {
   "cell_type": "markdown",
   "metadata": {
    "slideshow": {
     "slide_type": "subslide"
    }
   },
   "source": [
    "### 回帰残差の標本平均\n",
    "\n",
    "回帰残差の標本平均を取ると，\n",
    "\n",
    "$$\n",
    "\\begin{align}\n",
    "&\n",
    "\\langle e \\rangle \n",
    "= \\frac1N \\sum_{i=1}^N e_i \n",
    "= \\frac1N \\sum_{i=1}^N (y_i - \\hat b_0 - \\hat b_1 x_i)\n",
    "= \\frac1N \\sum_{i=1}^N y_i - \\hat b_0 - \\hat b_1 \\frac1N \\sum_{i=1}^N x_i\n",
    "\\\\\n",
    "&\n",
    "\\phantom{\\langle e \\rangle = \\frac1N \\sum_{i=1}^N e_i}\n",
    "= \\langle y \\rangle - \\hat b_0 - \\hat b_1 \\langle x \\rangle\n",
    "\\end{align}\n",
    "$$\n",
    "\n",
    "となる．一方，$\\hat b_0$ は\n",
    "\n",
    "$$\n",
    "\\hat b_0 = \\langle y \\rangle - \\hat b_1 \\langle x \\rangle\n",
    "$$\n",
    "\n",
    "で定めたパラメータなので，\n",
    "\n",
    "$$\\langle e \\rangle = 0$$ \n",
    "\n",
    "ということがわかる．"
   ]
  },
  {
   "cell_type": "markdown",
   "metadata": {
    "slideshow": {
     "slide_type": "subslide"
    }
   },
   "source": [
    "### 回帰残差と $x_i$ は無相関\n",
    "\n",
    "$x_i$ と回帰残差 $e_i$ との標本共分散 $\\sigma_{xe}$ を計算しよう．$\\langle e \\rangle = 0$ と $e_i = y_i - (\\hat b_0 + \\hat b_1 x_i)$ を用いると，\n",
    "\n",
    "$$\n",
    "\\begin{align}\n",
    "&\n",
    "\\sigma_{xe}\n",
    "= \\langle xe \\rangle - \\langle x \\rangle \\langle e \\rangle \n",
    "= \\langle xe \\rangle\n",
    "= \\frac1N \\sum_{i=1}^N x_i e_i\n",
    "\\\\\n",
    "&\n",
    "\\phantom{\\sigma_{xe}}\n",
    "= \\frac1N \\sum_{i=1}^N x_i (y_i - \\hat b_0 - \\hat b_1 x_i)\n",
    "\\\\\n",
    "&\n",
    "\\phantom{\\sigma_{xe}}\n",
    "= \\frac1N \\sum_{i=1}^N x_i y_i - \\hat b_0 \\cdot \\frac1N \\sum_{i=1}^N x_i - \\hat b_1 \\cdot \\frac1N \\sum_{i=1}^N x_i^2\n",
    "\\\\\n",
    "&\n",
    "\\phantom{\\sigma_{xe}}\n",
    "= \\langle xy \\rangle - \\hat b_0 \\langle x \\rangle- \\hat b_1 \\langle x^2 \\rangle\n",
    "\\end{align}\n",
    "$$\n",
    "\n",
    "連立一次方程式 $(*)$ の2式目から，$\\langle xy \\rangle - \\hat b_0 \\langle x \\rangle- \\hat b_1 \\langle x^2 \\rangle = 0$ なので，回帰残差 $e_i$ と $x_i$ の標本共分散は\n",
    "\n",
    "$$\n",
    "\\sigma_{xe} = \\langle xe \\rangle - \\langle x \\rangle \\langle e \\rangle = 0\n",
    "$$\n",
    "\n",
    "が成り立つ．すなわち無相関である．"
   ]
  },
  {
   "cell_type": "markdown",
   "metadata": {},
   "source": [
    "### 回帰残差と推定値 $\\hat y_i$ は無相関\n",
    "\n",
    "回帰による推定値 $\\hat y_i$ と回帰残差 $e_i$ との標本共分散 $\\sigma_{\\hat y e}$ を計算しよう．$\\langle e \\rangle = 0$ と $\\langle xe \\rangle = 0$ を用いると，\n",
    "\n",
    "$$\n",
    "\\begin{align}\n",
    "&\n",
    "\\sigma_{\\hat y e}\n",
    "= \\langle \\hat ye \\rangle - \\langle \\hat y \\rangle \\langle e \\rangle \n",
    "= \\langle \\hat ye \\rangle\n",
    "= \\frac1N \\sum_{i=1}^N \\hat y_i e_i\n",
    "\\\\\n",
    "&\n",
    "\\phantom{\\sigma_{\\hat y e}}\n",
    "= \\frac1N \\sum_{i=1}^N (\\hat b_0 + \\hat b_1 x_i) e_i\n",
    "= b_0 \\frac1N \\sum_{i=1}^N e_i + \\hat b_1 \\cdot \\frac1N \\sum_{i=1}^N x_i e_i\n",
    "\\\\\n",
    "&\n",
    "\\phantom{\\sigma_{\\hat y e}}\n",
    "= b_0 \\langle e \\rangle - \\hat b_1 \\langle xe \\rangle\n",
    "= 0 - 0 = 0\n",
    "\\end{align}\n",
    "$$\n",
    "\n",
    "回帰による推定値 $\\hat y_i$ と回帰残差 $e_i$ との標本共分散 $\\sigma_{\\hat y e}$ は 0，すなわち無相関である．"
   ]
  },
  {
   "cell_type": "markdown",
   "metadata": {
    "slideshow": {
     "slide_type": "subslide"
    }
   },
   "source": [
    "## 注意\n",
    "\n",
    "ちなみにこれらの性質は，\n",
    "\n",
    "- **データが線形モデルに生成されたものでなくても構わないし，**\n",
    "- **ランダム項がどんな分布であっても構わない．**\n",
    "\n",
    "その意味で最小二乗法による線形フィッティングはとても使い勝手の良い手法．\n",
    "\n",
    "以下で数値的に検証してみよう．"
   ]
  },
  {
   "cell_type": "markdown",
   "metadata": {
    "slideshow": {
     "slide_type": "slide"
    }
   },
   "source": [
    "## 数値検証"
   ]
  },
  {
   "cell_type": "markdown",
   "metadata": {
    "slideshow": {
     "slide_type": "subslide"
    }
   },
   "source": [
    "### import"
   ]
  },
  {
   "cell_type": "code",
   "execution_count": 2,
   "metadata": {
    "slideshow": {
     "slide_type": "-"
    }
   },
   "outputs": [],
   "source": [
    "import numpy as np\n",
    "import matplotlib.pyplot as plt"
   ]
  },
  {
   "cell_type": "markdown",
   "metadata": {
    "slideshow": {
     "slide_type": "slide"
    }
   },
   "source": [
    "### まずは線形モデルでデータを生成"
   ]
  },
  {
   "cell_type": "code",
   "execution_count": 5,
   "metadata": {},
   "outputs": [
    {
     "name": "stdout",
     "output_type": "stream",
     "text": [
      "b_0 = -1.026, b_1 = 1.879\n",
      "mean of regression residual: <e> = 1.255940e-16\n",
      "covariance of x and regression residual: <xe> = 1.119650e-16\n"
     ]
    },
    {
     "data": {
      "image/png": "[encoded data removed]",
      "text/plain": [
       "<Figure size 640x480 with 1 Axes>"
      ]
     },
     "metadata": {},
     "output_type": "display_data"
    }
   ],
   "source": [
    "# 説明変数の配列 X\n",
    "#X = np.arange(-0.5, 1.1, 0.2)\n",
    "X = np.arange(-0.5, 1.1, 0.01)\n",
    "\n",
    "# randomness の配列 W\n",
    "#W = np.random.normal(loc=0, scale=np.random.rand(X.size)*3, size=X.size)\n",
    "W = np.random.normal(loc=0, scale=X**2, size=X.size)\n",
    "#W = np.random.normal(loc=0, scale=0.3, size=X.size)\n",
    "#W = np.random.chisquare(df=7, size=X.size) - 7.0\n",
    "\n",
    "# 線形モデル Y = B0 + B1*X + W\n",
    "# 真のパラメータ\n",
    "B0, B1 = -1.0, 2.0\n",
    "Y = B0 + B1*X + W\n",
    "\n",
    "# X と Y の散布図\n",
    "plt.scatter(X, Y)\n",
    "\n",
    "# パラメータ推定値: b0, b1\n",
    "b1 = np.cov(X, Y, ddof=0)[0, 1] / np.var(X)\n",
    "b0 = np.mean(Y) - b1 * np.mean(X)\n",
    "\n",
    "print('b_0 = %.3f, b_1 = %.3f'%(b0, b1))\n",
    "\n",
    "# 回帰モデルによる推定値: Yhat\n",
    "Yhat = b0 + b1 * X\n",
    "\n",
    "# 回帰残差: E\n",
    "E = Y - Yhat\n",
    "\n",
    "# E の統計値の確認: <e>, <xe>\n",
    "print('mean of regression residual: <e> = %e'%np.mean(E))\n",
    "print('covariance of x and regression residual: <xe> = %e'%np.cov(X, E, ddof=0)[0, 1])\n",
    "\n",
    "# 線形回帰による回帰直線\n",
    "plt.plot([-0.5, 1.0], [b0+b1*-0.5, b0+b1*1.0], lw=3, c='tab:orange', label='estimated')\n",
    "\n",
    "# 真の線形モデルの直線\n",
    "plt.plot([-0.5, 1.0], [B0+B1*-0.5, B0+B1*1.0], lw=3, c='tab:green',  label='truth')\n",
    "\n",
    "plt.legend(fontsize=12)\n",
    "plt.show()"
   ]
  },
  {
   "cell_type": "markdown",
   "metadata": {
    "slideshow": {
     "slide_type": "slide"
    }
   },
   "source": [
    "### 線形でないモデルで生成されたデータ"
   ]
  },
  {
   "cell_type": "code",
   "execution_count": 135,
   "metadata": {
    "slideshow": {
     "slide_type": "-"
    }
   },
   "outputs": [
    {
     "name": "stdout",
     "output_type": "stream",
     "text": [
      "b_0 = -0.815, b_1 = 0.483\n",
      "mean of regression residual: <e> = -5.551115e-17\n",
      "covariance of x and regression residual: <xe> = -1.168466e-17\n"
     ]
    },
    {
     "data": {
      "image/png": "[encoded data removed]",
      "text/plain": [
       "<Figure size 432x288 with 1 Axes>"
      ]
     },
     "metadata": {
      "needs_background": "light"
     },
     "output_type": "display_data"
    }
   ],
   "source": [
    "# 説明変数の配列 X\n",
    "X = np.arange(-0.5, 1.1, 0.2)\n",
    "\n",
    "# 目的変数の配列 Y \n",
    "Y = X**2 -1.0 + 0.3*(np.random.rand(X.size)-0.5)\n",
    "\n",
    "# X と Y の散布図\n",
    "plt.scatter(X, Y)\n",
    "\n",
    "# 線形フィッティングによるパラメータ: b0, b1\n",
    "b1 = np.cov(X, Y, ddof=0)[0, 1] / np.var(X)\n",
    "b0 = np.mean(Y) - b1 * np.mean(X)\n",
    "print('b_0 = %.3f, b_1 = %.3f'%(b0, b1))\n",
    "\n",
    "# 回帰モデルによる推定値: Yhat\n",
    "Yhat = b0 + b1 * X\n",
    "\n",
    "# 回帰残差: E\n",
    "E = Y - Yhat\n",
    "\n",
    "# E の統計値の確認: <e>, <xe>\n",
    "print('mean of regression residual: <e> = %e'%np.mean(E))\n",
    "print('covariance of x and regression residual: <xe> = %e'%np.cov(X, E, ddof=0)[0, 1])\n",
    "\n",
    "# 線形回帰による回帰直線\n",
    "plt.plot([-0.5, 1.0], [b0+b1*-0.5, b0+b1*1.0], c='tab:orange')\n",
    "plt.show()"
   ]
  },
  {
   "cell_type": "code",
   "execution_count": 140,
   "metadata": {
    "slideshow": {
     "slide_type": "subslide"
    }
   },
   "outputs": [
    {
     "name": "stdout",
     "output_type": "stream",
     "text": [
      "b0 = 0.037, b1 = 0.957\n",
      "mean of regression residual: <e> = 0.00000000000000003\n",
      "covariance of x and regression residual: <xe> = 0.00000000000000002\n"
     ]
    },
    {
     "data": {
      "image/png": "[encoded data removed]",
      "text/plain": [
       "<Figure size 432x288 with 1 Axes>"
      ]
     },
     "metadata": {
      "needs_background": "light"
     },
     "output_type": "display_data"
    }
   ],
   "source": [
    "X = np.arange(-0.5, 2.1, 0.2)\n",
    "Y = X + 0.3*np.sin(10*X)\n",
    "plt.scatter(X, Y)\n",
    "\n",
    "b1 = np.cov(X, Y, ddof=0)[0, 1] / np.var(X)\n",
    "b0 = np.mean(Y) - b1 * np.mean(X)\n",
    "\n",
    "print('b0 = %.3f, b1 = %.3f'%(b0, b1))\n",
    "\n",
    "Yhat = b0 + b1 * X\n",
    "print('mean of regression residual: <e> = %.17f'%np.mean(Yhat-Y))\n",
    "\n",
    "print('covariance of x and regression residual: <xe> = %.17f'%np.cov(X, Yhat-Y)[0, 1])\n",
    "\n",
    "\n",
    "plt.plot([-0.5, 2.0], [b0+b1*-0.5, b0+b1*2.0], c='tab:orange')\n",
    "plt.plot([-0.5, 2.0], [-0.5, 2.0], c='tab:green')\n",
    "plt.show()\n"
   ]
  },
  {
   "cell_type": "markdown",
   "metadata": {
    "slideshow": {
     "slide_type": "slide"
    }
   },
   "source": [
    "# 演習問題 3-1\n",
    "\n",
    "自分で適当にデータを生成し，線形回帰フィッティングを行ない，データの散布図と合わせて真のモデルの表す関数関係の曲線（直線）と回帰直線を描け．また，上で確かめたような回帰残差の性質が，線形モデル＋正規分布でなくとも成り立つことを確かめよ．\n",
    "\n",
    "演習問題は新規に notebook を立ち上げ，\n",
    "\n",
    "- 演習問題の番号\n",
    "- 氏名\n",
    "- 学生番号\n",
    "- 回答内容\n",
    "\n",
    "をセルにきちんと記載すること．\n",
    "\n",
    "回答内容は，code セルで計算し，図示するだけではなく，適宜 markdown セルで説明の記述を必ず行うこと．"
   ]
  },
  {
   "cell_type": "markdown",
   "metadata": {},
   "source": [
    "<h3><div style=\"text-align: right;\">その2につづく</div></h3>"
   ]
  },
  {
   "cell_type": "code",
   "execution_count": null,
   "metadata": {},
   "outputs": [],
   "source": []
  }
 ],
 "metadata": {
  "celltoolbar": "Slideshow",
  "hide_input": false,
  "kernelspec": {
   "display_name": "Python 3 (ipykernel)",
   "language": "python",
   "name": "python3"
  },
  "language_info": {
   "codemirror_mode": {
    "name": "ipython",
    "version": 3
   },
   "file_extension": ".py",
   "mimetype": "text/x-python",
   "name": "python",
   "nbconvert_exporter": "python",
   "pygments_lexer": "ipython3",
   "version": "3.9.7"
  }
 },
 "nbformat": 4,
 "nbformat_minor": 4
}
