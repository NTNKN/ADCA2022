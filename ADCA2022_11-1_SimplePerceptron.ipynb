{
 "cells": [
  {
   "cell_type": "markdown",
   "metadata": {},
   "source": [
    "# データ解析特論 2022年度水曜２限\n",
    "\n",
    "# 第11回 その1 パーセプトロン1つで出来ること\n",
    "\n",
    "<h3>概要：<br>単純パーセプトロンのからくりを見る</h3>"
   ]
  },
  {
   "cell_type": "code",
   "execution_count": null,
   "metadata": {
    "slideshow": {
     "slide_type": "skip"
    }
   },
   "outputs": [],
   "source": [
    "# import"
   ]
  },
  {
   "cell_type": "markdown",
   "metadata": {
    "slideshow": {
     "slide_type": "slide"
    }
   },
   "source": [
    "## 単純パーセプトロンの仕組み\n",
    "\n",
    "### 単純パーセプトロンとは\n",
    "\n",
    "入力1次元，出力1次元の単純パーセプトロンは\n",
    "$$ y=f(wx-b) $$\n",
    "の形の入出力モデルである．\n",
    "\n",
    "$f(x)$ は活性化関数とよばれる関数であり，ニューロンが受け取った情報を非線形変換するために用いる．\n",
    "\n",
    "この形で表される単純パーセプトロンを関数のグラフとして可視化しよう．"
   ]
  },
  {
   "cell_type": "code",
   "execution_count": null,
   "metadata": {
    "slideshow": {
     "slide_type": "skip"
    }
   },
   "outputs": [],
   "source": [
    "# 活性化関数のリスト\n",
    "actf = ['Heaviside', 'Sigmoid', 'tanh', 'ReLU']\n",
    "\n",
    "def plot_perceptron1d(w=0, b=0, ftype='Heaviside'):\n",
    "    # 関数のグラフの描画用の点の数 N\n",
    "    \n",
    "    \n",
    "    # 横軸データ x\n",
    "    \n",
    "    \n",
    "    # 活性化関数を上のリストから選択して縦軸のデータ y を生成\n",
    "    \n",
    "        \n",
    "    # 関数の描画\n",
    "\n",
    "    \n",
    "    # 描画範囲\n",
    "\n",
    "    \n",
    "    # パーセプトロン関数のグラフ\n",
    "\n",
    "    \n",
    "# interact でパラメータを動かしてグラフを観察する\n",
    "\n"
   ]
  },
  {
   "cell_type": "markdown",
   "metadata": {
    "slideshow": {
     "slide_type": "-"
    }
   },
   "source": [
    "$w$, $b$ の値や関数 $f$ の形を変えると，$y=f(wx-b)$ のグラフが変わる．\n",
    "\n",
    "機械学習というのは，データ $\\{(x_i, y_i)\\}_{i=1}^n$ によくフィットするような $y=f(wx-b)$ を作る問題と思えばよい．もちろん，$f(wx-b)$ のような簡単なモデルではなく，実際はもっと複雑なモデルを用いてフィットさせる．"
   ]
  },
  {
   "cell_type": "markdown",
   "metadata": {
    "slideshow": {
     "slide_type": "slide"
    }
   },
   "source": [
    "### 決定境界\n",
    "\n",
    "決定境界とは，2値分類のときの境界，すなわちどちらとも決定できない領域のこと  \n",
    "活性化関数がヘヴィサイド関数とシグモイド関数のときは $y=0.5$ となる $x$，  \n",
    "$\\tanh(x)$のときは $y=0$ となる $x$ である  \n",
    "（今は使わないが，ReLUの場合は $y>0$ か否かで分類するので，決定境界は $wx=b$ を満たす $x$）\n",
    "\n",
    "\n",
    "色々動かしてみるとわかる通り，決定境界はどの活性化関数のときも\n",
    "$$wx=b$$\n",
    "で与えられることがわかる．もし$w\\neq0$であれば\n",
    "$$x=\\frac bw$$\n",
    "が決定境界となるので，$b$と$w$の比だけを見ればよいことになる．  \n",
    "\n",
    "実際，$b=1.0$, $w=1.0$ のときと $b=2.0$, $w=2.0$ のときでは，  \n",
    "現れるグラフは変わるものの決定境界は変わらない．  \n",
    "\n",
    "特にヘヴィサイド関数のときは，グラフ自体も変わらず，  \n",
    "得られるモデルは $b/w$ のみに依存する．\n"
   ]
  },
  {
   "cell_type": "markdown",
   "metadata": {
    "slideshow": {
     "slide_type": "slide"
    }
   },
   "source": [
    "### Heaviside のパーセプトロンを書き換える\n",
    "\n",
    "簡単のため，活性化関数はヘヴィサイド関数だけに限定して，  \n",
    "$b/w$だけをパラメータとするモデルとして書き換えよう．  \n",
    "\n",
    "新しく\n",
    "$$\n",
    "s = \\frac bw\n",
    "$$\n",
    "とおくことにする．\n",
    "\n",
    "つまり\n",
    "$$\n",
    "y = f(x-s)\n",
    "$$\n",
    "という形でパーセプトロンを扱うことにする．"
   ]
  },
  {
   "cell_type": "code",
   "execution_count": null,
   "metadata": {
    "slideshow": {
     "slide_type": "skip"
    }
   },
   "outputs": [],
   "source": [
    "# 階段の段が上がる位置を変えて interactive に描画 \n",
    "def plot_perceptron1d_rev(s=1):\n",
    "    # 関数のグラフの描画用の点の数 N\n",
    "\n",
    "    \n",
    "    # 横軸データ x, 縦軸 y は Heaviside で\n",
    "\n",
    "    \n",
    "    # パーセプトロン関数の描画\n",
    "\n",
    "    \n",
    "# interact でパラメータを動かしてグラフを観察する\n",
    "\n"
   ]
  },
  {
   "cell_type": "markdown",
   "metadata": {
    "slideshow": {
     "slide_type": "slide"
    }
   },
   "source": [
    "### データフィッティング\n",
    "\n",
    "この入出力関係を用いてデータフィッティングしてみよう．"
   ]
  },
  {
   "cell_type": "code",
   "execution_count": null,
   "metadata": {
    "slideshow": {
     "slide_type": "skip"
    }
   },
   "outputs": [],
   "source": [
    "### フィッティングするデータの作成 ###\n",
    "# データサイズ\n",
    "\n",
    "\n",
    "# データサンプリング: 横軸 Xdata\n",
    "\n",
    "\n",
    "# 縦軸 Ydata はシグモイドにノイズを乗せたもの\n",
    "\n",
    "\n",
    "# 描画\n",
    "\n"
   ]
  },
  {
   "cell_type": "code",
   "execution_count": null,
   "metadata": {
    "slideshow": {
     "slide_type": "skip"
    }
   },
   "outputs": [],
   "source": [
    "# 階段の段が上がる位置を変えて interactive に描画 \n",
    "def plot_perceptron1d_withdata (s=1):\n",
    "    # 関数のグラフの描画用の点の数 N\n",
    "\n",
    "    \n",
    "    # 横軸データ x, 縦軸 y は Heaviside で\n",
    "\n",
    "    \n",
    "    # 関数のグラフの描画\n",
    "\n",
    "    \n",
    "    # データ散布図\n",
    "\n",
    "    \n",
    "    # パーセプトロンモデルによる出力値\n",
    "\n",
    "    \n",
    "    # Ydata と Ymodel の間の MSE\n",
    "\n",
    "    \n",
    "# interact でパラメータを動かしてグラフを観察する\n",
    "\n"
   ]
  },
  {
   "cell_type": "markdown",
   "metadata": {},
   "source": [
    "このデータはシグモイド関数を用いて作っているので，基本的に線形分離が可能なデータである．だからヘヴィサイドの活性化関数でもうまくいっている．  \n",
    "\n",
    "しかし当然ながら線形分離不可能なデータに対してこのモデルを適用してもデータの分類はできない．モデルを多層にする必要がある．"
   ]
  },
  {
   "cell_type": "markdown",
   "metadata": {},
   "source": [
    "---\n",
    "## <div style=\"text-align: right;\"><strong>ADCA2022_11-2_FunctionApproximation につづく</strong></div>"
   ]
  },
  {
   "cell_type": "code",
   "execution_count": null,
   "metadata": {},
   "outputs": [],
   "source": []
  }
 ],
 "metadata": {
  "hide_input": false,
  "kernelspec": {
   "display_name": "Python 3 (ipykernel)",
   "language": "python",
   "name": "python3"
  },
  "language_info": {
   "codemirror_mode": {
    "name": "ipython",
    "version": 3
   },
   "file_extension": ".py",
   "mimetype": "text/x-python",
   "name": "python",
   "nbconvert_exporter": "python",
   "pygments_lexer": "ipython3",
   "version": "3.9.7"
  }
 },
 "nbformat": 4,
 "nbformat_minor": 2
}
